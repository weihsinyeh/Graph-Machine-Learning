{
 "cells": [
  {
   "cell_type": "code",
   "execution_count": null,
   "id": "1b4e5026",
   "metadata": {},
   "outputs": [],
   "source": [
    "import numpy as np\n",
    "import torch\n",
    "import random\n",
    "import os\n",
    "import torch.nn as nn\n",
    "import torch.nn.functional as F"
   ]
  },
  {
   "cell_type": "code",
   "execution_count": null,
   "id": "6324dae1",
   "metadata": {},
   "outputs": [],
   "source": [
    "def set_seed(seed: int = 42) -> None:\n",
    "    np.random.seed(seed)\n",
    "    random.seed(seed)\n",
    "    torch.manual_seed(seed)\n",
    "    torch.cuda.manual_seed(seed)\n",
    "    # When running on the CuDNN backend, two further options must be set\n",
    "    torch.backends.cudnn.deterministic = True\n",
    "    torch.backends.cudnn.benchmark = False\n",
    "    # Set a fixed value for the hash seed\n",
    "    os.environ[\"PYTHONHASHSEED\"] = str(seed)\n",
    "    print(f\"Random seed set as {seed}\")\n",
    "\n",
    "set_seed(123)"
   ]
  },
  {
   "cell_type": "markdown",
   "id": "45d0e28f",
   "metadata": {},
   "source": [
    "## Task Definition\n",
    "You are given a matrix $X \\in \\mathbb{R}^{N\\times d}$, where a specific row $i$ is filled with 0.5 + 0.1*$\\epsilon$ vector, where $\\epsilon \\sim Uniform(0,1)$. <br>\n",
    "Your goal is to build a deep learning model to predict which row $i$ is the corresponding target row.\n"
   ]
  },
  {
   "cell_type": "markdown",
   "id": "2e91a088",
   "metadata": {},
   "source": [
    "## Data Preparation"
   ]
  },
  {
   "cell_type": "code",
   "execution_count": null,
   "id": "e53765db",
   "metadata": {},
   "outputs": [],
   "source": [
    "input_dim = 5\n",
    "num_data = 50\n",
    "\n",
    "def sample_single_data(num_samples: int, target_row: int):\n",
    "    '''\n",
    "    create single data.\n",
    "    Args:\n",
    "        num_samples: number of rows of the matrix\n",
    "        target_row: the target row with all -1 vector\n",
    "    Return:\n",
    "        X: output matrix\n",
    "        target_row: label\n",
    "    '''\n",
    "    X = np.random.uniform(size=(num_samples, input_dim))\n",
    "    X[target_row, :] = 0.5 + 0.1*np.random.uniform(size=input_dim) \n",
    "    X = torch.FloatTensor(X)\n",
    "    \n",
    "    return X, target_row\n",
    "\n",
    "def sample_batch(batch_size):\n",
    "    '''\n",
    "    create batch training data.\n",
    "    Args:\n",
    "        batch_size: the number of batches of a training data\n",
    "    Return:\n",
    "        batch_x: batch of matrix, shape = (batch, num_data, input_dim)\n",
    "        batch_y: label, shape = (batch)\n",
    "    '''\n",
    "    batch_x = []\n",
    "    batch_y = []\n",
    "    for _ in range(batch_size):\n",
    "        target_row = np.random.randint(num_data)\n",
    "        X,Y = sample_single_data(num_data, target_row)\n",
    "        batch_x.append(X.unsqueeze(0))\n",
    "        batch_y.append(Y)\n",
    "    batch_x = torch.cat(batch_x,dim=0)\n",
    "    batch_y = torch.LongTensor(batch_y)\n",
    "    \n",
    "    return batch_x, batch_y\n",
    "\n",
    "def evaluate(prediction, target):\n",
    "    accuracy = prediction.eq(target).float().mean()\n",
    "    return accuracy"
   ]
  },
  {
   "cell_type": "code",
   "execution_count": null,
   "id": "3c630dc8",
   "metadata": {},
   "outputs": [],
   "source": [
    "## sample one data for visualization\n",
    "x, y = sample_batch(5)\n",
    "print(x.shape)\n",
    "print(y.shape)\n",
    "print(x[0][:5])\n",
    "print(x[0][y])"
   ]
  },
  {
   "cell_type": "code",
   "execution_count": null,
   "id": "94601842",
   "metadata": {},
   "outputs": [],
   "source": [
    "# evaluation\n",
    "print(\"Target:\",y)\n",
    "prediction = torch.LongTensor([45,46,47,1,2])\n",
    "accuracy = evaluate(prediction, y)\n",
    "print(f\"Accuracy: {accuracy:.4f}\")"
   ]
  },
  {
   "cell_type": "markdown",
   "id": "9dd3f4e7",
   "metadata": {},
   "source": [
    "## Define your model"
   ]
  },
  {
   "cell_type": "code",
   "execution_count": null,
   "id": "586a08ea",
   "metadata": {},
   "outputs": [],
   "source": [
    "class MyModel(nn.Module):\n",
    "    def __init__(self):\n",
    "        super(MyModel, self).__init__()\n",
    "        # define your model here\n",
    "    def forward(self, inputs):\n",
    "        # implement forward function\n",
    "        \n",
    "        predictions = None\n",
    "        \n",
    "        return predictions"
   ]
  },
  {
   "cell_type": "markdown",
   "id": "502e2ec8",
   "metadata": {},
   "source": [
    "## Training and evaluate"
   ]
  },
  {
   "cell_type": "code",
   "execution_count": null,
   "id": "e80c8920",
   "metadata": {},
   "outputs": [],
   "source": [
    "model = None\n",
    "optimizer = None\n",
    "loss_function = None\n",
    "num_epochs = None\n",
    "training_batch_size = 32\n",
    "testing_data = sample_batch(1600)\n",
    "\n",
    "for epoch in num_epochs:\n",
    "    # sample training data\n",
    "    x,y = sample_batch(training_batch_size)\n",
    "    predictions = model(x)\n",
    "    loss = loss_function(predictions, y)\n",
    "    optimizer.zero_grad()\n",
    "    loss.backward()\n",
    "    optimizer.step()\n",
    "    if (epoch+1) % 10 == 0:\n",
    "        x, y = testing_data\n",
    "        predictions = model(x)\n",
    "        acc = evaluate(predictions, y)\n",
    "        print(f\"Acc: {acc.item(): .4f}\")\n"
   ]
  }
 ],
 "metadata": {
  "kernelspec": {
   "display_name": "py39",
   "language": "python",
   "name": "py39"
  },
  "language_info": {
   "codemirror_mode": {
    "name": "ipython",
    "version": 3
   },
   "file_extension": ".py",
   "mimetype": "text/x-python",
   "name": "python",
   "nbconvert_exporter": "python",
   "pygments_lexer": "ipython3",
   "version": "3.9.13"
  }
 },
 "nbformat": 4,
 "nbformat_minor": 5
}
