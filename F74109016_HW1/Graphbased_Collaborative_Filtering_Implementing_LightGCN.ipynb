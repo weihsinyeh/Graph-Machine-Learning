{
  "cells": [
    {
      "cell_type": "code",
      "execution_count": null,
      "id": "4748fb60",
      "metadata": {
        "colab": {
          "base_uri": "https://localhost:8080/"
        },
        "id": "4748fb60",
        "outputId": "e68fbb19-8566-4200-f151-6502184f7fa4"
      },
      "outputs": [
        {
          "output_type": "stream",
          "name": "stdout",
          "text": [
            "2.1.0+cu118\n",
            "\u001b[2K     \u001b[90m━━━━━━━━━━━━━━━━━━━━━━━━━━━━━━━━━━━━━━━━\u001b[0m \u001b[32m10.2/10.2 MB\u001b[0m \u001b[31m33.9 MB/s\u001b[0m eta \u001b[36m0:00:00\u001b[0m\n",
            "\u001b[2K     \u001b[90m━━━━━━━━━━━━━━━━━━━━━━━━━━━━━━━━━━━━━━━━\u001b[0m \u001b[32m4.9/4.9 MB\u001b[0m \u001b[31m25.4 MB/s\u001b[0m eta \u001b[36m0:00:00\u001b[0m\n",
            "\u001b[?25h  Installing build dependencies ... \u001b[?25l\u001b[?25hdone\n",
            "  Getting requirements to build wheel ... \u001b[?25l\u001b[?25hdone\n",
            "  Preparing metadata (pyproject.toml) ... \u001b[?25l\u001b[?25hdone\n",
            "  Building wheel for torch_geometric (pyproject.toml) ... \u001b[?25l\u001b[?25hdone\n",
            "  Preparing metadata (setup.py) ... \u001b[?25l\u001b[?25hdone\n",
            "  Building wheel for deepsnap (setup.py) ... \u001b[?25l\u001b[?25hdone\n"
          ]
        }
      ],
      "source": [
        "# Install required packages.\n",
        "import os\n",
        "import torch\n",
        "os.environ['TORCH'] = torch.__version__\n",
        "print(torch.__version__)\n",
        "\n",
        "!pip install -q torch-scatter -f https://data.pyg.org/whl/torch-${TORCH}.html\n",
        "!pip install -q torch-sparse -f https://data.pyg.org/whl/torch-${TORCH}.html\n",
        "!pip install -q git+https://github.com/pyg-team/pytorch_geometric.git\n",
        "!pip install -q git+https://github.com/snap-stanford/deepsnap.git\n",
        "!pip install -U -q PyDrive"
      ]
    },
    {
      "cell_type": "code",
      "execution_count": null,
      "id": "b32ad5aa",
      "metadata": {
        "id": "b32ad5aa"
      },
      "outputs": [],
      "source": [
        "# import required modules\n",
        "import random\n",
        "from tqdm import tqdm\n",
        "import pandas as pd\n",
        "import numpy as np\n",
        "import matplotlib.pyplot as plt\n",
        "from sklearn.model_selection import train_test_split\n",
        "\n",
        "import torch\n",
        "from torch import nn, optim, Tensor\n",
        "import torch.nn.functional as F\n",
        "\n",
        "from torch_sparse import SparseTensor, matmul\n",
        "\n",
        "from torch_geometric.utils import structured_negative_sampling, add_self_loops\n",
        "from torch_geometric.data import download_url, extract_zip\n",
        "from torch_geometric.nn.conv.gcn_conv import gcn_norm\n",
        "from torch_geometric.nn.conv import MessagePassing\n",
        "from torch_geometric.typing import Adj"
      ]
    },
    {
      "cell_type": "code",
      "execution_count": null,
      "id": "b44359c2",
      "metadata": {
        "colab": {
          "base_uri": "https://localhost:8080/"
        },
        "id": "b44359c2",
        "outputId": "69c0be44-5e55-45b2-8a94-a8ad241490bc"
      },
      "outputs": [
        {
          "output_type": "stream",
          "name": "stderr",
          "text": [
            "Downloading https://files.grouplens.org/datasets/movielens/ml-latest-small.zip\n",
            "Extracting ./ml-latest-small.zip\n"
          ]
        }
      ],
      "source": [
        "# download the dataset\n",
        "url = 'https://files.grouplens.org/datasets/movielens/ml-latest-small.zip'\n",
        "extract_zip(download_url(url, '.'), '.')\n",
        "\n",
        "movie_path = './ml-latest-small/movies.csv'\n",
        "rating_path = './ml-latest-small/ratings.csv'"
      ]
    },
    {
      "cell_type": "code",
      "execution_count": null,
      "id": "db1244d9",
      "metadata": {
        "id": "db1244d9"
      },
      "outputs": [],
      "source": [
        "# load user and movie nodes\n",
        "def load_node_csv(path, index_col):\n",
        "    \"\"\"Loads csv containing node information\n",
        "\n",
        "    Args:\n",
        "        path (str): path to csv file\n",
        "        index_col (str): column name of index column\n",
        "\n",
        "    Returns:\n",
        "        dict: mapping of csv row to node id\n",
        "    \"\"\"\n",
        "    df = pd.read_csv(path, index_col=index_col)\n",
        "\n",
        "    # assign unique index for each user/movie\n",
        "    mapping = {index: i for i, index in enumerate(df.index.unique())}\n",
        "    return mapping\n",
        "\n",
        "\n",
        "user_mapping = load_node_csv(rating_path, index_col='userId')\n",
        "movie_mapping = load_node_csv(movie_path, index_col='movieId')"
      ]
    },
    {
      "cell_type": "code",
      "execution_count": null,
      "id": "fe36f0d5",
      "metadata": {
        "id": "fe36f0d5"
      },
      "outputs": [],
      "source": [
        "# load edges between users and movies\n",
        "def load_edge_csv(path, src_index_col, src_mapping, dst_index_col, dst_mapping, link_index_col, rating_threshold=4):\n",
        "    \"\"\"Loads csv containing edges between users and items\n",
        "\n",
        "    Args:\n",
        "        path (str): path to csv file\n",
        "        src_index_col (str): column name of users\n",
        "        src_mapping (dict): mapping between row number and user id\n",
        "        dst_index_col (str): column name of items\n",
        "        dst_mapping (dict): mapping between row number and item id\n",
        "        link_index_col (str): column name of user item interaction\n",
        "        rating_threshold (int, optional): Threshold to determine positivity of edge. Defaults to 4.\n",
        "\n",
        "    Returns:\n",
        "        torch.Tensor: 2 by N matrix containing the node ids of N user-item edges\n",
        "    \"\"\"\n",
        "    df = pd.read_csv(path)\n",
        "    edge_index = None\n",
        "    src = [src_mapping[index] for index in df[src_index_col]]\n",
        "    dst = [dst_mapping[index] for index in df[dst_index_col]]\n",
        "    edge_attr = torch.from_numpy(df[link_index_col].values).view(-1, 1).to(torch.long) >= rating_threshold\n",
        "\n",
        "\n",
        "    edge_index = [[], []]\n",
        "    for i in range(edge_attr.shape[0]):\n",
        "        if edge_attr[i]:\n",
        "            edge_index[0].append(src[i])\n",
        "            edge_index[1].append(dst[i])\n",
        "\n",
        "    return torch.tensor(edge_index)\n",
        "\n",
        "\n",
        "edge_index = load_edge_csv(\n",
        "    rating_path,\n",
        "    src_index_col='userId',\n",
        "    src_mapping=user_mapping,\n",
        "    dst_index_col='movieId',\n",
        "    dst_mapping=movie_mapping,\n",
        "    link_index_col='rating',\n",
        "    rating_threshold=4,\n",
        ")"
      ]
    },
    {
      "cell_type": "code",
      "execution_count": null,
      "id": "3f11250d",
      "metadata": {
        "id": "3f11250d"
      },
      "outputs": [],
      "source": [
        "# split the edges of the graph using a 80/10/10 train/validation/test split\n",
        "num_users, num_movies = len(user_mapping), len(movie_mapping)\n",
        "num_interactions = edge_index.shape[1]\n",
        "all_indices = [i for i in range(num_interactions)]\n",
        "\n",
        "train_indices, test_indices = train_test_split(\n",
        "    all_indices, test_size=0.2, random_state=1)\n",
        "val_indices, test_indices = train_test_split(\n",
        "    test_indices, test_size=0.5, random_state=1)\n",
        "\n",
        "train_edge_index = edge_index[:, train_indices]\n",
        "val_edge_index = edge_index[:, val_indices]\n",
        "test_edge_index = edge_index[:, test_indices]"
      ]
    },
    {
      "cell_type": "code",
      "execution_count": null,
      "id": "b0f7c866",
      "metadata": {
        "id": "b0f7c866"
      },
      "outputs": [],
      "source": [
        "# convert edge indices into Sparse Tensors: https://pytorch-geometric.readthedocs.io/en/latest/notes/sparse_tensor.html\n",
        "train_sparse_edge_index = SparseTensor(row=train_edge_index[0], col=train_edge_index[1], sparse_sizes=(\n",
        "    num_users + num_movies, num_users + num_movies))\n",
        "val_sparse_edge_index = SparseTensor(row=val_edge_index[0], col=val_edge_index[1], sparse_sizes=(\n",
        "    num_users + num_movies, num_users + num_movies))\n",
        "test_sparse_edge_index = SparseTensor(row=test_edge_index[0], col=test_edge_index[1], sparse_sizes=(\n",
        "    num_users + num_movies, num_users + num_movies))"
      ]
    },
    {
      "cell_type": "code",
      "execution_count": null,
      "id": "0ef229e6",
      "metadata": {
        "id": "0ef229e6"
      },
      "outputs": [],
      "source": [
        "# function which random samples a mini-batch of positive and negative samples\n",
        "def sample_mini_batch(batch_size, edge_index):\n",
        "    \"\"\"Randomly samples indices of a minibatch given an adjacency matrix\n",
        "\n",
        "    Args:\n",
        "        batch_size (int): minibatch size\n",
        "        edge_index (torch.Tensor): 2 by N list of edges\n",
        "\n",
        "    Returns:\n",
        "        tuple: user indices, positive item indices, negative item indices\n",
        "    \"\"\"\n",
        "    edges = structured_negative_sampling(edge_index)\n",
        "    edges = torch.stack(edges, dim=0)\n",
        "    indices = random.choices(\n",
        "        [i for i in range(edges[0].shape[0])], k=batch_size)\n",
        "    batch = edges[:, indices]\n",
        "    user_indices, pos_item_indices, neg_item_indices = batch[0], batch[1], batch[2]\n",
        "    return user_indices, pos_item_indices, neg_item_indices"
      ]
    },
    {
      "cell_type": "markdown",
      "id": "f4175a90",
      "metadata": {
        "id": "f4175a90"
      },
      "source": [
        "# Implementing NGCF\n",
        "\n",
        "## High-order Propagation in NGCF\n",
        "Between each layer, NGCF uses the following propagation rule for user and item embeddings.\n",
        "\n",
        "\\begin{equation}\n",
        "e_u^{(k)} = LeakyReLU \\left(  m^{(k)}_{u \\leftarrow u}  + \\sum_{i\\in N_u}   m^{(k)}_{u \\leftarrow i} \\right)\\\\\n",
        "m^{(k)}_{u \\leftarrow u} = W_1^{(k)}e_u^{(k-1)},\\\\\n",
        "m^{(k)}_{u \\leftarrow i} = \\frac{1}{\\sqrt{|N_u||N_i|}} \\left( W_1^{(k)}e_i^{(k-1)} + W_2^{(k)} \\left( e_i^{(k-1)} \\odot e_u^{(k-1)} \\right)  \\right)\n",
        "\\end{equation}\n",
        "\n",
        "$N_u$: the set of all neighbors of user $u$ (items liked by $u$)\n",
        "\n",
        "$N_i$: the set of all neighbors of item $i$ (users who liked $i$)\n",
        "\n",
        "$e_u^{(k)}$ : k-th layer user embedding\n",
        "\n",
        "$e_i^{(k)}$ : k-th layer item embedding\n",
        "\n",
        "\n",
        "\n",
        "## Layer Combination and Model Prediction\n",
        "We combine the embeddings obtained at each layer of propagation to form the final embeddings for all user and item, $e_u$ and $e_i$ via the follwing equation.\n",
        "\n",
        "\n",
        "\\begin{equation}\n",
        "e_u = e_u^{(0)} || \\cdots || e_u^{(K)} \\quad e_i = e_i^{(0)} || \\cdots || e_i^{(K)}\n",
        "\\end{equation}\n",
        "\n",
        "$||$ : denotes the concatenate operation\n",
        "\n",
        "The model prediction is obtained by taking the inner product of the final user and item embeddings.\n",
        "\n",
        "\\begin{equation}\n",
        "\\hat{y}_{ui} = e_u^Te_i\n",
        "\\end{equation}\n",
        "\n"
      ]
    },
    {
      "cell_type": "code",
      "execution_count": null,
      "id": "f987b0c5",
      "metadata": {
        "id": "f987b0c5"
      },
      "outputs": [],
      "source": [
        "# defines NGCF model\n",
        "class NGCF(MessagePassing):\n",
        "    def __init__(self, num_users, num_items, embedding_dim=64, K=3, add_self_loops=False):\n",
        "        \"\"\"Initializes NGCF Model\n",
        "\n",
        "        Args:\n",
        "            num_users (int): Number of users\n",
        "            num_items (int): Number of items\n",
        "            embedding_dim (int, optional): Dimensionality of embeddings. Defaults to 8.\n",
        "            K (int, optional): Number of message passing layers. Defaults to 3.\n",
        "            add_self_loops (bool, optional): Whether to add self loops for message passing. Defaults to False.\n",
        "        \"\"\"\n",
        "        super().__init__()\n",
        "        self.num_users, self.num_items = num_users, num_items\n",
        "        self.embedding_dim, self.K = embedding_dim, K\n",
        "        self.add_self_loops = add_self_loops\n",
        "\n",
        "        self.users_emb = nn.Embedding(\n",
        "            num_embeddings=self.num_users, embedding_dim=self.embedding_dim) # e_u^0\n",
        "        self.items_emb = nn.Embedding(\n",
        "            num_embeddings=self.num_items, embedding_dim=self.embedding_dim) # e_i^0\n",
        "        self.W1_list = nn.ModuleList([nn.Linear(self.embedding_dim,self.embedding_dim,bias=False) for _ in range(K)])\n",
        "        self.W2_list = nn.ModuleList([nn.Linear(self.embedding_dim,self.embedding_dim,bias=False) for _ in range(K)])\n",
        "\n",
        "    def forward(self, edge_index: SparseTensor):\n",
        "        \"\"\"Forward propagation of NGCF Model.\n",
        "\n",
        "        Args:\n",
        "            edge_index (SparseTensor): adjacency matrix\n",
        "\n",
        "        Returns:\n",
        "            tuple (Tensor): e_u_k, e_i_k\n",
        "        \"\"\"\n",
        "        # compute \\tilde{A}: symmetrically normalized adjacency matrix\n",
        "        edge_index_norm = gcn_norm(\n",
        "            edge_index, add_self_loops=self.add_self_loops)\n",
        "\n",
        "        emb_0 = torch.cat([self.users_emb.weight, self.items_emb.weight]) # E^0\n",
        "        embs = [emb_0]\n",
        "        emb_k = emb_0\n",
        "\n",
        "        # multi-scale diffusion\n",
        "        for i in range(self.K):\n",
        "            emb_k = self.propagate(edge_index_norm, x=emb_k, K=i) + self.W1_list[i](emb_k)\n",
        "            emb_k = F.leaky_relu(emb_k)\n",
        "            embs.append(emb_k)\n",
        "\n",
        "        emb_final = torch.cat(embs, dim=1) # E^K\n",
        "\n",
        "        users_emb_final, items_emb_final = torch.split(\n",
        "            emb_final, [self.num_users, self.num_items]) # splits into e_u^K and e_i^K\n",
        "\n",
        "        # returns e_u^K, e_u^0, e_i^K, e_i^0\n",
        "        return users_emb_final, items_emb_final\n",
        "\n",
        "    def message(self, x_i: Tensor, x_j: Tensor, K: int ) -> Tensor:\n",
        "        return self.W1_list[K](x_i) + self.W2_list[K](x_i * x_j)\n",
        "\n",
        "    def message_and_aggregate(self, adj_t: SparseTensor, x: Tensor) -> Tensor:\n",
        "        # computes \\tilde{A} @ x\n",
        "        return matmul(adj_t, x)"
      ]
    },
    {
      "cell_type": "markdown",
      "id": "bf57e1f8",
      "metadata": {
        "id": "bf57e1f8"
      },
      "source": [
        "# Loss Function\n",
        "\n",
        "\n",
        "\n",
        "We utilize a Bayesian Personalized Ranking (BPR) loss, a pairwise objective which encourages the predictions of positive samples to be higher than negative samples for each user.\n",
        "\n",
        "\\begin{equation}\n",
        "L_{BPR} = -\\sum_{u = 1}^M \\sum_{i \\in N_u} \\sum_{j \\notin N_u} \\ln{\\sigma(\\hat{y}_{ui} - \\hat{y}_{uj})} + \\lambda ||E^{(0)}||^2\n",
        "\\end{equation}\n",
        "\n",
        "$\\hat{y}_{u}$: predicted score of a positive sample\n",
        "\n",
        "$\\hat{y}_{uj}$: predicted score of a negative sample\n",
        "\n",
        "$\\lambda$: hyperparameter which controls the L2 regularization strength"
      ]
    },
    {
      "cell_type": "code",
      "execution_count": null,
      "id": "38d4531c",
      "metadata": {
        "id": "38d4531c"
      },
      "outputs": [],
      "source": [
        "def bpr_loss(users_emb_final, pos_items_emb_final, neg_items_emb_final):\n",
        "    \"\"\"Bayesian Personalized Ranking Loss as described in https://arxiv.org/abs/1205.2618\n",
        "\n",
        "    Args:\n",
        "        users_emb_final (torch.Tensor): e_u_k\n",
        "        pos_items_emb_final (torch.Tensor): positive e_i_k\n",
        "        neg_items_emb_final (torch.Tensor): negative e_i_k\n",
        "\n",
        "    Returns:\n",
        "        torch.Tensor: scalar bpr loss value\n",
        "    \"\"\"\n",
        "\n",
        "    pos_scores = torch.mul(users_emb_final, pos_items_emb_final)\n",
        "    pos_scores = torch.sum(pos_scores, dim=-1) # predicted scores of positive samples\n",
        "    neg_scores = torch.mul(users_emb_final, neg_items_emb_final)\n",
        "    neg_scores = torch.sum(neg_scores, dim=-1) # predicted scores of negative samples\n",
        "\n",
        "    loss = -torch.mean(torch.log(torch.sigmoid(pos_scores - neg_scores)))\n",
        "\n",
        "    return loss"
      ]
    },
    {
      "cell_type": "markdown",
      "id": "1b50a85c",
      "metadata": {
        "id": "1b50a85c"
      },
      "source": [
        "# Evaluation Metrics\n",
        "\n",
        "We evalaluate our model using the following metrics\n",
        "\n",
        "\\begin{equation}\n",
        "\\text{Recall} = \\frac{TP}{TP + FP}\n",
        "\\end{equation}\n",
        "\n",
        "\\begin{equation}\n",
        "\\text{Precision} = \\frac{TP}{TP + FN}\n",
        "\\end{equation}\n",
        "\n",
        "**Dicounted Cumulative Gain (DCG)** at rank position p is defined as:\n",
        "\n",
        "\\begin{equation}\n",
        "\\text{DCG}_\\text{p} = \\sum_{i = 1}^p \\frac{2^{rel_i} - 1}{\\log_2{(i + 1)}}\n",
        "\\end{equation}\n",
        "\n",
        "p: a particular rank position\n",
        "\n",
        "$rel_i \\in \\{0, 1\\}$ : graded relevance of the result at position $i$\n",
        "\n",
        "**Idealised Dicounted Cumulative Gain (IDCG)**, namely the maximum possible DCG, at rank position $p$ is defined as:\n",
        "\n",
        "\\begin{equation}\n",
        "\\text{IDCG}_\\text{p} = \\sum_{i = 1}^{|REL_p|} \\frac{2^{rel_i} - 1}{\\log_2{(i + 1)}}\n",
        "\\end{equation}\n",
        "\n",
        "$|REL_p|$ : list of items ordered by their relevance up to position p\n",
        "\n",
        "**Normalized Dicounted Cumulative Gain (NDCG)** at rank position $p$ is defined as:\n",
        "\n",
        "\\begin{equation}\n",
        "\\text{nDCG}_\\text{p} = \\frac{\\text{DCG}_p}{\\text{nDCG}_p}\n",
        "\\end{equation}\n",
        "\n",
        "Specifically, we use the metrics recall@K, precision@K, and NDCG@K. @K indicates that these metrics are computed on the top K recommendations."
      ]
    },
    {
      "cell_type": "code",
      "execution_count": null,
      "id": "fffb4e33",
      "metadata": {
        "id": "fffb4e33"
      },
      "outputs": [],
      "source": [
        "# helper function to get N_u\n",
        "def get_user_positive_items(edge_index):\n",
        "    \"\"\"Generates dictionary of positive items for each user\n",
        "\n",
        "    Args:\n",
        "        edge_index (torch.Tensor): 2 by N list of edges\n",
        "\n",
        "    Returns:\n",
        "        dict: dictionary of positive items for each user\n",
        "    \"\"\"\n",
        "    user_pos_items = {}\n",
        "    for i in range(edge_index.shape[1]):\n",
        "        user = edge_index[0][i].item()\n",
        "        item = edge_index[1][i].item()\n",
        "        if user not in user_pos_items:\n",
        "            user_pos_items[user] = []\n",
        "        user_pos_items[user].append(item)\n",
        "    return user_pos_items"
      ]
    },
    {
      "cell_type": "code",
      "execution_count": null,
      "id": "8fe36cb8",
      "metadata": {
        "id": "8fe36cb8"
      },
      "outputs": [],
      "source": [
        "# computes recall@K and precision@K\n",
        "def RecallPrecision_ATk(groundTruth, r, k):\n",
        "    \"\"\"Computers recall @ k and precision @ k\n",
        "\n",
        "    Args:\n",
        "        groundTruth (list): list of lists containing highly rated items of each user\n",
        "        r (list): list of lists indicating whether each top k item recommended to each user\n",
        "            is a top k ground truth item or not\n",
        "        k (intg): determines the top k items to compute precision and recall on\n",
        "\n",
        "    Returns:\n",
        "        tuple: recall @ k, precision @ k\n",
        "    \"\"\"\n",
        "    num_correct_pred = torch.sum(r, dim=-1)  # number of correctly predicted items per user\n",
        "    # number of items liked by each user in the test set\n",
        "    user_num_liked = torch.Tensor([len(groundTruth[i])\n",
        "                                  for i in range(len(groundTruth))])\n",
        "    recall = torch.mean(num_correct_pred / user_num_liked)\n",
        "    precision = torch.mean(num_correct_pred) / k\n",
        "    return recall.item(), precision.item()"
      ]
    },
    {
      "cell_type": "code",
      "execution_count": null,
      "id": "54a08bd3",
      "metadata": {
        "id": "54a08bd3"
      },
      "outputs": [],
      "source": [
        "# computes NDCG@K\n",
        "def NDCGatK_r(groundTruth, r, k):\n",
        "    \"\"\"Computes Normalized Discounted Cumulative Gain (NDCG) @ k\n",
        "\n",
        "    Args:\n",
        "        groundTruth (list): list of lists containing highly rated items of each user\n",
        "        r (list): list of lists indicating whether each top k item recommended to each user\n",
        "            is a top k ground truth item or not\n",
        "        k (int): determines the top k items to compute ndcg on\n",
        "\n",
        "    Returns:\n",
        "        float: ndcg @ k\n",
        "    \"\"\"\n",
        "    assert len(r) == len(groundTruth)\n",
        "\n",
        "    test_matrix = torch.zeros((len(r), k))\n",
        "\n",
        "    for i, items in enumerate(groundTruth):\n",
        "        length = min(len(items), k)\n",
        "        test_matrix[i, :length] = 1\n",
        "    max_r = test_matrix\n",
        "    idcg = torch.sum(max_r * 1. / torch.log2(torch.arange(2, k + 2)), axis=1)\n",
        "    dcg = r * (1. / torch.log2(torch.arange(2, k + 2)))\n",
        "    dcg = torch.sum(dcg, axis=1)\n",
        "    idcg[idcg == 0.] = 1.\n",
        "    ndcg = dcg / idcg\n",
        "    ndcg[torch.isnan(ndcg)] = 0.\n",
        "    return torch.mean(ndcg).item()"
      ]
    },
    {
      "cell_type": "code",
      "execution_count": null,
      "id": "eb3fcb5d",
      "metadata": {
        "id": "eb3fcb5d"
      },
      "outputs": [],
      "source": [
        "# wrapper function to get evaluation metrics\n",
        "def get_metrics(user_embedding, item_embedding, edge_index, exclude_edge_indices, k):\n",
        "    \"\"\"Computes the evaluation metrics: recall, precision, and ndcg @ k\n",
        "\n",
        "    Args:\n",
        "        model (LighGCN): lightgcn model\n",
        "        edge_index (torch.Tensor): 2 by N list of edges for split to evaluate\n",
        "        exclude_edge_indices ([type]): 2 by N list of edges for split to discount from evaluation\n",
        "        k (int): determines the top k items to compute metrics on\n",
        "\n",
        "    Returns:\n",
        "        tuple: recall @ k, precision @ k, ndcg @ k\n",
        "    \"\"\"\n",
        "\n",
        "    # get ratings between every user and item - shape is num users x num movies\n",
        "    rating = torch.matmul(user_embedding, item_embedding.T)\n",
        "\n",
        "    for exclude_edge_index in exclude_edge_indices:\n",
        "        # gets all the positive items for each user from the edge index\n",
        "        user_pos_items = get_user_positive_items(exclude_edge_index)\n",
        "        # get coordinates of all edges to exclude\n",
        "        exclude_users = []\n",
        "        exclude_items = []\n",
        "        for user, items in user_pos_items.items():\n",
        "            exclude_users.extend([user] * len(items))\n",
        "            exclude_items.extend(items)\n",
        "\n",
        "        # set ratings of excluded edges to large negative value\n",
        "        rating[exclude_users, exclude_items] = -(1 << 10)\n",
        "\n",
        "    # get the top k recommended items for each user\n",
        "    _, top_K_items = torch.topk(rating, k=k)\n",
        "\n",
        "    # get all unique users in evaluated split\n",
        "    users = edge_index[0].unique()\n",
        "\n",
        "    test_user_pos_items = get_user_positive_items(edge_index)\n",
        "\n",
        "    # convert test user pos items dictionary into a list\n",
        "    test_user_pos_items_list = [\n",
        "        test_user_pos_items[user.item()] for user in users]\n",
        "\n",
        "    # determine the correctness of topk predictions\n",
        "    r = []\n",
        "    for user in users:\n",
        "        ground_truth_items = test_user_pos_items[user.item()]\n",
        "        label = list(map(lambda x: x in ground_truth_items, top_K_items[user]))\n",
        "        r.append(label)\n",
        "    r = torch.Tensor(np.array(r).astype('float'))\n",
        "\n",
        "    recall, precision = RecallPrecision_ATk(test_user_pos_items_list, r, k)\n",
        "    ndcg = NDCGatK_r(test_user_pos_items_list, r, k)\n",
        "\n",
        "    return recall, precision, ndcg"
      ]
    },
    {
      "cell_type": "code",
      "execution_count": null,
      "id": "35863d6a",
      "metadata": {
        "id": "35863d6a"
      },
      "outputs": [],
      "source": [
        "# wrapper function to evaluate model\n",
        "def evaluation(model, edge_index, sparse_edge_index, exclude_edge_indices, k):\n",
        "    \"\"\"Evaluates model loss and metrics including recall, precision, ndcg @ k\n",
        "\n",
        "    Args:\n",
        "        model (LighGCN): lightgcn model\n",
        "        edge_index (torch.Tensor): 2 by N list of edges for split to evaluate\n",
        "        sparse_edge_index (sparseTensor): sparse adjacency matrix for split to evaluate\n",
        "        exclude_edge_indices ([type]): 2 by N list of edges for split to discount from evaluation\n",
        "        k (int): determines the top k items to compute metrics on\n",
        "        lambda_val (float): determines lambda for bpr loss\n",
        "\n",
        "    Returns:\n",
        "        tuple: bpr loss, recall @ k, precision @ k, ndcg @ k\n",
        "    \"\"\"\n",
        "    # get embeddings\n",
        "    #users_emb_final, items_emb_final = model.forward(sparse_edge_index)\n",
        "    users_emb_final, items_emb_final = model.users_emb.weight, model.items_emb.weight\n",
        "    edges = structured_negative_sampling(\n",
        "        edge_index, contains_neg_self_loops=False)\n",
        "\n",
        "    # indices\n",
        "    user_indices, pos_item_indices, neg_item_indices = edges[0], edges[1], edges[2]\n",
        "    users_emb_final = users_emb_final[user_indices]\n",
        "    pos_items_emb_final = items_emb_final[pos_item_indices]\n",
        "    neg_items_emb_final = items_emb_final[neg_item_indices]\n",
        "\n",
        "    loss = bpr_loss(users_emb_final, pos_items_emb_final,neg_items_emb_final).item()\n",
        "\n",
        "    recall, precision, ndcg = get_metrics(\n",
        "        users_emb_final, items_emb_final, edge_index, exclude_edge_indices, k)\n",
        "\n",
        "    return loss, recall, precision, ndcg"
      ]
    },
    {
      "cell_type": "markdown",
      "id": "dd9e9e16",
      "metadata": {
        "id": "dd9e9e16"
      },
      "source": [
        "# Training\n",
        "\n",
        "Your test set performance should be in line with the following (*K=20*):"
      ]
    },
    {
      "cell_type": "code",
      "execution_count": null,
      "id": "ef072d84",
      "metadata": {
        "id": "ef072d84"
      },
      "outputs": [],
      "source": [
        "# define contants\n",
        "ITERATIONS = 10000\n",
        "BATCH_SIZE = 1024\n",
        "LR = 1e-3\n",
        "ITERS_PER_EVAL = 200\n",
        "ITERS_PER_LR_DECAY = 200\n",
        "K = 20\n",
        "LAMBDA = 1e-6\n",
        "DIM = 32"
      ]
    },
    {
      "cell_type": "code",
      "execution_count": null,
      "id": "30fc7342",
      "metadata": {
        "colab": {
          "base_uri": "https://localhost:8080/"
        },
        "id": "30fc7342",
        "outputId": "1fed9458-1ae1-4d9f-92c0-6572a844405e"
      },
      "outputs": [
        {
          "output_type": "stream",
          "name": "stdout",
          "text": [
            "Using device cpu.\n"
          ]
        }
      ],
      "source": [
        "# setup\n",
        "device = torch.device('cuda' if torch.cuda.is_available() else 'cpu')\n",
        "print(f\"Using device {device}.\")\n",
        "\n",
        "model = NGCF(num_users, num_movies,embedding_dim=DIM)\n",
        "model = model.to(device)\n",
        "model.train()\n",
        "\n",
        "# initialize parameters\n",
        "for p in model.parameters():\n",
        "    if p.dim() > 1:\n",
        "        nn.init.xavier_uniform_(p)\n",
        "\n",
        "optimizer = optim.Adam(model.parameters(), lr=LR, weight_decay=LAMBDA)\n",
        "scheduler = optim.lr_scheduler.ExponentialLR(optimizer, gamma=0.95)\n",
        "\n",
        "edge_index = edge_index.to(device)\n",
        "train_edge_index = train_edge_index.to(device)\n",
        "train_sparse_edge_index = train_sparse_edge_index.to(device)\n",
        "\n",
        "val_edge_index = val_edge_index.to(device)\n",
        "val_sparse_edge_index = val_sparse_edge_index.to(device)"
      ]
    },
    {
      "cell_type": "code",
      "execution_count": null,
      "id": "d24d235b",
      "metadata": {
        "colab": {
          "base_uri": "https://localhost:8080/"
        },
        "id": "d24d235b",
        "outputId": "3ee5325c-b48b-40bd-8b0c-123aa447b70d"
      },
      "outputs": [
        {
          "output_type": "stream",
          "name": "stdout",
          "text": [
            "[Iteration 0/10000] train_loss: 0.6931, val_loss: 0.6931, val_recall@20: 0.0013, val_precision@20: 0.0007, val_ndcg@20: 0.0010\n",
            "[Iteration 200/10000] train_loss: 0.2392, val_loss: 0.6855, val_recall@20: 0.0521, val_precision@20: 0.0177, val_ndcg@20: 0.0379\n",
            "[Iteration 400/10000] train_loss: 0.2029, val_loss: 0.6844, val_recall@20: 0.0409, val_precision@20: 0.0162, val_ndcg@20: 0.0323\n",
            "[Iteration 600/10000] train_loss: 0.1862, val_loss: 0.6838, val_recall@20: 0.0401, val_precision@20: 0.0142, val_ndcg@20: 0.0300\n",
            "[Iteration 800/10000] train_loss: 0.1655, val_loss: 0.6822, val_recall@20: 0.0401, val_precision@20: 0.0131, val_ndcg@20: 0.0285\n",
            "[Iteration 1000/10000] train_loss: 0.1506, val_loss: 0.6816, val_recall@20: 0.0356, val_precision@20: 0.0125, val_ndcg@20: 0.0256\n",
            "[Iteration 1200/10000] train_loss: 0.1531, val_loss: 0.6801, val_recall@20: 0.0354, val_precision@20: 0.0114, val_ndcg@20: 0.0236\n",
            "[Iteration 1400/10000] train_loss: 0.1554, val_loss: 0.6793, val_recall@20: 0.0281, val_precision@20: 0.0103, val_ndcg@20: 0.0193\n",
            "[Iteration 1600/10000] train_loss: 0.1364, val_loss: 0.6781, val_recall@20: 0.0282, val_precision@20: 0.0107, val_ndcg@20: 0.0190\n",
            "[Iteration 1800/10000] train_loss: 0.1426, val_loss: 0.6772, val_recall@20: 0.0274, val_precision@20: 0.0107, val_ndcg@20: 0.0206\n",
            "[Iteration 2000/10000] train_loss: 0.1230, val_loss: 0.6772, val_recall@20: 0.0255, val_precision@20: 0.0108, val_ndcg@20: 0.0194\n",
            "[Iteration 2200/10000] train_loss: 0.1019, val_loss: 0.6763, val_recall@20: 0.0223, val_precision@20: 0.0096, val_ndcg@20: 0.0164\n",
            "[Iteration 2400/10000] train_loss: 0.0936, val_loss: 0.6760, val_recall@20: 0.0208, val_precision@20: 0.0097, val_ndcg@20: 0.0163\n",
            "[Iteration 2600/10000] train_loss: 0.0758, val_loss: 0.6747, val_recall@20: 0.0229, val_precision@20: 0.0097, val_ndcg@20: 0.0160\n",
            "[Iteration 2800/10000] train_loss: 0.0823, val_loss: 0.6748, val_recall@20: 0.0194, val_precision@20: 0.0090, val_ndcg@20: 0.0150\n",
            "[Iteration 3000/10000] train_loss: 0.0793, val_loss: 0.6756, val_recall@20: 0.0192, val_precision@20: 0.0084, val_ndcg@20: 0.0142\n",
            "[Iteration 3200/10000] train_loss: 0.0919, val_loss: 0.6746, val_recall@20: 0.0197, val_precision@20: 0.0085, val_ndcg@20: 0.0148\n",
            "[Iteration 3400/10000] train_loss: 0.0826, val_loss: 0.6742, val_recall@20: 0.0178, val_precision@20: 0.0084, val_ndcg@20: 0.0141\n",
            "[Iteration 3600/10000] train_loss: 0.0789, val_loss: 0.6745, val_recall@20: 0.0185, val_precision@20: 0.0084, val_ndcg@20: 0.0137\n",
            "[Iteration 3800/10000] train_loss: 0.0847, val_loss: 0.6738, val_recall@20: 0.0169, val_precision@20: 0.0080, val_ndcg@20: 0.0132\n",
            "[Iteration 4000/10000] train_loss: 0.0661, val_loss: 0.6741, val_recall@20: 0.0165, val_precision@20: 0.0079, val_ndcg@20: 0.0128\n",
            "[Iteration 4200/10000] train_loss: 0.0732, val_loss: 0.6739, val_recall@20: 0.0181, val_precision@20: 0.0082, val_ndcg@20: 0.0124\n",
            "[Iteration 4400/10000] train_loss: 0.0692, val_loss: 0.6743, val_recall@20: 0.0148, val_precision@20: 0.0079, val_ndcg@20: 0.0119\n",
            "[Iteration 4600/10000] train_loss: 0.0804, val_loss: 0.6736, val_recall@20: 0.0154, val_precision@20: 0.0074, val_ndcg@20: 0.0121\n",
            "[Iteration 4800/10000] train_loss: 0.0628, val_loss: 0.6738, val_recall@20: 0.0146, val_precision@20: 0.0073, val_ndcg@20: 0.0117\n",
            "[Iteration 5000/10000] train_loss: 0.0784, val_loss: 0.6732, val_recall@20: 0.0163, val_precision@20: 0.0079, val_ndcg@20: 0.0120\n",
            "[Iteration 5200/10000] train_loss: 0.0747, val_loss: 0.6730, val_recall@20: 0.0132, val_precision@20: 0.0068, val_ndcg@20: 0.0102\n",
            "[Iteration 5400/10000] train_loss: 0.0649, val_loss: 0.6727, val_recall@20: 0.0144, val_precision@20: 0.0071, val_ndcg@20: 0.0111\n",
            "[Iteration 5600/10000] train_loss: 0.0527, val_loss: 0.6738, val_recall@20: 0.0152, val_precision@20: 0.0074, val_ndcg@20: 0.0111\n",
            "[Iteration 5800/10000] train_loss: 0.0593, val_loss: 0.6732, val_recall@20: 0.0145, val_precision@20: 0.0069, val_ndcg@20: 0.0106\n",
            "[Iteration 6000/10000] train_loss: 0.0584, val_loss: 0.6738, val_recall@20: 0.0135, val_precision@20: 0.0069, val_ndcg@20: 0.0097\n",
            "[Iteration 6200/10000] train_loss: 0.0588, val_loss: 0.6739, val_recall@20: 0.0142, val_precision@20: 0.0069, val_ndcg@20: 0.0101\n",
            "[Iteration 6400/10000] train_loss: 0.0609, val_loss: 0.6738, val_recall@20: 0.0133, val_precision@20: 0.0068, val_ndcg@20: 0.0097\n",
            "[Iteration 6600/10000] train_loss: 0.0594, val_loss: 0.6736, val_recall@20: 0.0129, val_precision@20: 0.0063, val_ndcg@20: 0.0096\n",
            "[Iteration 6800/10000] train_loss: 0.0646, val_loss: 0.6740, val_recall@20: 0.0143, val_precision@20: 0.0070, val_ndcg@20: 0.0109\n",
            "[Iteration 7000/10000] train_loss: 0.0520, val_loss: 0.6730, val_recall@20: 0.0139, val_precision@20: 0.0068, val_ndcg@20: 0.0105\n",
            "[Iteration 7200/10000] train_loss: 0.0547, val_loss: 0.6743, val_recall@20: 0.0141, val_precision@20: 0.0070, val_ndcg@20: 0.0103\n",
            "[Iteration 7400/10000] train_loss: 0.0588, val_loss: 0.6734, val_recall@20: 0.0132, val_precision@20: 0.0063, val_ndcg@20: 0.0097\n",
            "[Iteration 7600/10000] train_loss: 0.0640, val_loss: 0.6736, val_recall@20: 0.0128, val_precision@20: 0.0063, val_ndcg@20: 0.0097\n",
            "[Iteration 7800/10000] train_loss: 0.0482, val_loss: 0.6734, val_recall@20: 0.0139, val_precision@20: 0.0067, val_ndcg@20: 0.0101\n",
            "[Iteration 8000/10000] train_loss: 0.0559, val_loss: 0.6734, val_recall@20: 0.0135, val_precision@20: 0.0065, val_ndcg@20: 0.0100\n",
            "[Iteration 8200/10000] train_loss: 0.0676, val_loss: 0.6737, val_recall@20: 0.0124, val_precision@20: 0.0068, val_ndcg@20: 0.0099\n",
            "[Iteration 8400/10000] train_loss: 0.0590, val_loss: 0.6738, val_recall@20: 0.0126, val_precision@20: 0.0062, val_ndcg@20: 0.0097\n",
            "[Iteration 8600/10000] train_loss: 0.0587, val_loss: 0.6736, val_recall@20: 0.0123, val_precision@20: 0.0065, val_ndcg@20: 0.0097\n",
            "[Iteration 8800/10000] train_loss: 0.0580, val_loss: 0.6738, val_recall@20: 0.0135, val_precision@20: 0.0067, val_ndcg@20: 0.0104\n",
            "[Iteration 9000/10000] train_loss: 0.0477, val_loss: 0.6738, val_recall@20: 0.0126, val_precision@20: 0.0064, val_ndcg@20: 0.0093\n",
            "[Iteration 9200/10000] train_loss: 0.0457, val_loss: 0.6736, val_recall@20: 0.0121, val_precision@20: 0.0062, val_ndcg@20: 0.0094\n",
            "[Iteration 9400/10000] train_loss: 0.0709, val_loss: 0.6743, val_recall@20: 0.0125, val_precision@20: 0.0064, val_ndcg@20: 0.0097\n",
            "[Iteration 9600/10000] train_loss: 0.0452, val_loss: 0.6743, val_recall@20: 0.0115, val_precision@20: 0.0061, val_ndcg@20: 0.0091\n",
            "[Iteration 9800/10000] train_loss: 0.0488, val_loss: 0.6741, val_recall@20: 0.0121, val_precision@20: 0.0063, val_ndcg@20: 0.0091\n"
          ]
        }
      ],
      "source": [
        "# training loop\n",
        "train_losses = []\n",
        "val_losses = []\n",
        "\n",
        "for iter in range(ITERATIONS):\n",
        "    # forward propagation\n",
        "    users_emb_final, items_emb_final = model.forward(\n",
        "        train_sparse_edge_index)\n",
        "\n",
        "    # mini batching\n",
        "    user_indices, pos_item_indices, neg_item_indices = sample_mini_batch(\n",
        "        BATCH_SIZE, train_edge_index)\n",
        "    user_indices, pos_item_indices, neg_item_indices = user_indices.to(\n",
        "        device), pos_item_indices.to(device), neg_item_indices.to(device)\n",
        "    users_emb_final = users_emb_final[user_indices]\n",
        "    pos_items_emb_final = items_emb_final[pos_item_indices]\n",
        "    neg_items_emb_final = items_emb_final[neg_item_indices]\n",
        "\n",
        "    # loss computation\n",
        "    train_loss = bpr_loss(users_emb_final, pos_items_emb_final,neg_items_emb_final)\n",
        "\n",
        "    optimizer.zero_grad()\n",
        "    train_loss.backward()\n",
        "    optimizer.step()\n",
        "\n",
        "    if iter % ITERS_PER_EVAL == 0:\n",
        "        model.eval()\n",
        "        val_loss, recall, precision, ndcg = evaluation(\n",
        "            model, val_edge_index, val_sparse_edge_index, [train_edge_index], K)\n",
        "        print(f\"[Iteration {iter}/{ITERATIONS}] train_loss: {train_loss.item():.4f}, val_loss: {val_loss:.4f}, val_recall@{K}: {recall:.4f}, val_precision@{K}: {precision:.4f}, val_ndcg@{K}: {ndcg:.4f}\")\n",
        "        train_losses.append(train_loss.item())\n",
        "        val_losses.append(val_loss)\n",
        "        model.train()\n",
        "\n",
        "    if iter % ITERS_PER_LR_DECAY == 0 and iter != 0:\n",
        "        scheduler.step()"
      ]
    },
    {
      "cell_type": "code",
      "execution_count": null,
      "id": "cfd793e6",
      "metadata": {
        "colab": {
          "base_uri": "https://localhost:8080/",
          "height": 472
        },
        "id": "cfd793e6",
        "outputId": "443a363d-f8c3-4b43-9da6-b963a2219ced"
      },
      "outputs": [
        {
          "output_type": "display_data",
          "data": {
            "text/plain": [
              "<Figure size 640x480 with 1 Axes>"
            ],
            "image/png": "[encoded data removed]"
          },
          "metadata": {}
        }
      ],
      "source": [
        "iters = [iter * ITERS_PER_EVAL for iter in range(len(train_losses))]\n",
        "plt.plot(iters, train_losses, label='train')\n",
        "plt.plot(iters, val_losses, label='validation')\n",
        "plt.xlabel('iteration')\n",
        "plt.ylabel('loss')\n",
        "plt.title('training and validation loss curves')\n",
        "plt.legend()\n",
        "plt.show()"
      ]
    },
    {
      "cell_type": "code",
      "execution_count": null,
      "id": "9b8ecada",
      "metadata": {
        "colab": {
          "base_uri": "https://localhost:8080/"
        },
        "id": "9b8ecada",
        "outputId": "5df138a3-f92a-47c2-8173-0b49133ec7b7"
      },
      "outputs": [
        {
          "output_type": "stream",
          "name": "stdout",
          "text": [
            "[test_loss: 0.67402, test_recall@20: 0.01326, test_precision@20: 0.00516, test_ndcg@20: 0.01006\n"
          ]
        }
      ],
      "source": [
        "# evaluate on test set\n",
        "model.eval()\n",
        "test_edge_index = test_edge_index.to(device)\n",
        "test_sparse_edge_index = test_sparse_edge_index.to(device)\n",
        "\n",
        "test_loss, test_recall, test_precision, test_ndcg = evaluation(\n",
        "            model, test_edge_index, test_sparse_edge_index, [train_edge_index, val_edge_index], K)\n",
        "\n",
        "print(f\"[test_loss: {round(test_loss, 5)}, test_recall@{K}: {round(test_recall, 5)}, test_precision@{K}: {round(test_precision, 5)}, test_ndcg@{K}: {round(test_ndcg, 5)}\")"
      ]
    },
    {
      "cell_type": "markdown",
      "id": "3e0e3c0a",
      "metadata": {
        "id": "3e0e3c0a"
      },
      "source": [
        "# Make New Recommendatios for a Given User"
      ]
    },
    {
      "cell_type": "code",
      "execution_count": null,
      "id": "0fdea58d",
      "metadata": {
        "id": "0fdea58d"
      },
      "outputs": [],
      "source": [
        "model.eval()\n",
        "df = pd.read_csv(movie_path)\n",
        "movieid_title = pd.Series(df.title.values,index=df.movieId).to_dict()\n",
        "movieid_genres = pd.Series(df.genres.values,index=df.movieId).to_dict()\n",
        "\n",
        "user_pos_items = get_user_positive_items(edge_index)"
      ]
    },
    {
      "cell_type": "code",
      "execution_count": null,
      "id": "33bbb1a3",
      "metadata": {
        "id": "33bbb1a3"
      },
      "outputs": [],
      "source": [
        "def make_predictions(user_id, num_recs):\n",
        "    user = user_mapping[user_id]\n",
        "    e_u = model.users_emb.weight[user]\n",
        "    scores = model.items_emb.weight @ e_u\n",
        "\n",
        "    values, indices = torch.topk(scores, k=len(user_pos_items[user]) + num_recs)\n",
        "\n",
        "    movies = [index.cpu().item() for index in indices if index in user_pos_items[user]][:num_recs]\n",
        "    movie_ids = [list(movie_mapping.keys())[list(movie_mapping.values()).index(movie)] for movie in movies]\n",
        "    titles = [movieid_title[id] for id in movie_ids]\n",
        "    genres = [movieid_genres[id] for id in movie_ids]\n",
        "\n",
        "    print(f\"Here are some movies that user {user_id} rated highly\")\n",
        "    for i in range(num_recs):\n",
        "        print(f\"title: {titles[i]}, genres: {genres[i]} \")\n",
        "\n",
        "    print()\n",
        "\n",
        "    movies = [index.cpu().item() for index in indices if index not in user_pos_items[user]][:num_recs]\n",
        "    movie_ids = [list(movie_mapping.keys())[list(movie_mapping.values()).index(movie)] for movie in movies]\n",
        "    titles = [movieid_title[id] for id in movie_ids]\n",
        "    genres = [movieid_genres[id] for id in movie_ids]\n",
        "\n",
        "    print(f\"Here are some suggested movies for user {user_id}\")\n",
        "    for i in range(num_recs):\n",
        "        print(f\"title: {titles[i]}, genres: {genres[i]} \")"
      ]
    },
    {
      "cell_type": "code",
      "execution_count": null,
      "id": "17e3f97c",
      "metadata": {
        "colab": {
          "base_uri": "https://localhost:8080/",
          "height": 366
        },
        "id": "17e3f97c",
        "outputId": "dcb47394-f0ae-4a48-c926-bfa7e8fc1a32"
      },
      "outputs": [
        {
          "output_type": "stream",
          "name": "stdout",
          "text": [
            "Here are some movies that user 6 rated highly\n"
          ]
        },
        {
          "output_type": "error",
          "ename": "IndexError",
          "evalue": "ignored",
          "traceback": [
            "\u001b[0;31m---------------------------------------------------------------------------\u001b[0m",
            "\u001b[0;31mIndexError\u001b[0m                                Traceback (most recent call last)",
            "\u001b[0;32m<ipython-input-25-d0c02ccd708d>\u001b[0m in \u001b[0;36m<cell line: 4>\u001b[0;34m()\u001b[0m\n\u001b[1;32m      2\u001b[0m \u001b[0mNUM_RECS\u001b[0m \u001b[0;34m=\u001b[0m \u001b[0;36m10\u001b[0m\u001b[0;34m\u001b[0m\u001b[0;34m\u001b[0m\u001b[0m\n\u001b[1;32m      3\u001b[0m \u001b[0;34m\u001b[0m\u001b[0m\n\u001b[0;32m----> 4\u001b[0;31m \u001b[0mmake_predictions\u001b[0m\u001b[0;34m(\u001b[0m\u001b[0mUSER_ID\u001b[0m\u001b[0;34m,\u001b[0m \u001b[0mNUM_RECS\u001b[0m\u001b[0;34m)\u001b[0m\u001b[0;34m\u001b[0m\u001b[0;34m\u001b[0m\u001b[0m\n\u001b[0m",
            "\u001b[0;32m<ipython-input-23-e8c276884837>\u001b[0m in \u001b[0;36mmake_predictions\u001b[0;34m(user_id, num_recs)\u001b[0m\n\u001b[1;32m     13\u001b[0m     \u001b[0mprint\u001b[0m\u001b[0;34m(\u001b[0m\u001b[0;34mf\"Here are some movies that user {user_id} rated highly\"\u001b[0m\u001b[0;34m)\u001b[0m\u001b[0;34m\u001b[0m\u001b[0;34m\u001b[0m\u001b[0m\n\u001b[1;32m     14\u001b[0m     \u001b[0;32mfor\u001b[0m \u001b[0mi\u001b[0m \u001b[0;32min\u001b[0m \u001b[0mrange\u001b[0m\u001b[0;34m(\u001b[0m\u001b[0mnum_recs\u001b[0m\u001b[0;34m)\u001b[0m\u001b[0;34m:\u001b[0m\u001b[0;34m\u001b[0m\u001b[0;34m\u001b[0m\u001b[0m\n\u001b[0;32m---> 15\u001b[0;31m         \u001b[0mprint\u001b[0m\u001b[0;34m(\u001b[0m\u001b[0;34mf\"title: {titles[i]}, genres: {genres[i]} \"\u001b[0m\u001b[0;34m)\u001b[0m\u001b[0;34m\u001b[0m\u001b[0;34m\u001b[0m\u001b[0m\n\u001b[0m\u001b[1;32m     16\u001b[0m \u001b[0;34m\u001b[0m\u001b[0m\n\u001b[1;32m     17\u001b[0m     \u001b[0mprint\u001b[0m\u001b[0;34m(\u001b[0m\u001b[0;34m)\u001b[0m\u001b[0;34m\u001b[0m\u001b[0;34m\u001b[0m\u001b[0m\n",
            "\u001b[0;31mIndexError\u001b[0m: list index out of range"
          ]
        }
      ],
      "source": [
        "USER_ID = 6\n",
        "NUM_RECS = 10\n",
        "\n",
        "make_predictions(USER_ID, NUM_RECS)"
      ]
    },
    {
      "cell_type": "markdown",
      "id": "968d5223",
      "metadata": {
        "id": "968d5223"
      },
      "source": [
        "# Practice: Implementing LightGCN\n",
        "\n",
        "## Light Graph Convolution\n",
        "Between each layer, LightGCN uses the following propagation rule for user and item embeddings.\n",
        "\n",
        "\\begin{equation}\n",
        "e_u^{(k+1)} = \\sum_{i \\in N_u} \\frac{1}{\\sqrt{|N_u|}\\sqrt{|N_i|}} e_i^{(k)} \\quad e_i^{(k+1)} = \\sum_{u \\in N_i} \\frac{1}{\\sqrt{|N_i|}\\sqrt{|N_u|}} e_u^{(k)}\n",
        "\\end{equation}\n",
        "\n",
        "$N_u$: the set of all neighbors of user $u$ (items liked by $u$)\n",
        "\n",
        "$N_i$: the set of all neighbors of item $i$ (users who liked $i$)\n",
        "\n",
        "$e_u^{(k)}$ : k-th layer user embedding\n",
        "\n",
        "$e_i^{(k)}$ : k-th layer item embedding\n",
        "\n",
        "\n",
        "\n",
        "## Layer Combination and Model Prediction\n",
        "The only trainable parameters of LightGCN are the 0-th layer embeddings $e_u^{(0)}$ and $e_i^{(0)}$ for each user and item. We combine the embeddings obtained at each layer of propagation to form the final embeddings for all user and item, $e_u$ and $e_i$ via the follwing equation.\n",
        "\n",
        "\n",
        "\\begin{equation}\n",
        "e_u = \\sum_{k = 0}^K \\alpha_k e_u^{(k)} \\quad e_i = \\sum_{k = 0}^K \\alpha_k e_i^{(k)}\n",
        "\\end{equation}\n",
        "\n",
        "$\\alpha_k$ : hyperparameter which weights the contribution of the k-th layer embedding to the final embedding\n",
        "\n",
        "The model prediction is obtained by taking the inner product of the final user and item embeddings.\n",
        "\n",
        "\\begin{equation}\n",
        "\\hat{y}_{ui} = e_u^Te_i\n",
        "\\end{equation}\n"
      ]
    },
    {
      "cell_type": "code",
      "execution_count": null,
      "id": "4ef0ea64",
      "metadata": {
        "id": "4ef0ea64"
      },
      "outputs": [],
      "source": [
        "# defines LightGCN model\n",
        "from torch_geometric.utils import degree\n",
        "class LightGCN(MessagePassing):\n",
        "    \"\"\"LightGCN Model as proposed in https://arxiv.org/abs/2002.02126\n",
        "    \"\"\"\n",
        "\n",
        "    def __init__(self, num_users, num_items, embedding_dim, n_layers, add_self_loops=False):\n",
        "        \"\"\"Initializes LightGCN Model\n",
        "\n",
        "        Args:\n",
        "            num_users (int): Number of users\n",
        "            num_items (int): Number of items\n",
        "            embedding_dim (int, optional): Dimensionality of embeddings. Defaults to 8.\n",
        "            K (int, optional): Number of message passing layers. Defaults to 3.\n",
        "            add_self_loops (bool, optional): Whether to add self loops for message passing. Defaults to False.\n",
        "        \"\"\"\n",
        "        super().__init__()\n",
        "        self.num_users, self.num_items = num_users, num_items\n",
        "        self.embedding_dim, self.n_layers = embedding_dim, n_layers\n",
        "        self.add_self_loops = add_self_loops\n",
        "\n",
        "        self.users_emb = nn.Embedding(\n",
        "            num_embeddings=self.num_users, embedding_dim=self.embedding_dim) # e_u^0\n",
        "        self.items_emb = nn.Embedding(\n",
        "            num_embeddings=self.num_items, embedding_dim=self.embedding_dim) # e_i^0\n",
        "\n",
        "    def forward(self, edge_index: SparseTensor):\n",
        "        users_emb_final, items_emb_final = None, None\n",
        "        ############################################################################\n",
        "        # TODO: Your code here!\n",
        "        # you can reference the previous NGCF implementation!\n",
        "        # Steps:\n",
        "        # 1. normalize edge weight\n",
        "        # 2. save embedding of each propagation\n",
        "        # 3. for simplicity, we take the average of embedding among different layers as the output\n",
        "        edge_index_norm = gcn_norm(edge_index, add_self_loops=self.add_self_loops)\n",
        "\n",
        "        emb_0 = torch.cat([self.users_emb.weight, self.items_emb.weight]) # E^0\n",
        "        embs = [emb_0]\n",
        "        emb_k = emb_0\n",
        "        # multi-scale diffusion\n",
        "        row, col,_ = edge_index.coo()\n",
        "        deg = degree(col)\n",
        "        deg_inv_sqrt = deg.pow(-0.5)\n",
        "        norm = deg_inv_sqrt[row] * deg_inv_sqrt[col]\n",
        "\n",
        "        for i in range(self.n_layers):\n",
        "            emb_k = self.propagate(edge_index, x=emb_k,  norm=norm)\n",
        "            embs.append(emb_k)\n",
        "\n",
        "        embs = torch.stack(embs, dim=1)\n",
        "        emb_final = torch.mean(embs, dim=1) # E^K\n",
        "\n",
        "        users_emb_final, items_emb_final = torch.split(\n",
        "            emb_final, [self.num_users, self.num_items])\n",
        "        ############################################################################\n",
        "        return users_emb_final, items_emb_final\n",
        "\n",
        "    def message(self, x_j: Tensor) -> Tensor:\n",
        "        ############################################################################\n",
        "        # TODO: Your code here!\n",
        "        # define the message function here\n",
        "\n",
        "        ############################################################################\n",
        "         print(\"HI\")\n",
        "         return 0#x_j\n",
        "\n",
        "    def message_and_aggregate(self, adj_t: SparseTensor, x: Tensor) -> Tensor:\n",
        "        # computes \\tilde{A} @ x\n",
        "        return matmul(adj_t, x)"
      ]
    },
    {
      "cell_type": "code",
      "execution_count": null,
      "id": "dbf243a4",
      "metadata": {
        "id": "dbf243a4"
      },
      "outputs": [],
      "source": [
        "# define contants\n",
        "ITERATIONS = 10000\n",
        "BATCH_SIZE = 1024\n",
        "ITERS_PER_EVAL = 200\n",
        "ITERS_PER_LR_DECAY = 200\n",
        "K=20\n",
        "# hyperparameters\n",
        "N_LAYERS = 3\n",
        "LAMBDA = 1e-6\n",
        "DIM = 32\n",
        "LR = 1e-3\n",
        "############################\n",
        "# TODO: Your code here!\n",
        "# chose the best hyperparameters!\n",
        "\n",
        "############################"
      ]
    },
    {
      "cell_type": "code",
      "execution_count": null,
      "id": "6714b33a",
      "metadata": {
        "colab": {
          "base_uri": "https://localhost:8080/"
        },
        "id": "6714b33a",
        "outputId": "c0b49fe7-18f2-442f-fa81-a5e1e82883f1"
      },
      "outputs": [
        {
          "output_type": "stream",
          "name": "stdout",
          "text": [
            "Using device cpu.\n"
          ]
        }
      ],
      "source": [
        "# setup\n",
        "device = torch.device('cuda' if torch.cuda.is_available() else 'cpu')\n",
        "print(f\"Using device {device}.\")\n",
        "\n",
        "model = LightGCN(num_users, num_movies,embedding_dim=DIM,n_layers=N_LAYERS)\n",
        "model = model.to(device)\n",
        "model.train()\n",
        "\n",
        "# initialize parameters\n",
        "for p in model.parameters():\n",
        "    if p.dim() > 1:\n",
        "        nn.init.xavier_uniform_(p)\n",
        "\n",
        "optimizer = optim.Adam(model.parameters(), lr=LR, weight_decay=LAMBDA)\n",
        "scheduler = optim.lr_scheduler.ExponentialLR(optimizer, gamma=0.95)\n",
        "\n",
        "edge_index = edge_index.to(device)\n",
        "train_edge_index = train_edge_index.to(device)\n",
        "train_sparse_edge_index = train_sparse_edge_index.to(device)\n",
        "\n",
        "val_edge_index = val_edge_index.to(device)\n",
        "val_sparse_edge_index = val_sparse_edge_index.to(device)"
      ]
    },
    {
      "cell_type": "markdown",
      "id": "2ecb05d5",
      "metadata": {
        "id": "2ecb05d5"
      },
      "source": [
        "## Training!\n",
        "Let's see if your LightGCN outperforms NGCF!"
      ]
    },
    {
      "cell_type": "code",
      "execution_count": null,
      "id": "efa6693e",
      "metadata": {
        "scrolled": true,
        "colab": {
          "base_uri": "https://localhost:8080/"
        },
        "id": "efa6693e",
        "outputId": "49f9ffd2-aaa7-4d32-f9f3-c73b0187f728"
      },
      "outputs": [
        {
          "output_type": "stream",
          "name": "stdout",
          "text": [
            "[Iteration 0/10000] train_loss: 0.6982, val_loss: 0.6932, val_recall@20: 0.0028, val_precision@20: 0.0015, val_ndcg@20: 0.0023\n",
            "[Iteration 200/10000] train_loss: 0.3303, val_loss: 0.6909, val_recall@20: 0.0442, val_precision@20: 0.0149, val_ndcg@20: 0.0324\n",
            "[Iteration 400/10000] train_loss: 0.2598, val_loss: 0.6896, val_recall@20: 0.0478, val_precision@20: 0.0173, val_ndcg@20: 0.0362\n",
            "[Iteration 600/10000] train_loss: 0.2270, val_loss: 0.6904, val_recall@20: 0.0462, val_precision@20: 0.0166, val_ndcg@20: 0.0347\n",
            "[Iteration 800/10000] train_loss: 0.1979, val_loss: 0.6945, val_recall@20: 0.0411, val_precision@20: 0.0149, val_ndcg@20: 0.0312\n",
            "[Iteration 1000/10000] train_loss: 0.2063, val_loss: 0.6941, val_recall@20: 0.0414, val_precision@20: 0.0154, val_ndcg@20: 0.0326\n",
            "[Iteration 1200/10000] train_loss: 0.1754, val_loss: 0.6982, val_recall@20: 0.0412, val_precision@20: 0.0154, val_ndcg@20: 0.0334\n",
            "[Iteration 1400/10000] train_loss: 0.1795, val_loss: 0.7001, val_recall@20: 0.0406, val_precision@20: 0.0145, val_ndcg@20: 0.0320\n",
            "[Iteration 1600/10000] train_loss: 0.1649, val_loss: 0.7039, val_recall@20: 0.0382, val_precision@20: 0.0134, val_ndcg@20: 0.0296\n",
            "[Iteration 1800/10000] train_loss: 0.1797, val_loss: 0.7021, val_recall@20: 0.0372, val_precision@20: 0.0135, val_ndcg@20: 0.0298\n",
            "[Iteration 2000/10000] train_loss: 0.1305, val_loss: 0.7048, val_recall@20: 0.0370, val_precision@20: 0.0124, val_ndcg@20: 0.0289\n",
            "[Iteration 2200/10000] train_loss: 0.1670, val_loss: 0.7070, val_recall@20: 0.0345, val_precision@20: 0.0121, val_ndcg@20: 0.0262\n",
            "[Iteration 2400/10000] train_loss: 0.1349, val_loss: 0.7105, val_recall@20: 0.0347, val_precision@20: 0.0115, val_ndcg@20: 0.0261\n",
            "[Iteration 2600/10000] train_loss: 0.1161, val_loss: 0.7112, val_recall@20: 0.0319, val_precision@20: 0.0113, val_ndcg@20: 0.0254\n",
            "[Iteration 2800/10000] train_loss: 0.1094, val_loss: 0.7113, val_recall@20: 0.0336, val_precision@20: 0.0116, val_ndcg@20: 0.0266\n",
            "[Iteration 3000/10000] train_loss: 0.1087, val_loss: 0.7168, val_recall@20: 0.0308, val_precision@20: 0.0108, val_ndcg@20: 0.0254\n",
            "[Iteration 3200/10000] train_loss: 0.1027, val_loss: 0.7112, val_recall@20: 0.0313, val_precision@20: 0.0108, val_ndcg@20: 0.0249\n",
            "[Iteration 3400/10000] train_loss: 0.1175, val_loss: 0.7204, val_recall@20: 0.0312, val_precision@20: 0.0110, val_ndcg@20: 0.0245\n",
            "[Iteration 3600/10000] train_loss: 0.1274, val_loss: 0.7184, val_recall@20: 0.0299, val_precision@20: 0.0106, val_ndcg@20: 0.0243\n",
            "[Iteration 3800/10000] train_loss: 0.1212, val_loss: 0.7166, val_recall@20: 0.0296, val_precision@20: 0.0108, val_ndcg@20: 0.0245\n",
            "[Iteration 4000/10000] train_loss: 0.0910, val_loss: 0.7172, val_recall@20: 0.0295, val_precision@20: 0.0101, val_ndcg@20: 0.0238\n",
            "[Iteration 4200/10000] train_loss: 0.1040, val_loss: 0.7173, val_recall@20: 0.0284, val_precision@20: 0.0099, val_ndcg@20: 0.0234\n",
            "[Iteration 4400/10000] train_loss: 0.0892, val_loss: 0.7173, val_recall@20: 0.0288, val_precision@20: 0.0099, val_ndcg@20: 0.0230\n",
            "[Iteration 4600/10000] train_loss: 0.0907, val_loss: 0.7205, val_recall@20: 0.0284, val_precision@20: 0.0095, val_ndcg@20: 0.0231\n",
            "[Iteration 4800/10000] train_loss: 0.1014, val_loss: 0.7250, val_recall@20: 0.0275, val_precision@20: 0.0099, val_ndcg@20: 0.0219\n",
            "[Iteration 5000/10000] train_loss: 0.0873, val_loss: 0.7218, val_recall@20: 0.0295, val_precision@20: 0.0095, val_ndcg@20: 0.0223\n",
            "[Iteration 5200/10000] train_loss: 0.0819, val_loss: 0.7241, val_recall@20: 0.0285, val_precision@20: 0.0091, val_ndcg@20: 0.0209\n",
            "[Iteration 5400/10000] train_loss: 0.0860, val_loss: 0.7246, val_recall@20: 0.0302, val_precision@20: 0.0093, val_ndcg@20: 0.0218\n",
            "[Iteration 5600/10000] train_loss: 0.0814, val_loss: 0.7250, val_recall@20: 0.0299, val_precision@20: 0.0093, val_ndcg@20: 0.0216\n",
            "[Iteration 5800/10000] train_loss: 0.0850, val_loss: 0.7241, val_recall@20: 0.0293, val_precision@20: 0.0090, val_ndcg@20: 0.0210\n",
            "[Iteration 6000/10000] train_loss: 0.0783, val_loss: 0.7277, val_recall@20: 0.0305, val_precision@20: 0.0093, val_ndcg@20: 0.0214\n",
            "[Iteration 6200/10000] train_loss: 0.0935, val_loss: 0.7215, val_recall@20: 0.0290, val_precision@20: 0.0092, val_ndcg@20: 0.0215\n",
            "[Iteration 6400/10000] train_loss: 0.1050, val_loss: 0.7205, val_recall@20: 0.0280, val_precision@20: 0.0092, val_ndcg@20: 0.0212\n",
            "[Iteration 6600/10000] train_loss: 0.0982, val_loss: 0.7219, val_recall@20: 0.0266, val_precision@20: 0.0091, val_ndcg@20: 0.0210\n",
            "[Iteration 6800/10000] train_loss: 0.0787, val_loss: 0.7304, val_recall@20: 0.0252, val_precision@20: 0.0088, val_ndcg@20: 0.0208\n",
            "[Iteration 7000/10000] train_loss: 0.0825, val_loss: 0.7290, val_recall@20: 0.0246, val_precision@20: 0.0083, val_ndcg@20: 0.0196\n",
            "[Iteration 7200/10000] train_loss: 0.0904, val_loss: 0.7250, val_recall@20: 0.0251, val_precision@20: 0.0086, val_ndcg@20: 0.0194\n",
            "[Iteration 7400/10000] train_loss: 0.0701, val_loss: 0.7307, val_recall@20: 0.0267, val_precision@20: 0.0087, val_ndcg@20: 0.0200\n",
            "[Iteration 7600/10000] train_loss: 0.0818, val_loss: 0.7274, val_recall@20: 0.0274, val_precision@20: 0.0088, val_ndcg@20: 0.0193\n",
            "[Iteration 7800/10000] train_loss: 0.0942, val_loss: 0.7284, val_recall@20: 0.0251, val_precision@20: 0.0084, val_ndcg@20: 0.0189\n",
            "[Iteration 8000/10000] train_loss: 0.0797, val_loss: 0.7275, val_recall@20: 0.0246, val_precision@20: 0.0083, val_ndcg@20: 0.0188\n",
            "[Iteration 8200/10000] train_loss: 0.0689, val_loss: 0.7274, val_recall@20: 0.0266, val_precision@20: 0.0086, val_ndcg@20: 0.0196\n",
            "[Iteration 8400/10000] train_loss: 0.0932, val_loss: 0.7277, val_recall@20: 0.0252, val_precision@20: 0.0083, val_ndcg@20: 0.0189\n",
            "[Iteration 8600/10000] train_loss: 0.0647, val_loss: 0.7251, val_recall@20: 0.0232, val_precision@20: 0.0080, val_ndcg@20: 0.0180\n",
            "[Iteration 8800/10000] train_loss: 0.0699, val_loss: 0.7307, val_recall@20: 0.0247, val_precision@20: 0.0086, val_ndcg@20: 0.0188\n",
            "[Iteration 9000/10000] train_loss: 0.0670, val_loss: 0.7311, val_recall@20: 0.0253, val_precision@20: 0.0085, val_ndcg@20: 0.0193\n",
            "[Iteration 9200/10000] train_loss: 0.0803, val_loss: 0.7288, val_recall@20: 0.0246, val_precision@20: 0.0084, val_ndcg@20: 0.0189\n",
            "[Iteration 9400/10000] train_loss: 0.0751, val_loss: 0.7267, val_recall@20: 0.0245, val_precision@20: 0.0084, val_ndcg@20: 0.0190\n",
            "[Iteration 9600/10000] train_loss: 0.0600, val_loss: 0.7293, val_recall@20: 0.0245, val_precision@20: 0.0084, val_ndcg@20: 0.0190\n",
            "[Iteration 9800/10000] train_loss: 0.0682, val_loss: 0.7310, val_recall@20: 0.0251, val_precision@20: 0.0085, val_ndcg@20: 0.0192\n"
          ]
        }
      ],
      "source": [
        "# training loop\n",
        "train_losses = []\n",
        "val_losses = []\n",
        "\n",
        "for iter in range(ITERATIONS):\n",
        "    # forward propagation\n",
        "    users_emb_final, items_emb_final = model.forward(\n",
        "        train_sparse_edge_index)\n",
        "\n",
        "    # mini batching\n",
        "    user_indices, pos_item_indices, neg_item_indices = sample_mini_batch(\n",
        "        BATCH_SIZE, train_edge_index)\n",
        "    user_indices, pos_item_indices, neg_item_indices = user_indices.to(\n",
        "        device), pos_item_indices.to(device), neg_item_indices.to(device)\n",
        "    users_emb_final = users_emb_final[user_indices]\n",
        "    pos_items_emb_final = items_emb_final[pos_item_indices]\n",
        "    neg_items_emb_final = items_emb_final[neg_item_indices]\n",
        "\n",
        "    # loss computation\n",
        "    train_loss = bpr_loss(users_emb_final, pos_items_emb_final,neg_items_emb_final)\n",
        "\n",
        "    optimizer.zero_grad()\n",
        "    train_loss.backward()\n",
        "    optimizer.step()\n",
        "\n",
        "    if iter % ITERS_PER_EVAL == 0:\n",
        "        model.eval()\n",
        "        val_loss, recall, precision, ndcg = evaluation(\n",
        "            model, val_edge_index, val_sparse_edge_index, [train_edge_index], K)\n",
        "        print(f\"[Iteration {iter}/{ITERATIONS}] train_loss: {train_loss.item():.4f}, val_loss: {val_loss:.4f}, val_recall@{K}: {recall:.4f}, val_precision@{K}: {precision:.4f}, val_ndcg@{K}: {ndcg:.4f}\")\n",
        "        train_losses.append(train_loss.item())\n",
        "        val_losses.append(val_loss)\n",
        "        model.train()\n",
        "\n",
        "    if iter % ITERS_PER_LR_DECAY == 0 and iter != 0:\n",
        "        scheduler.step()"
      ]
    },
    {
      "cell_type": "code",
      "execution_count": null,
      "id": "0c7bc734",
      "metadata": {
        "colab": {
          "base_uri": "https://localhost:8080/",
          "height": 472
        },
        "id": "0c7bc734",
        "outputId": "403314a6-8dcb-4e8e-d41e-636f36e2e89a"
      },
      "outputs": [
        {
          "output_type": "display_data",
          "data": {
            "text/plain": [
              "<Figure size 640x480 with 1 Axes>"
            ],
            "image/png": "[encoded data removed]"
          },
          "metadata": {}
        }
      ],
      "source": [
        "iters = [iter * ITERS_PER_EVAL for iter in range(len(train_losses))]\n",
        "plt.plot(iters, train_losses, label='train')\n",
        "plt.plot(iters, val_losses, label='validation')\n",
        "plt.xlabel('iteration')\n",
        "plt.ylabel('loss')\n",
        "plt.title('training and validation loss curves')\n",
        "plt.legend()\n",
        "plt.show()"
      ]
    },
    {
      "cell_type": "code",
      "execution_count": null,
      "id": "c35e4be5",
      "metadata": {
        "id": "c35e4be5"
      },
      "outputs": [],
      "source": [
        "# evaluate on test set\n",
        "model.eval()\n",
        "test_edge_index = test_edge_index.to(device)\n",
        "test_sparse_edge_index = test_sparse_edge_index.to(device)\n",
        "\n",
        "test_loss, test_recall, test_precision, test_ndcg = evaluation(\n",
        "            model, test_edge_index, test_sparse_edge_index, [train_edge_index, val_edge_index], K)\n",
        "\n",
        "print(f\"[test_loss: {round(test_loss, 5)}, test_recall@{K}: {round(test_recall, 5)}, test_precision@{K}: {round(test_precision, 5)}, test_ndcg@{K}: {round(test_ndcg, 5)}\")"
      ]
    }
  ],
  "metadata": {
    "kernelspec": {
      "display_name": "pyg",
      "language": "python",
      "name": "pyg"
    },
    "language_info": {
      "codemirror_mode": {
        "name": "ipython",
        "version": 3
      },
      "file_extension": ".py",
      "mimetype": "text/x-python",
      "name": "python",
      "nbconvert_exporter": "python",
      "pygments_lexer": "ipython3",
      "version": "3.6.9"
    },
    "colab": {
      "provenance": []
    }
  },
  "nbformat": 4,
  "nbformat_minor": 5
}