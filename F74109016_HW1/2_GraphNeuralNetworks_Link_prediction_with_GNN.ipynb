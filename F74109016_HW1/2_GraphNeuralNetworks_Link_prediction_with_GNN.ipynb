{
  "cells": [
    {
      "cell_type": "markdown",
      "metadata": {
        "id": "8f4a91d8"
      },
      "source": [
        "# Hands on tutorial of Graph Representation Learning\n",
        "\n",
        "In this lecture, we will go through the following topics\n",
        "1. Graph structued data in Python\n",
        "2. GNN package - Pytorch-Geometric introduction\n",
        "3. Representation in Graphs - node2vec, GCN\n",
        "4. GNN with downstrean tasks\n",
        "5. GNN for text classification\n"
      ],
      "id": "8f4a91d8"
    },
    {
      "cell_type": "code",
      "execution_count": null,
      "metadata": {
        "colab": {
          "base_uri": "https://localhost:8080/"
        },
        "id": "fb43d373",
        "outputId": "c9d10583-006b-4a6d-adcb-e08c1dc1d8aa"
      },
      "outputs": [
        {
          "output_type": "stream",
          "name": "stdout",
          "text": [
            "2.1.0+cu118\n",
            "\u001b[2K     \u001b[90m━━━━━━━━━━━━━━━━━━━━━━━━━━━━━━━━━━━━━━━━\u001b[0m \u001b[32m10.2/10.2 MB\u001b[0m \u001b[31m39.2 MB/s\u001b[0m eta \u001b[36m0:00:00\u001b[0m\n",
            "\u001b[2K     \u001b[90m━━━━━━━━━━━━━━━━━━━━━━━━━━━━━━━━━━━━━━━━\u001b[0m \u001b[32m4.9/4.9 MB\u001b[0m \u001b[31m17.1 MB/s\u001b[0m eta \u001b[36m0:00:00\u001b[0m\n",
            "\u001b[?25h  Installing build dependencies ... \u001b[?25l\u001b[?25hdone\n",
            "  Getting requirements to build wheel ... \u001b[?25l\u001b[?25hdone\n",
            "  Preparing metadata (pyproject.toml) ... \u001b[?25l\u001b[?25hdone\n",
            "  Building wheel for torch_geometric (pyproject.toml) ... \u001b[?25l\u001b[?25hdone\n",
            "\u001b[2K     \u001b[90m━━━━━━━━━━━━━━━━━━━━━━━━━━━━━━━━━━━━━━━━\u001b[0m \u001b[32m3.3/3.3 MB\u001b[0m \u001b[31m39.1 MB/s\u001b[0m eta \u001b[36m0:00:00\u001b[0m\n",
            "\u001b[?25h"
          ]
        }
      ],
      "source": [
        "import os\n",
        "import torch\n",
        "import torch.nn as nn\n",
        "import numpy as np\n",
        "os.environ['TORCH'] = torch.__version__\n",
        "print(torch.__version__)\n",
        "\n",
        "!pip install -q torch-scatter -f https://data.pyg.org/whl/torch-${TORCH}.html\n",
        "!pip install -q torch-sparse -f https://data.pyg.org/whl/torch-${TORCH}.html\n",
        "!pip install -q git+https://github.com/pyg-team/pytorch_geometric.git\n",
        "!pip install -q torch-cluster -f https://data.pyg.org/whl/torch-${TORCH}.html\n",
        "\n",
        "import torch_cluster\n",
        "import os.path as osp\n",
        "from torch_geometric.datasets import Planetoid\n",
        "from torch_geometric.transforms import NormalizeFeatures"
      ],
      "id": "fb43d373"
    },
    {
      "cell_type": "markdown",
      "metadata": {
        "id": "3TuxbsNu9MQb"
      },
      "source": [
        "## Obtaining node embedding with Graph Neural Network\n",
        "For a GNN layer, Message Passing is defined as the process of taking node features of the neighbours, transforming them, and \"passing\" them to the source node. This process is repeated, in parallel, for all nodes in the graph. In that way, all neighbourhoods are examined by the end of this step.\n",
        "\n",
        "### Node2vec v.s. GNN\n",
        "Previously, we learned how to obtain node embedding with Node2vec. However, Node2vec uses the embedding layer as the node feature **without considering the node feature**. GNN, on the contrary, adopts a different way to learn node embedding via the so-called **Message Passing** function or **Neighbor Aggregation** operation which obtains embedding by aggregating information from neighboring nodes.\n",
        "\n",
        "### A simple GNN\n",
        "Let first build a bisic GNN to demonstrate the message passing of GNN.\n",
        "The node embedding of each node is defined as follows:\n",
        "\n",
        "\\begin{equation}\n",
        "z^k_i = \\sum_{j\\in N(i)} z^{k-1}_j\n",
        "\\end{equation}\n",
        "\n",
        "![](https://i.imgur.com/77VBsTd.png)"
      ],
      "id": "3TuxbsNu9MQb"
    },
    {
      "cell_type": "code",
      "execution_count": null,
      "metadata": {
        "id": "QFNz6jJF9MQc"
      },
      "outputs": [],
      "source": [
        "from torch_geometric.nn import MessagePassing"
      ],
      "id": "QFNz6jJF9MQc"
    },
    {
      "cell_type": "code",
      "execution_count": null,
      "metadata": {
        "id": "gGse1UQ69MQc"
      },
      "outputs": [],
      "source": [
        "class SimpleGNN(MessagePassing):\n",
        "    def __init__(self,aggr=\"sum\"):\n",
        "        super().__init__(aggr=aggr)\n",
        "\n",
        "    def forward(self, x, edge_index):\n",
        "        return self.propagate(edge_index,x=x)"
      ],
      "id": "gGse1UQ69MQc"
    },
    {
      "cell_type": "code",
      "execution_count": null,
      "metadata": {
        "colab": {
          "base_uri": "https://localhost:8080/"
        },
        "id": "bteXtTOx9MQd",
        "outputId": "f085d825-7247-4e5d-e277-58b3ac2b9492"
      },
      "outputs": [
        {
          "output_type": "stream",
          "name": "stdout",
          "text": [
            "tensor([[0., 1., 2.],\n",
            "        [3., 4., 5.],\n",
            "        [6., 7., 8.]])\n"
          ]
        }
      ],
      "source": [
        "x = torch.arange(9).reshape(3,3).float()\n",
        "edge_index = [[0,1],[2,1]]\n",
        "edge_index = torch.tensor(edge_index).T\n",
        "print(x)"
      ],
      "id": "bteXtTOx9MQd"
    },
    {
      "cell_type": "code",
      "execution_count": null,
      "metadata": {
        "colab": {
          "base_uri": "https://localhost:8080/"
        },
        "id": "NbsHSbID9MQd",
        "outputId": "3f58fc91-648c-4a7d-e1cc-e4955e076e09"
      },
      "outputs": [
        {
          "output_type": "execute_result",
          "data": {
            "text/plain": [
              "tensor([[ 0.,  0.,  0.],\n",
              "        [ 6.,  8., 10.],\n",
              "        [ 0.,  0.,  0.]])"
            ]
          },
          "metadata": {},
          "execution_count": 5
        }
      ],
      "source": [
        "model = SimpleGNN()\n",
        "model\n",
        "model(x,edge_index)"
      ],
      "id": "NbsHSbID9MQd"
    },
    {
      "cell_type": "markdown",
      "metadata": {
        "id": "FIqPaDIw9MQe"
      },
      "source": [
        "### Bidrectional edges"
      ],
      "id": "FIqPaDIw9MQe"
    },
    {
      "cell_type": "code",
      "execution_count": null,
      "metadata": {
        "colab": {
          "base_uri": "https://localhost:8080/"
        },
        "id": "8XxAMwPU9MQe",
        "outputId": "38e210a0-30d4-4b40-b218-a3a0e486e28a"
      },
      "outputs": [
        {
          "output_type": "stream",
          "name": "stdout",
          "text": [
            "tensor([[0, 1, 1, 2],\n",
            "        [1, 0, 2, 1]])\n"
          ]
        }
      ],
      "source": [
        "from torch_geometric.utils import to_undirected\n",
        "edge_index = to_undirected(edge_index)\n",
        "print(edge_index)"
      ],
      "id": "8XxAMwPU9MQe"
    },
    {
      "cell_type": "code",
      "execution_count": null,
      "metadata": {
        "colab": {
          "base_uri": "https://localhost:8080/"
        },
        "id": "e36tnNo49MQf",
        "outputId": "10f646af-3a33-42ca-dab9-3f14b5bbc4e0"
      },
      "outputs": [
        {
          "output_type": "execute_result",
          "data": {
            "text/plain": [
              "tensor([[ 3.,  4.,  5.],\n",
              "        [ 6.,  8., 10.],\n",
              "        [ 3.,  4.,  5.]])"
            ]
          },
          "metadata": {},
          "execution_count": 7
        }
      ],
      "source": [
        "model = SimpleGNN()\n",
        "model\n",
        "model(x,edge_index)"
      ],
      "id": "e36tnNo49MQf"
    },
    {
      "cell_type": "markdown",
      "metadata": {
        "id": "unVYOG_F9MQf"
      },
      "source": [
        "### Adding self-connection\n",
        "![](https://i.imgur.com/h2x1Qq5.png)"
      ],
      "id": "unVYOG_F9MQf"
    },
    {
      "cell_type": "code",
      "execution_count": null,
      "metadata": {
        "colab": {
          "base_uri": "https://localhost:8080/"
        },
        "id": "3iBjGCBu9MQg",
        "outputId": "14d1c99a-8bc7-4a43-d16d-faee29f90608"
      },
      "outputs": [
        {
          "output_type": "stream",
          "name": "stdout",
          "text": [
            "tensor([[0., 1., 2.],\n",
            "        [3., 4., 5.],\n",
            "        [6., 7., 8.]])\n"
          ]
        }
      ],
      "source": [
        "x = torch.arange(9).reshape(3,3).float()\n",
        "edge_index = [[0,1],[2,1]] + [[0,0],[1,1],[2,2]]\n",
        "edge_index = torch.tensor(edge_index).T\n",
        "print(x)"
      ],
      "id": "3iBjGCBu9MQg"
    },
    {
      "cell_type": "code",
      "execution_count": null,
      "metadata": {
        "colab": {
          "base_uri": "https://localhost:8080/"
        },
        "id": "7sWvtzxS9MQg",
        "outputId": "5f886adf-f58b-4326-ca4b-bf56f2019306"
      },
      "outputs": [
        {
          "output_type": "execute_result",
          "data": {
            "text/plain": [
              "tensor([[ 0.,  1.,  2.],\n",
              "        [ 9., 12., 15.],\n",
              "        [ 6.,  7.,  8.]])"
            ]
          },
          "metadata": {},
          "execution_count": 9
        }
      ],
      "source": [
        "model = SimpleGNN()\n",
        "model(x,edge_index)"
      ],
      "id": "7sWvtzxS9MQg"
    },
    {
      "cell_type": "markdown",
      "metadata": {
        "id": "3jxAMtWa9MQg"
      },
      "source": [
        "### Advance implementation of self-connection"
      ],
      "id": "3jxAMtWa9MQg"
    },
    {
      "cell_type": "code",
      "execution_count": null,
      "metadata": {
        "id": "3i7BgQis9MQg"
      },
      "outputs": [],
      "source": [
        "# another way to implement self-connection\n",
        "class SimpleGNN(MessagePassing):\n",
        "    def __init__(self,aggr=\"sum\"):\n",
        "        super().__init__(aggr=aggr)\n",
        "\n",
        "    def forward(self, x, edge_index):\n",
        "        return self.propagate(edge_index,x=x) + x"
      ],
      "id": "3i7BgQis9MQg"
    },
    {
      "cell_type": "code",
      "execution_count": null,
      "metadata": {
        "colab": {
          "base_uri": "https://localhost:8080/"
        },
        "id": "z6RmGkdc9MQh",
        "outputId": "f15230cd-487b-45f8-cfa3-b67f2838976d"
      },
      "outputs": [
        {
          "output_type": "stream",
          "name": "stdout",
          "text": [
            "tensor([[0, 1, 2],\n",
            "        [3, 4, 5],\n",
            "        [6, 7, 8]])\n"
          ]
        },
        {
          "output_type": "execute_result",
          "data": {
            "text/plain": [
              "tensor([[ 0,  1,  2],\n",
              "        [ 9, 12, 15],\n",
              "        [ 6,  7,  8]])"
            ]
          },
          "metadata": {},
          "execution_count": 11
        }
      ],
      "source": [
        "x = torch.arange(9).reshape(3,3)\n",
        "edge_index = [[0,1],[2,1]]\n",
        "edge_index = torch.tensor(edge_index).T\n",
        "print(x)\n",
        "\n",
        "model = SimpleGNN()\n",
        "model(x,edge_index)"
      ],
      "id": "z6RmGkdc9MQh"
    },
    {
      "cell_type": "markdown",
      "metadata": {
        "id": "TrAjuTRf9MQh"
      },
      "source": [
        "###  More common usage: bidirectional edges with self-connection"
      ],
      "id": "TrAjuTRf9MQh"
    },
    {
      "cell_type": "code",
      "execution_count": null,
      "metadata": {
        "colab": {
          "base_uri": "https://localhost:8080/"
        },
        "id": "6WD3niZq9MQh",
        "outputId": "cfb73f52-aced-432d-c7f2-e15bbf07d3f1"
      },
      "outputs": [
        {
          "output_type": "stream",
          "name": "stdout",
          "text": [
            "tensor([[0., 1., 2.],\n",
            "        [3., 4., 5.],\n",
            "        [6., 7., 8.]])\n"
          ]
        },
        {
          "output_type": "execute_result",
          "data": {
            "text/plain": [
              "tensor([[ 3.,  5.,  7.],\n",
              "        [ 9., 12., 15.],\n",
              "        [ 9., 11., 13.]])"
            ]
          },
          "metadata": {},
          "execution_count": 12
        }
      ],
      "source": [
        "# bidirectional edges with self-connection\n",
        "x = torch.arange(9).reshape(3,3).float()\n",
        "edge_index = [[0,1],[2,1]]\n",
        "edge_index = torch.tensor(edge_index).T\n",
        "edge_index = to_undirected(edge_index)\n",
        "print(x)\n",
        "\n",
        "model = SimpleGNN()\n",
        "model(x,edge_index)"
      ],
      "id": "6WD3niZq9MQh"
    },
    {
      "cell_type": "markdown",
      "metadata": {
        "id": "PWnS8RK49MQh"
      },
      "source": [
        "### Differnt pooling function\n",
        "There are various pooling function you can choose during the message passing stage to control how those information was aggregated. <br>\n",
        "**Sum, Mean and Max Pooling** are the most common and widely used operation."
      ],
      "id": "PWnS8RK49MQh"
    },
    {
      "cell_type": "code",
      "execution_count": null,
      "metadata": {
        "id": "RFY4nRle9MQi"
      },
      "outputs": [],
      "source": [
        "# another way to implement self-connection\n",
        "class SimpleGNN(MessagePassing):\n",
        "    def __init__(self,**kwagrs):\n",
        "        super().__init__(**kwagrs)\n",
        "\n",
        "    def forward(self, x, edge_index):\n",
        "        return self.propagate(edge_index,x=x)"
      ],
      "id": "RFY4nRle9MQi"
    },
    {
      "cell_type": "code",
      "execution_count": null,
      "metadata": {
        "colab": {
          "base_uri": "https://localhost:8080/"
        },
        "id": "QVfzKjts9MQi",
        "outputId": "ca9589e1-bafd-4b37-a7ce-96246f7448a3"
      },
      "outputs": [
        {
          "output_type": "stream",
          "name": "stdout",
          "text": [
            "tensor([[0., 1., 2.],\n",
            "        [3., 4., 5.],\n",
            "        [6., 7., 8.]])\n",
            "Results of sum pooling...\n",
            "tensor([[ 3.,  5.,  7.],\n",
            "        [ 9., 12., 15.],\n",
            "        [ 9., 11., 13.]])\n",
            "------------------------------\n",
            "Results of mean pooling...\n",
            "tensor([[1.5000, 2.5000, 3.5000],\n",
            "        [3.0000, 4.0000, 5.0000],\n",
            "        [4.5000, 5.5000, 6.5000]])\n",
            "------------------------------\n",
            "Results of max pooling...\n",
            "tensor([[3., 4., 5.],\n",
            "        [6., 7., 8.],\n",
            "        [6., 7., 8.]])\n",
            "------------------------------\n"
          ]
        }
      ],
      "source": [
        "# bidirectional edges with self-connection\n",
        "x = torch.arange(9).reshape(3,3).float()\n",
        "edge_index = [[0,1],[2,1]] + [[0,0],[1,1],[2,2]]\n",
        "edge_index = torch.tensor(edge_index).T\n",
        "edge_index = to_undirected(edge_index)\n",
        "print(x)\n",
        "\n",
        "# sum pooling\n",
        "model = SimpleGNN(aggr=\"sum\")\n",
        "print(\"Results of sum pooling...\")\n",
        "print(model(x,edge_index))\n",
        "print(\"-\"*30)\n",
        "\n",
        "# mean pooling\n",
        "model = SimpleGNN(aggr=\"mean\")\n",
        "print(\"Results of mean pooling...\")\n",
        "print(model(x,edge_index))\n",
        "print(\"-\"*30)\n",
        "\n",
        "# sum pooling\n",
        "model = SimpleGNN(aggr=\"max\")\n",
        "print(\"Results of max pooling...\")\n",
        "print(model(x,edge_index))\n",
        "print(\"-\"*30)"
      ],
      "id": "QVfzKjts9MQi"
    },
    {
      "cell_type": "markdown",
      "metadata": {
        "id": "sSOiQJTN9MQi"
      },
      "source": [
        "### The most powerful techniques of GNN: Exploring multi-hop neighbor by stacking GNN layers"
      ],
      "id": "sSOiQJTN9MQi"
    },
    {
      "cell_type": "code",
      "execution_count": null,
      "metadata": {
        "colab": {
          "base_uri": "https://localhost:8080/"
        },
        "id": "mPaW0SVX9MQi",
        "outputId": "b0647324-f220-4403-97cc-96158582b6e9"
      },
      "outputs": [
        {
          "output_type": "stream",
          "name": "stdout",
          "text": [
            "Embedding after first message passing...\n",
            "tensor([[ 3.,  4.,  5.],\n",
            "        [ 6.,  8., 10.],\n",
            "        [ 3.,  4.,  5.]])\n",
            "Embedding after second message passing...\n",
            "tensor([[ 6.,  8., 10.],\n",
            "        [ 6.,  8., 10.],\n",
            "        [ 6.,  8., 10.]])\n"
          ]
        }
      ],
      "source": [
        "# bidirectional edges\n",
        "x = torch.arange(9).reshape(3,3).float()\n",
        "edge_index = [[0,1],[2,1]]\n",
        "edge_index = torch.tensor(edge_index).T\n",
        "edge_index = to_undirected(edge_index)\n",
        "model = SimpleGNN(aggr=\"sum\")\n",
        "\n",
        "# first-hop neighbor\n",
        "print(\"Embedding after first message passing...\")\n",
        "first_embedding = model(x,edge_index)\n",
        "print(first_embedding)\n",
        "\n",
        "# second-hop neighbor\n",
        "print(\"Embedding after second message passing...\")\n",
        "second_embedding = model(first_embedding,edge_index)\n",
        "print(second_embedding)"
      ],
      "id": "mPaW0SVX9MQi"
    },
    {
      "cell_type": "code",
      "execution_count": null,
      "metadata": {
        "colab": {
          "base_uri": "https://localhost:8080/"
        },
        "id": "ts1JNme69MQi",
        "outputId": "11b6ea6a-fe64-4af0-d429-3decc790c4b5"
      },
      "outputs": [
        {
          "output_type": "stream",
          "name": "stdout",
          "text": [
            "Embedding after first message passing...\n",
            "tensor([[ 3.,  5.,  7.],\n",
            "        [ 9., 12., 15.],\n",
            "        [ 9., 11., 13.]])\n",
            "Embedding after second message passing...\n",
            "tensor([[12., 17., 22.],\n",
            "        [21., 28., 35.],\n",
            "        [18., 23., 28.]])\n"
          ]
        }
      ],
      "source": [
        "# bidirectional edges with self-connection\n",
        "x = torch.arange(9).reshape(3,3).float()\n",
        "edge_index = [[0,1],[2,1]] + [[0,0],[1,1],[2,2]]\n",
        "edge_index = torch.tensor(edge_index).T\n",
        "edge_index = to_undirected(edge_index)\n",
        "model = SimpleGNN(aggr=\"sum\")\n",
        "\n",
        "# first-hop neighbor\n",
        "print(\"Embedding after first message passing...\")\n",
        "first_embedding = model(x,edge_index)\n",
        "print(first_embedding)\n",
        "\n",
        "# second-hop neighbor\n",
        "print(\"Embedding after second message passing...\")\n",
        "second_embedding = model(first_embedding,edge_index)\n",
        "print(second_embedding)"
      ],
      "id": "ts1JNme69MQi"
    },
    {
      "cell_type": "code",
      "execution_count": null,
      "metadata": {
        "id": "nWHE8G5j9MQj"
      },
      "outputs": [],
      "source": [
        "# another way to implement multi-hop message passing\n",
        "class SimpleGNN(MessagePassing):\n",
        "    def __init__(self,n_layers=1,**kwagrs):\n",
        "        super().__init__(**kwagrs)\n",
        "        self.n_layers = n_layers\n",
        "\n",
        "    def forward(self, x, edge_index):\n",
        "        for _ in range(self.n_layers):\n",
        "            x = self.propagate(edge_index,x=x)\n",
        "        return x"
      ],
      "id": "nWHE8G5j9MQj"
    },
    {
      "cell_type": "code",
      "execution_count": null,
      "metadata": {
        "colab": {
          "base_uri": "https://localhost:8080/"
        },
        "id": "98tZ2CCV9MQj",
        "outputId": "8fd6d66d-3c19-4cc5-9042-4e8f2b7a34d4"
      },
      "outputs": [
        {
          "output_type": "stream",
          "name": "stdout",
          "text": [
            "Embedding after first message passing...\n",
            "tensor([[ 3.,  5.,  7.],\n",
            "        [ 9., 12., 15.],\n",
            "        [ 9., 11., 13.]])\n",
            "Embedding after second message passing...\n",
            "tensor([[12., 17., 22.],\n",
            "        [21., 28., 35.],\n",
            "        [18., 23., 28.]])\n"
          ]
        }
      ],
      "source": [
        "# bidirectional edges with self-connection\n",
        "x = torch.arange(9).reshape(3,3).float()\n",
        "edge_index = [[0,1],[2,1]] + [[0,0],[1,1],[2,2]]\n",
        "edge_index = torch.tensor(edge_index).T\n",
        "edge_index = to_undirected(edge_index)\n",
        "\n",
        "# first-hop neighbor\n",
        "print(\"Embedding after first message passing...\")\n",
        "model = SimpleGNN(n_layers=1,aggr=\"sum\")\n",
        "first_embedding = model(x,edge_index)\n",
        "print(first_embedding)\n",
        "\n",
        "# second-hop neighbor\n",
        "print(\"Embedding after second message passing...\")\n",
        "model = SimpleGNN(n_layers=2,aggr=\"sum\")\n",
        "second_embedding = model(x,edge_index)\n",
        "print(second_embedding)"
      ],
      "id": "98tZ2CCV9MQj"
    },
    {
      "cell_type": "markdown",
      "metadata": {
        "id": "-z9mZ05i9MQj"
      },
      "source": [
        "### Nueral Networks in GNN"
      ],
      "id": "-z9mZ05i9MQj"
    },
    {
      "cell_type": "code",
      "execution_count": null,
      "metadata": {
        "id": "x7J_vQ3C9MQj"
      },
      "outputs": [],
      "source": [
        "# another way to implement multi-hop message passing\n",
        "class CoolGNN(MessagePassing):\n",
        "    def __init__(self,n_layers=1,**kwagrs):\n",
        "        super().__init__(**kwagrs)\n",
        "        self.n_layers = n_layers\n",
        "        self.nn_layers = nn.ModuleList([nn.Linear(3,3) for _ in range(self.n_layers)])\n",
        "\n",
        "    def forward(self, x, edge_index):\n",
        "        for i in range(self.n_layers):\n",
        "            x = self.nn_layers[i](self.propagate(edge_index,x=x))\n",
        "            x = torch.relu(x)\n",
        "        return x"
      ],
      "id": "x7J_vQ3C9MQj"
    },
    {
      "cell_type": "code",
      "execution_count": null,
      "metadata": {
        "colab": {
          "base_uri": "https://localhost:8080/"
        },
        "id": "i66Rq-_o9MQj",
        "outputId": "64715ae5-7a63-47d8-e46a-e2d210e36315"
      },
      "outputs": [
        {
          "output_type": "stream",
          "name": "stdout",
          "text": [
            "Embedding after first message passing...\n",
            "tensor([[ 5.6653,  0.0000,  0.0000],\n",
            "        [12.3975,  0.0000,  0.0000],\n",
            "        [11.1325,  0.0000,  0.0000]], grad_fn=<ReluBackward0>)\n",
            "Embedding after second message passing...\n",
            "tensor([[ 6.9591,  0.0000,  0.0000],\n",
            "        [10.7604,  0.0000,  0.0000],\n",
            "        [ 8.3156,  0.0000,  0.0000]], grad_fn=<ReluBackward0>)\n"
          ]
        }
      ],
      "source": [
        "# bidirectional edges with self-connection\n",
        "x = torch.arange(9).reshape(3,3).float()\n",
        "edge_index = [[0,1],[2,1]] + [[0,0],[1,1],[2,2]]\n",
        "edge_index = torch.tensor(edge_index).T\n",
        "edge_index = to_undirected(edge_index)\n",
        "\n",
        "# first-hop neighbor\n",
        "print(\"Embedding after first message passing...\")\n",
        "model = CoolGNN(n_layers=1,aggr=\"sum\")\n",
        "first_embedding = model(x,edge_index)\n",
        "print(first_embedding)\n",
        "\n",
        "# second-hop neighbor\n",
        "print(\"Embedding after second message passing...\")\n",
        "model = CoolGNN(n_layers=2,aggr=\"sum\")\n",
        "second_embedding = model(x,edge_index)\n",
        "print(second_embedding)"
      ],
      "id": "i66Rq-_o9MQj"
    },
    {
      "cell_type": "code",
      "execution_count": null,
      "metadata": {
        "colab": {
          "base_uri": "https://localhost:8080/"
        },
        "id": "-kGGDBxP9MQj",
        "outputId": "f1b83b66-fc8a-40b2-e976-c1cceab8e0b9"
      },
      "outputs": [
        {
          "output_type": "stream",
          "name": "stdout",
          "text": [
            "tensor([[-3.6635e+00, -8.1956e-01, -1.7585e+00,  3.5934e+00, -1.5177e+00,\n",
            "         -3.7142e-01, -2.1089e+00, -1.0228e+00,  2.0842e-01,  2.5440e-01,\n",
            "         -1.6826e+00,  5.2085e-01,  2.3654e-01,  1.1558e+00, -5.9577e-01,\n",
            "         -9.0052e-01],\n",
            "        [-8.3300e+00, -2.8151e+00, -2.8142e+00,  7.2812e+00, -4.3498e+00,\n",
            "         -2.0714e-01, -4.0700e+00, -4.7959e+00,  9.1710e-01, -1.8422e-01,\n",
            "         -3.7392e+00, -1.2038e+00,  4.7343e-03,  2.7239e+00, -1.4172e+00,\n",
            "         -2.6825e+00],\n",
            "        [-1.2996e+01, -4.8107e+00, -3.8698e+00,  1.0969e+01, -7.1819e+00,\n",
            "         -4.2856e-02, -6.0310e+00, -8.5689e+00,  1.6258e+00, -6.2284e-01,\n",
            "         -5.7958e+00, -2.9284e+00, -2.2707e-01,  4.2920e+00, -2.2386e+00,\n",
            "         -4.4645e+00]], grad_fn=<AddBackward0>)\n"
          ]
        }
      ],
      "source": [
        "# using off-the-shelf GNN models\n",
        "from torch_geometric.nn import GCNConv, SAGEConv\n",
        "model = SAGEConv(in_channels=3,out_channels=16)\n",
        "embedding = model(x,edge_index)\n",
        "print(embedding)"
      ],
      "id": "-kGGDBxP9MQj"
    },
    {
      "cell_type": "markdown",
      "metadata": {
        "id": "14771a3a"
      },
      "source": [
        "## Unsupervised GRL with GraphSAGE\n",
        "Previously, we mentioned that Node2vec outperform MLP in semi-supervised node classification task.<br>\n",
        "However, including both node feature and graph embedding did not boost the performance significantly. <br>\n",
        "Here, we introduce the `GraphSAGE` that is a GNN based approach to model node feature and graph structure at the same time.\n",
        "\n",
        "GraphSAGE stands for Graph **SA**mple and Aggre**G**at**E**. It's a model to generate node embeddings for large, very dense graphs (to be used at companies like Pinterest).\n",
        "\n",
        "The work introduces learned aggregators on a node's neighbourhoods. Unlike traditional GATs or GCNs that consider all nodes in the neighbourhood, GraphSAGE uniformly samples the neighbours and uses the learned aggregators on them.\n",
        "\n",
        "Suppose we have $L$ layers in the network (depth), each layer $l \\in \\{1,\\dots,L\\}$ looks at a larger $l$-hop neighbourhood w.r.t. the source node (as one would expect). Each source node is then updated by concatenating the node embedding with the sampled messages before being passed through a MLP $F$ and non-linearity $\\sigma$.\n",
        "\n",
        "For a certain layer $l$,\n",
        "\n",
        "\\begin{equation}\n",
        "h_v^{(l)} = W_l\\cdot h_v^{(l-1)} + W_r \\cdot AGG(\\{h_u^{(l-1)}, \\forall u \\in N(v) \\})\n",
        "\\end{equation}\n",
        "\n",
        "A simple mean aggregator could be:\n",
        "\\begin{equation}\n",
        "AGG(\\{h_u^{(l-1)}, \\forall u \\in N(v) \\}) = \\frac{1}{|N(v)|} \\sum_{u\\in N(v)} h_u^{(l-1)}\n",
        "\\end{equation}\n",
        "\n",
        "There are supervised and unsupervised learning framework for GraphSAGE. <br>\n",
        "Here we present the unsupervised learning scheme which optimize the following objective:\n",
        "\\begin{equation}\n",
        "\\log \\left ( \\sigma (h_u^{\\top} h_v)  \\right) - \\sum_{i=1}^k \\log \\left ( \\sigma (h_u^{\\top} h_{n_i})  \\right), n_i \\sim P_V\n",
        "\\end{equation}\n",
        "![](https://snap.stanford.edu/graphsage/sample_and_agg.png)"
      ],
      "id": "14771a3a"
    },
    {
      "cell_type": "code",
      "execution_count": null,
      "metadata": {
        "id": "YbBjup3U9MQk",
        "colab": {
          "base_uri": "https://localhost:8080/"
        },
        "outputId": "b643e566-58d1-4cd1-bc28-62dd2a33fc48"
      },
      "outputs": [
        {
          "output_type": "stream",
          "name": "stderr",
          "text": [
            "Downloading https://github.com/kimiyoung/planetoid/raw/master/data/ind.cora.x\n",
            "Downloading https://github.com/kimiyoung/planetoid/raw/master/data/ind.cora.tx\n",
            "Downloading https://github.com/kimiyoung/planetoid/raw/master/data/ind.cora.allx\n",
            "Downloading https://github.com/kimiyoung/planetoid/raw/master/data/ind.cora.y\n",
            "Downloading https://github.com/kimiyoung/planetoid/raw/master/data/ind.cora.ty\n",
            "Downloading https://github.com/kimiyoung/planetoid/raw/master/data/ind.cora.ally\n",
            "Downloading https://github.com/kimiyoung/planetoid/raw/master/data/ind.cora.graph\n",
            "Downloading https://github.com/kimiyoung/planetoid/raw/master/data/ind.cora.test.index\n",
            "Processing...\n",
            "Done!\n"
          ]
        }
      ],
      "source": [
        "device = torch.device('cuda' if torch.cuda.is_available() else 'cpu')\n",
        "\n",
        "dataset = 'Cora'\n",
        "path = osp.join('.', 'data', dataset)\n",
        "dataset = Planetoid(root=path, name='Cora', transform=NormalizeFeatures())\n",
        "data = dataset[0]"
      ],
      "id": "YbBjup3U9MQk"
    },
    {
      "cell_type": "code",
      "execution_count": null,
      "metadata": {
        "id": "66d58402"
      },
      "outputs": [],
      "source": [
        "import torch\n",
        "import torch.nn as nn\n",
        "import torch.nn.functional as F\n",
        "from sklearn.linear_model import LogisticRegression\n",
        "from torch_cluster import random_walk\n",
        "\n",
        "from torch_geometric.loader import LinkNeighborLoader\n",
        "from torch_geometric.nn import SAGEConv"
      ],
      "id": "66d58402"
    },
    {
      "cell_type": "code",
      "execution_count": null,
      "metadata": {
        "id": "e0c194b0"
      },
      "outputs": [],
      "source": [
        "class SAGE(nn.Module):\n",
        "    def __init__(self, in_channels, hidden_channels, num_layers):\n",
        "        super().__init__()\n",
        "        self.num_layers = num_layers\n",
        "        self.convs = nn.ModuleList()\n",
        "        self.num_layers = num_layers\n",
        "        for i in range(num_layers):\n",
        "            in_channels = in_channels if i == 0 else hidden_channels\n",
        "            self.convs.append(SAGEConv(in_channels, hidden_channels))\n",
        "\n",
        "    def forward(self, x, edge_index):\n",
        "        for i in range(self.num_layers):\n",
        "            x = self.convs[i](x, edge_index)\n",
        "            if i != self.num_layers - 1:\n",
        "                x = x.relu()\n",
        "                x = F.dropout(x, p=0.5, training=self.training)\n",
        "        return x\n",
        "\n",
        "    def full_forward(self, x, edge_index):\n",
        "        for i, conv in enumerate(self.convs):\n",
        "            x = conv(x, edge_index)\n",
        "            if i != self.num_layers - 1:\n",
        "                x = x.relu()\n",
        "                x = F.dropout(x, p=0.5, training=self.training)\n",
        "        return x"
      ],
      "id": "e0c194b0"
    },
    {
      "cell_type": "code",
      "execution_count": null,
      "metadata": {
        "id": "583902a9",
        "colab": {
          "base_uri": "https://localhost:8080/"
        },
        "outputId": "2bebdd81-c93d-4626-f693-b8cb87cd2cb0"
      },
      "outputs": [
        {
          "output_type": "stream",
          "name": "stderr",
          "text": [
            "/usr/local/lib/python3.10/dist-packages/torch_geometric/sampler/neighbor_sampler.py:60: UserWarning: Using 'NeighborSampler' without a 'pyg-lib' installation is deprecated and will be removed soon. Please install 'pyg-lib' for accelerated neighborhood sampling\n",
            "  warnings.warn(f\"Using '{self.__class__.__name__}' without a \"\n"
          ]
        }
      ],
      "source": [
        "# define neighbor sampler\n",
        "train_loader = LinkNeighborLoader(\n",
        "    data,\n",
        "    batch_size=256,\n",
        "    shuffle=True,\n",
        "    neg_sampling_ratio=1.0,\n",
        "    num_neighbors=[10, 10],\n",
        ")"
      ],
      "id": "583902a9"
    },
    {
      "cell_type": "code",
      "execution_count": null,
      "metadata": {
        "colab": {
          "base_uri": "https://localhost:8080/"
        },
        "id": "XYa_hzU39MQl",
        "outputId": "6fd2e880-14bb-45f6-fc05-a97fc671e3cc"
      },
      "outputs": [
        {
          "output_type": "execute_result",
          "data": {
            "text/plain": [
              "torch.Size([2, 10556])"
            ]
          },
          "metadata": {},
          "execution_count": 26
        }
      ],
      "source": [
        "data.edge_index.shape"
      ],
      "id": "XYa_hzU39MQl"
    },
    {
      "cell_type": "code",
      "execution_count": null,
      "metadata": {
        "colab": {
          "base_uri": "https://localhost:8080/"
        },
        "id": "BK7x8-jo9MQl",
        "outputId": "21c4b2e2-df0d-4ab6-cee6-a520b6832cba"
      },
      "outputs": [
        {
          "output_type": "stream",
          "name": "stdout",
          "text": [
            "Data(x=[2387, 1433], edge_index=[2, 7872], y=[2387], train_mask=[2387], val_mask=[2387], test_mask=[2387], n_id=[2387], e_id=[7872], input_id=[256], edge_label_index=[2, 512], edge_label=[512])\n"
          ]
        }
      ],
      "source": [
        "for batch in train_loader:\n",
        "    print(batch)\n",
        "    break"
      ],
      "id": "BK7x8-jo9MQl"
    },
    {
      "cell_type": "code",
      "execution_count": null,
      "metadata": {
        "colab": {
          "base_uri": "https://localhost:8080/"
        },
        "id": "kWzD1vPb9MQl",
        "outputId": "b9987277-52fe-4b9e-de87-b191b833fd01"
      },
      "outputs": [
        {
          "output_type": "stream",
          "name": "stdout",
          "text": [
            "Edge label index: containing both positive and negative edges\n",
            "tensor([[407, 297, 548,  ..., 584, 345, 815],\n",
            "        [693,  58, 493,  ..., 778, 585, 494]])\n",
            "Edge label: 1 stands for positive and 0 stands for negative node pair(edge)\n",
            "tensor([1., 1., 1., 1., 1., 1., 1., 1., 1., 1., 1., 1., 1., 1., 1., 1., 1., 1.,\n",
            "        1., 1., 1., 1., 1., 1., 1., 1., 1., 1., 1., 1., 1., 1., 1., 1., 1., 1.,\n",
            "        1., 1., 1., 1., 1., 1., 1., 1., 1., 1., 1., 1., 1., 1., 1., 1., 1., 1.,\n",
            "        1., 1., 1., 1., 1., 1., 1., 1., 1., 1., 1., 1., 1., 1., 1., 1., 1., 1.,\n",
            "        1., 1., 1., 1., 1., 1., 1., 1., 1., 1., 1., 1., 1., 1., 1., 1., 1., 1.,\n",
            "        1., 1., 1., 1., 1., 1., 1., 1., 1., 1., 1., 1., 1., 1., 1., 1., 1., 1.,\n",
            "        1., 1., 1., 1., 1., 1., 1., 1., 1., 1., 1., 1., 1., 1., 1., 1., 1., 1.,\n",
            "        1., 1., 1., 1., 1., 1., 1., 1., 1., 1., 1., 1., 1., 1., 1., 1., 1., 1.,\n",
            "        1., 1., 1., 1., 1., 1., 1., 1., 1., 1., 1., 1., 1., 1., 1., 1., 1., 1.,\n",
            "        1., 1., 1., 1., 1., 1., 1., 1., 1., 1., 1., 1., 1., 1., 1., 1., 1., 1.,\n",
            "        1., 1., 1., 1., 1., 1., 1., 1., 1., 1., 1., 1., 1., 1., 1., 1., 1., 1.,\n",
            "        1., 1., 1., 1., 1., 1., 1., 1., 1., 1., 1., 1., 1., 1., 1., 1., 1., 1.,\n",
            "        1., 1., 1., 1., 1., 1., 1., 1., 1., 1., 1., 1., 1., 1., 1., 1., 1., 1.,\n",
            "        1., 1., 1., 1., 1., 1., 1., 1., 1., 1., 1., 1., 1., 1., 1., 1., 1., 1.,\n",
            "        1., 1., 1., 1., 0., 0., 0., 0., 0., 0., 0., 0., 0., 0., 0., 0., 0., 0.,\n",
            "        0., 0., 0., 0., 0., 0., 0., 0., 0., 0., 0., 0., 0., 0., 0., 0., 0., 0.,\n",
            "        0., 0., 0., 0., 0., 0., 0., 0., 0., 0., 0., 0., 0., 0., 0., 0., 0., 0.,\n",
            "        0., 0., 0., 0., 0., 0., 0., 0., 0., 0., 0., 0., 0., 0., 0., 0., 0., 0.,\n",
            "        0., 0., 0., 0., 0., 0., 0., 0., 0., 0., 0., 0., 0., 0., 0., 0., 0., 0.,\n",
            "        0., 0., 0., 0., 0., 0., 0., 0., 0., 0., 0., 0., 0., 0., 0., 0., 0., 0.,\n",
            "        0., 0., 0., 0., 0., 0., 0., 0., 0., 0., 0., 0., 0., 0., 0., 0., 0., 0.,\n",
            "        0., 0., 0., 0., 0., 0., 0., 0., 0., 0., 0., 0., 0., 0., 0., 0., 0., 0.,\n",
            "        0., 0., 0., 0., 0., 0., 0., 0., 0., 0., 0., 0., 0., 0., 0., 0., 0., 0.,\n",
            "        0., 0., 0., 0., 0., 0., 0., 0., 0., 0., 0., 0., 0., 0., 0., 0., 0., 0.,\n",
            "        0., 0., 0., 0., 0., 0., 0., 0., 0., 0., 0., 0., 0., 0., 0., 0., 0., 0.,\n",
            "        0., 0., 0., 0., 0., 0., 0., 0., 0., 0., 0., 0., 0., 0., 0., 0., 0., 0.,\n",
            "        0., 0., 0., 0., 0., 0., 0., 0., 0., 0., 0., 0., 0., 0., 0., 0., 0., 0.,\n",
            "        0., 0., 0., 0., 0., 0., 0., 0., 0., 0., 0., 0., 0., 0., 0., 0., 0., 0.,\n",
            "        0., 0., 0., 0., 0., 0., 0., 0.])\n"
          ]
        }
      ],
      "source": [
        "print(\"Edge label index: containing both positive and negative edges\")\n",
        "print(batch.edge_label_index)\n",
        "\n",
        "print(\"Edge label: 1 stands for positive and 0 stands for negative node pair(edge)\")\n",
        "print(batch.edge_label)"
      ],
      "id": "kWzD1vPb9MQl"
    },
    {
      "cell_type": "code",
      "execution_count": null,
      "metadata": {
        "id": "BaT6bJq89MQl"
      },
      "outputs": [],
      "source": [
        "# define training and testing functions\n",
        "def train():\n",
        "    model.train()\n",
        "\n",
        "    total_loss = 0\n",
        "    for batch in train_loader:\n",
        "        batch = batch.to(device)\n",
        "        optimizer.zero_grad()\n",
        "        embedding = model(batch.x, batch.edge_index)\n",
        "        embedding_src = embedding[batch.edge_label_index[0]]\n",
        "        embedding_dst = embedding[batch.edge_label_index[1]]\n",
        "        pred = (embedding_src * embedding_dst).sum(dim=-1)\n",
        "        loss = F.binary_cross_entropy_with_logits(pred, batch.edge_label)\n",
        "        loss.backward()\n",
        "        optimizer.step()\n",
        "\n",
        "        total_loss += float(loss) * pred.size(0)\n",
        "\n",
        "    return total_loss / data.num_nodes\n",
        "\n",
        "\n",
        "@torch.no_grad()\n",
        "def test():\n",
        "    model.eval()\n",
        "    out = model.full_forward(x, edge_index).cpu()\n",
        "\n",
        "    clf = LogisticRegression()\n",
        "    clf.fit(out[data.train_mask], data.y[data.train_mask])\n",
        "\n",
        "    val_acc = clf.score(out[data.val_mask], data.y[data.val_mask])\n",
        "    test_acc = clf.score(out[data.test_mask], data.y[data.test_mask])\n",
        "\n",
        "    return val_acc, test_acc"
      ],
      "id": "BaT6bJq89MQl"
    },
    {
      "cell_type": "code",
      "execution_count": null,
      "metadata": {
        "id": "8b9db1f5"
      },
      "outputs": [],
      "source": [
        "device = torch.device('cuda' if torch.cuda.is_available() else 'cpu')\n",
        "model = SAGE(data.num_node_features, hidden_channels=64, num_layers=2)\n",
        "model = model.to(device)\n",
        "optimizer = torch.optim.Adam(model.parameters(), lr=0.005,weight_decay=1e-4)\n",
        "x, edge_index = data.x.to(device), data.edge_index.to(device)"
      ],
      "id": "8b9db1f5"
    },
    {
      "cell_type": "code",
      "execution_count": null,
      "metadata": {
        "colab": {
          "base_uri": "https://localhost:8080/"
        },
        "id": "e88903af",
        "outputId": "8b4bf00a-14e9-44c4-baf9-bc3d21b3c25b",
        "scrolled": true
      },
      "outputs": [
        {
          "output_type": "stream",
          "name": "stdout",
          "text": [
            "Epoch: 001, Loss: 5.2098, Val: 0.4120, Test: 0.3790\n",
            "Epoch: 002, Loss: 4.5728, Val: 0.5060, Test: 0.4930\n",
            "Epoch: 003, Loss: 4.3069, Val: 0.5540, Test: 0.5250\n",
            "Epoch: 004, Loss: 4.1044, Val: 0.6480, Test: 0.6340\n",
            "Epoch: 005, Loss: 3.9863, Val: 0.6840, Test: 0.6720\n",
            "Epoch: 006, Loss: 3.9244, Val: 0.6860, Test: 0.6890\n",
            "Epoch: 007, Loss: 3.8495, Val: 0.7020, Test: 0.7280\n",
            "Epoch: 008, Loss: 3.8161, Val: 0.7180, Test: 0.7340\n",
            "Epoch: 009, Loss: 3.8312, Val: 0.7160, Test: 0.7410\n",
            "Epoch: 010, Loss: 3.7944, Val: 0.7140, Test: 0.7520\n",
            "Epoch: 011, Loss: 3.7871, Val: 0.7120, Test: 0.7480\n",
            "Epoch: 012, Loss: 3.7275, Val: 0.7260, Test: 0.7550\n",
            "Epoch: 013, Loss: 3.7148, Val: 0.7340, Test: 0.7560\n",
            "Epoch: 014, Loss: 3.7228, Val: 0.7300, Test: 0.7550\n",
            "Epoch: 015, Loss: 3.6985, Val: 0.7120, Test: 0.7530\n",
            "Epoch: 016, Loss: 3.6830, Val: 0.7280, Test: 0.7720\n",
            "Epoch: 017, Loss: 3.6849, Val: 0.7360, Test: 0.7640\n",
            "Epoch: 018, Loss: 3.7113, Val: 0.7540, Test: 0.7700\n",
            "Epoch: 019, Loss: 3.6584, Val: 0.7420, Test: 0.7670\n",
            "Epoch: 020, Loss: 3.6887, Val: 0.7340, Test: 0.7540\n",
            "Epoch: 021, Loss: 3.6583, Val: 0.7340, Test: 0.7520\n",
            "Epoch: 022, Loss: 3.6313, Val: 0.7440, Test: 0.7500\n",
            "Epoch: 023, Loss: 3.6003, Val: 0.7380, Test: 0.7470\n",
            "Epoch: 024, Loss: 3.6389, Val: 0.7340, Test: 0.7580\n",
            "Epoch: 025, Loss: 3.6108, Val: 0.7360, Test: 0.7470\n",
            "Epoch: 026, Loss: 3.6321, Val: 0.7280, Test: 0.7420\n",
            "Epoch: 027, Loss: 3.6103, Val: 0.7300, Test: 0.7470\n",
            "Epoch: 028, Loss: 3.6165, Val: 0.7120, Test: 0.7530\n",
            "Epoch: 029, Loss: 3.6056, Val: 0.7120, Test: 0.7560\n",
            "Epoch: 030, Loss: 3.6124, Val: 0.7200, Test: 0.7580\n",
            "Epoch: 031, Loss: 3.6164, Val: 0.7380, Test: 0.7590\n",
            "Epoch: 032, Loss: 3.5870, Val: 0.7320, Test: 0.7660\n",
            "Epoch: 033, Loss: 3.5809, Val: 0.7340, Test: 0.7540\n",
            "Epoch: 034, Loss: 3.5964, Val: 0.7320, Test: 0.7530\n",
            "Epoch: 035, Loss: 3.5546, Val: 0.7460, Test: 0.7510\n",
            "Epoch: 036, Loss: 3.6115, Val: 0.7260, Test: 0.7560\n",
            "Epoch: 037, Loss: 3.5855, Val: 0.7240, Test: 0.7560\n",
            "Epoch: 038, Loss: 3.5814, Val: 0.7280, Test: 0.7590\n",
            "Epoch: 039, Loss: 3.5454, Val: 0.7440, Test: 0.7730\n",
            "Epoch: 040, Loss: 3.5540, Val: 0.7400, Test: 0.7690\n",
            "Epoch: 041, Loss: 3.5522, Val: 0.7260, Test: 0.7640\n",
            "Epoch: 042, Loss: 3.5410, Val: 0.7440, Test: 0.7760\n",
            "Epoch: 043, Loss: 3.5506, Val: 0.7380, Test: 0.7660\n",
            "Epoch: 044, Loss: 3.5717, Val: 0.7320, Test: 0.7570\n",
            "Epoch: 045, Loss: 3.5409, Val: 0.7340, Test: 0.7730\n",
            "Epoch: 046, Loss: 3.5779, Val: 0.7340, Test: 0.7780\n",
            "Epoch: 047, Loss: 3.5346, Val: 0.7280, Test: 0.7640\n",
            "Epoch: 048, Loss: 3.5511, Val: 0.7400, Test: 0.7690\n",
            "Epoch: 049, Loss: 3.5138, Val: 0.7300, Test: 0.7680\n",
            "Epoch: 050, Loss: 3.4934, Val: 0.7340, Test: 0.7640\n",
            "Epoch: 051, Loss: 3.5126, Val: 0.7460, Test: 0.7710\n",
            "Epoch: 052, Loss: 3.5112, Val: 0.7440, Test: 0.7680\n",
            "Epoch: 053, Loss: 3.5711, Val: 0.7480, Test: 0.7740\n",
            "Epoch: 054, Loss: 3.5631, Val: 0.7480, Test: 0.7730\n",
            "Epoch: 055, Loss: 3.5437, Val: 0.7680, Test: 0.7830\n",
            "Epoch: 056, Loss: 3.5069, Val: 0.7680, Test: 0.7680\n",
            "Epoch: 057, Loss: 3.5417, Val: 0.7600, Test: 0.7640\n",
            "Epoch: 058, Loss: 3.5314, Val: 0.7480, Test: 0.7640\n",
            "Epoch: 059, Loss: 3.5526, Val: 0.7640, Test: 0.7780\n",
            "Epoch: 060, Loss: 3.4998, Val: 0.7480, Test: 0.7860\n",
            "Epoch: 061, Loss: 3.5077, Val: 0.7440, Test: 0.7720\n",
            "Epoch: 062, Loss: 3.5448, Val: 0.7520, Test: 0.7810\n",
            "Epoch: 063, Loss: 3.5047, Val: 0.7500, Test: 0.7680\n",
            "Epoch: 064, Loss: 3.4835, Val: 0.7520, Test: 0.7740\n",
            "Epoch: 065, Loss: 3.5461, Val: 0.7460, Test: 0.7800\n",
            "Epoch: 066, Loss: 3.5020, Val: 0.7600, Test: 0.7770\n",
            "Epoch: 067, Loss: 3.5448, Val: 0.7480, Test: 0.7600\n",
            "Epoch: 068, Loss: 3.4907, Val: 0.7720, Test: 0.7750\n",
            "Epoch: 069, Loss: 3.5422, Val: 0.7460, Test: 0.7810\n",
            "Epoch: 070, Loss: 3.5272, Val: 0.7380, Test: 0.7760\n",
            "Epoch: 071, Loss: 3.5314, Val: 0.7420, Test: 0.7840\n",
            "Epoch: 072, Loss: 3.5066, Val: 0.7520, Test: 0.7710\n",
            "Epoch: 073, Loss: 3.5581, Val: 0.7460, Test: 0.7760\n",
            "Epoch: 074, Loss: 3.5006, Val: 0.7380, Test: 0.7610\n",
            "Epoch: 075, Loss: 3.5156, Val: 0.7380, Test: 0.7540\n",
            "Epoch: 076, Loss: 3.5016, Val: 0.7400, Test: 0.7590\n",
            "Epoch: 077, Loss: 3.5109, Val: 0.7400, Test: 0.7820\n",
            "Epoch: 078, Loss: 3.5173, Val: 0.7400, Test: 0.7770\n",
            "Epoch: 079, Loss: 3.4996, Val: 0.7500, Test: 0.7760\n",
            "Epoch: 080, Loss: 3.4861, Val: 0.7620, Test: 0.7890\n",
            "Epoch: 081, Loss: 3.4868, Val: 0.7500, Test: 0.7770\n",
            "Epoch: 082, Loss: 3.5004, Val: 0.7520, Test: 0.7770\n",
            "Epoch: 083, Loss: 3.5164, Val: 0.7560, Test: 0.7760\n",
            "Epoch: 084, Loss: 3.4903, Val: 0.7460, Test: 0.7750\n",
            "Epoch: 085, Loss: 3.4938, Val: 0.7580, Test: 0.7860\n",
            "Epoch: 086, Loss: 3.4743, Val: 0.7540, Test: 0.7740\n",
            "Epoch: 087, Loss: 3.5226, Val: 0.7460, Test: 0.7800\n",
            "Epoch: 088, Loss: 3.5108, Val: 0.7460, Test: 0.7890\n",
            "Epoch: 089, Loss: 3.4771, Val: 0.7500, Test: 0.7780\n",
            "Epoch: 090, Loss: 3.4251, Val: 0.7540, Test: 0.7880\n",
            "Epoch: 091, Loss: 3.5003, Val: 0.7420, Test: 0.7890\n",
            "Epoch: 092, Loss: 3.5019, Val: 0.7440, Test: 0.7810\n",
            "Epoch: 093, Loss: 3.4457, Val: 0.7360, Test: 0.7720\n",
            "Epoch: 094, Loss: 3.5174, Val: 0.7440, Test: 0.7720\n",
            "Epoch: 095, Loss: 3.4566, Val: 0.7560, Test: 0.7780\n",
            "Epoch: 096, Loss: 3.4677, Val: 0.7640, Test: 0.7630\n",
            "Epoch: 097, Loss: 3.4902, Val: 0.7540, Test: 0.7720\n",
            "Epoch: 098, Loss: 3.4890, Val: 0.7640, Test: 0.7800\n",
            "Epoch: 099, Loss: 3.4798, Val: 0.7640, Test: 0.7860\n",
            "Epoch: 100, Loss: 3.4911, Val: 0.7720, Test: 0.7750\n"
          ]
        }
      ],
      "source": [
        "for epoch in range(1, 101):\n",
        "    loss = train()\n",
        "    val_acc, test_acc = test()\n",
        "    print(f'Epoch: {epoch:03d}, Loss: {loss:.4f}, '\n",
        "          f'Val: {val_acc:.4f}, Test: {test_acc:.4f}')"
      ],
      "id": "e88903af"
    },
    {
      "cell_type": "markdown",
      "metadata": {
        "id": "6caee53d"
      },
      "source": [
        "## Performance comparison\n",
        "Recall that in the previous examples, we performed node classification in 3 different ways.\n",
        "1. Bag of word + MLP with `Accuracy:0.6`\n",
        "2. Node2vec + Logistic regression with `Accuracy:0.703`\n",
        "3. Node2vec with Bag of word + Logistic regression with `Accuracy:0.707`\n",
        "4. GraphSAGE: with Bag of word + Logistic regression with `Accuracy:0.791`\n",
        "\n",
        "We noticed that node embedding + node feature cannot improve the performance significantly. <br>\n",
        "However, we make use of node feature and graph structure at the same time and boost the accuracy up to **0.791** with a simple two-layer `GraphSAGE`."
      ],
      "id": "6caee53d"
    },
    {
      "cell_type": "markdown",
      "metadata": {
        "id": "36240400"
      },
      "source": [
        "## End-to-end semi-supervised learning with Graph Convolution Network(GCN)\n",
        "Previously, we adopt a two stage classification pipeline where we first extract network feature via unsupervised learning then utilize a classifier to predict its label. <br>\n",
        "The two-stage design could be suboptimal since the network features were not extracted for specific task. <br>\n",
        "Hence, GCN is our best choice since GCN extract feature by aggregating information from neighboring nodes and making classification simultaneously."
      ],
      "id": "36240400"
    },
    {
      "cell_type": "code",
      "execution_count": null,
      "metadata": {
        "id": "9b156ae0"
      },
      "outputs": [],
      "source": [
        "from torch_geometric.nn import GCNConv\n",
        "import torch.nn.functional as F\n",
        "\n",
        "class GCN(torch.nn.Module):\n",
        "    def __init__(self, in_channels, hidden_channels, out_channels):\n",
        "        super().__init__()\n",
        "        self.conv1 = GCNConv(in_channels, hidden_channels, cached=True,\n",
        "                             normalize=True)\n",
        "        self.conv2 = GCNConv(hidden_channels, out_channels, cached=True,\n",
        "                             normalize=True)\n",
        "\n",
        "    def forward(self, x, edge_index, edge_weight=None):\n",
        "        x = F.dropout(x, p=0.3, training=self.training)\n",
        "        x = self.conv1(x, edge_index, edge_weight).relu()\n",
        "        x = F.dropout(x, p=0.3, training=self.training)\n",
        "        x = self.conv2(x, edge_index, edge_weight)\n",
        "        return x"
      ],
      "id": "9b156ae0"
    },
    {
      "cell_type": "code",
      "execution_count": null,
      "metadata": {
        "id": "67338214",
        "outputId": "2e969bc4-5cdb-4798-f56d-1a8c3471318f",
        "colab": {
          "base_uri": "https://localhost:8080/"
        }
      },
      "outputs": [
        {
          "output_type": "stream",
          "name": "stdout",
          "text": [
            "GCN(\n",
            "  (conv1): GCNConv(1433, 64)\n",
            "  (conv2): GCNConv(64, 7)\n",
            ")\n"
          ]
        }
      ],
      "source": [
        "dim = 64\n",
        "model = GCN(dataset.num_features, dim, dataset.num_classes)\n",
        "model, data = model.to(device), data.to(device)\n",
        "optimizer = torch.optim.Adam(model.parameters(),weight_decay=1e-4)\n",
        "print(model)"
      ],
      "id": "67338214"
    },
    {
      "cell_type": "markdown",
      "metadata": {
        "id": "9c1bc011"
      },
      "source": [
        "## Define training/testing fucntions\n",
        "\n",
        "### Training stage\n",
        "The GCN model takes two inputs: `x` and `edge_index` which represent the **node feature** and **edge index**, respectively. <br>\n",
        "Note: The training procedure is slightly different than what we used to do. <br>\n",
        "Since GNN takes the whole graph as input and output embeddings of individual nodes, the concept of \"batch\" does not apply here.\n"
      ],
      "id": "9c1bc011"
    },
    {
      "cell_type": "code",
      "execution_count": null,
      "metadata": {
        "id": "646fb96c"
      },
      "outputs": [],
      "source": [
        "def train():\n",
        "    model.train()\n",
        "    optimizer.zero_grad()\n",
        "    out = model(data.x, data.edge_index, data.edge_weight)\n",
        "    loss = F.cross_entropy(out[data.train_mask], data.y[data.train_mask])\n",
        "    loss.backward()\n",
        "    optimizer.step()\n",
        "    return float(loss)\n",
        "\n",
        "@torch.no_grad()\n",
        "def test():\n",
        "    model.eval()\n",
        "    pred = model(data.x, data.edge_index, data.edge_weight).argmax(dim=-1)\n",
        "    mask = data.test_mask\n",
        "    accs = (int((pred[mask] == data.y[mask]).sum()) / int(mask.sum()))\n",
        "    return accs"
      ],
      "id": "646fb96c"
    },
    {
      "cell_type": "code",
      "execution_count": null,
      "metadata": {
        "id": "142e2595",
        "outputId": "f07124ff-32ac-4632-af63-1d7c99d19322",
        "colab": {
          "base_uri": "https://localhost:8080/"
        }
      },
      "outputs": [
        {
          "output_type": "stream",
          "name": "stdout",
          "text": [
            "Loss:1.9457 Testing accuracy:0.2570\n",
            "Loss:1.9441 Testing accuracy:0.3510\n",
            "Loss:1.9424 Testing accuracy:0.4180\n",
            "Loss:1.9409 Testing accuracy:0.4850\n",
            "Loss:1.9389 Testing accuracy:0.5470\n",
            "Loss:1.9381 Testing accuracy:0.5810\n",
            "Loss:1.9351 Testing accuracy:0.6290\n",
            "Loss:1.9333 Testing accuracy:0.6580\n",
            "Loss:1.9311 Testing accuracy:0.6920\n",
            "Loss:1.9287 Testing accuracy:0.7140\n",
            "Loss:1.9264 Testing accuracy:0.7230\n",
            "Loss:1.9244 Testing accuracy:0.7340\n",
            "Loss:1.9218 Testing accuracy:0.7470\n",
            "Loss:1.9194 Testing accuracy:0.7550\n",
            "Loss:1.9164 Testing accuracy:0.7560\n",
            "Loss:1.9127 Testing accuracy:0.7600\n",
            "Loss:1.9118 Testing accuracy:0.7640\n",
            "Loss:1.9075 Testing accuracy:0.7670\n",
            "Loss:1.9044 Testing accuracy:0.7690\n",
            "Loss:1.9023 Testing accuracy:0.7750\n",
            "Loss:1.8988 Testing accuracy:0.7750\n",
            "Loss:1.8949 Testing accuracy:0.7770\n",
            "Loss:1.8939 Testing accuracy:0.7760\n",
            "Loss:1.8908 Testing accuracy:0.7730\n",
            "Loss:1.8860 Testing accuracy:0.7710\n",
            "Loss:1.8826 Testing accuracy:0.7690\n",
            "Loss:1.8794 Testing accuracy:0.7670\n",
            "Loss:1.8752 Testing accuracy:0.7690\n",
            "Loss:1.8732 Testing accuracy:0.7680\n",
            "Loss:1.8706 Testing accuracy:0.7720\n",
            "Loss:1.8677 Testing accuracy:0.7730\n",
            "Loss:1.8621 Testing accuracy:0.7740\n",
            "Loss:1.8592 Testing accuracy:0.7750\n",
            "Loss:1.8550 Testing accuracy:0.7730\n",
            "Loss:1.8512 Testing accuracy:0.7730\n",
            "Loss:1.8469 Testing accuracy:0.7780\n",
            "Loss:1.8432 Testing accuracy:0.7810\n",
            "Loss:1.8421 Testing accuracy:0.7820\n",
            "Loss:1.8362 Testing accuracy:0.7820\n",
            "Loss:1.8315 Testing accuracy:0.7840\n",
            "Loss:1.8263 Testing accuracy:0.7860\n",
            "Loss:1.8250 Testing accuracy:0.7890\n",
            "Loss:1.8199 Testing accuracy:0.7900\n",
            "Loss:1.8143 Testing accuracy:0.7900\n",
            "Loss:1.8100 Testing accuracy:0.7900\n",
            "Loss:1.8089 Testing accuracy:0.7910\n",
            "Loss:1.8018 Testing accuracy:0.7910\n",
            "Loss:1.7987 Testing accuracy:0.7910\n",
            "Loss:1.7937 Testing accuracy:0.7910\n",
            "Loss:1.7865 Testing accuracy:0.7900\n",
            "Loss:1.7867 Testing accuracy:0.7920\n",
            "Loss:1.7788 Testing accuracy:0.7910\n",
            "Loss:1.7751 Testing accuracy:0.7910\n",
            "Loss:1.7712 Testing accuracy:0.7900\n",
            "Loss:1.7676 Testing accuracy:0.7910\n",
            "Loss:1.7628 Testing accuracy:0.7910\n",
            "Loss:1.7539 Testing accuracy:0.7910\n",
            "Loss:1.7515 Testing accuracy:0.7910\n",
            "Loss:1.7445 Testing accuracy:0.7900\n",
            "Loss:1.7443 Testing accuracy:0.7900\n",
            "Loss:1.7434 Testing accuracy:0.7890\n",
            "Loss:1.7282 Testing accuracy:0.7890\n",
            "Loss:1.7235 Testing accuracy:0.7880\n",
            "Loss:1.7188 Testing accuracy:0.7890\n",
            "Loss:1.7189 Testing accuracy:0.7890\n",
            "Loss:1.7120 Testing accuracy:0.7890\n",
            "Loss:1.7024 Testing accuracy:0.7890\n",
            "Loss:1.7022 Testing accuracy:0.7890\n",
            "Loss:1.6906 Testing accuracy:0.7880\n",
            "Loss:1.6942 Testing accuracy:0.7880\n",
            "Loss:1.6780 Testing accuracy:0.7880\n",
            "Loss:1.6854 Testing accuracy:0.7880\n",
            "Loss:1.6730 Testing accuracy:0.7890\n",
            "Loss:1.6670 Testing accuracy:0.7900\n",
            "Loss:1.6590 Testing accuracy:0.7900\n",
            "Loss:1.6554 Testing accuracy:0.7880\n",
            "Loss:1.6473 Testing accuracy:0.7890\n",
            "Loss:1.6357 Testing accuracy:0.7890\n",
            "Loss:1.6370 Testing accuracy:0.7890\n",
            "Loss:1.6306 Testing accuracy:0.7890\n",
            "Loss:1.6234 Testing accuracy:0.7900\n",
            "Loss:1.6195 Testing accuracy:0.7890\n",
            "Loss:1.6099 Testing accuracy:0.7900\n",
            "Loss:1.6046 Testing accuracy:0.7910\n",
            "Loss:1.5975 Testing accuracy:0.7900\n",
            "Loss:1.5935 Testing accuracy:0.7910\n",
            "Loss:1.5924 Testing accuracy:0.7910\n",
            "Loss:1.5791 Testing accuracy:0.7910\n",
            "Loss:1.5797 Testing accuracy:0.7910\n",
            "Loss:1.5704 Testing accuracy:0.7890\n",
            "Loss:1.5741 Testing accuracy:0.7890\n",
            "Loss:1.5602 Testing accuracy:0.7890\n",
            "Loss:1.5531 Testing accuracy:0.7900\n",
            "Loss:1.5410 Testing accuracy:0.7900\n",
            "Loss:1.5296 Testing accuracy:0.7890\n",
            "Loss:1.5330 Testing accuracy:0.7890\n",
            "Loss:1.5276 Testing accuracy:0.7890\n",
            "Loss:1.5197 Testing accuracy:0.7890\n",
            "Loss:1.5061 Testing accuracy:0.7910\n",
            "Loss:1.5079 Testing accuracy:0.7930\n",
            "Loss:1.4949 Testing accuracy:0.7930\n",
            "Loss:1.4818 Testing accuracy:0.7920\n",
            "Loss:1.4753 Testing accuracy:0.7930\n",
            "Loss:1.4760 Testing accuracy:0.7940\n",
            "Loss:1.4629 Testing accuracy:0.7940\n",
            "Loss:1.4509 Testing accuracy:0.7940\n",
            "Loss:1.4628 Testing accuracy:0.7940\n",
            "Loss:1.4426 Testing accuracy:0.7940\n",
            "Loss:1.4456 Testing accuracy:0.7930\n",
            "Loss:1.4387 Testing accuracy:0.7920\n",
            "Loss:1.4227 Testing accuracy:0.7930\n",
            "Loss:1.4329 Testing accuracy:0.7920\n",
            "Loss:1.4119 Testing accuracy:0.7910\n",
            "Loss:1.4059 Testing accuracy:0.7910\n",
            "Loss:1.3949 Testing accuracy:0.7910\n",
            "Loss:1.3871 Testing accuracy:0.7910\n",
            "Loss:1.3824 Testing accuracy:0.7910\n",
            "Loss:1.3663 Testing accuracy:0.7910\n",
            "Loss:1.3664 Testing accuracy:0.7910\n",
            "Loss:1.3715 Testing accuracy:0.7900\n",
            "Loss:1.3635 Testing accuracy:0.7900\n",
            "Loss:1.3482 Testing accuracy:0.7900\n",
            "Loss:1.3534 Testing accuracy:0.7900\n",
            "Loss:1.3453 Testing accuracy:0.7890\n",
            "Loss:1.3387 Testing accuracy:0.7890\n",
            "Loss:1.3163 Testing accuracy:0.7910\n",
            "Loss:1.3177 Testing accuracy:0.7910\n",
            "Loss:1.3056 Testing accuracy:0.7920\n",
            "Loss:1.3002 Testing accuracy:0.7920\n",
            "Loss:1.3029 Testing accuracy:0.7930\n",
            "Loss:1.2821 Testing accuracy:0.7940\n",
            "Loss:1.2678 Testing accuracy:0.7940\n",
            "Loss:1.2845 Testing accuracy:0.7950\n",
            "Loss:1.2633 Testing accuracy:0.7960\n",
            "Loss:1.2743 Testing accuracy:0.7960\n",
            "Loss:1.2607 Testing accuracy:0.7970\n",
            "Loss:1.2404 Testing accuracy:0.7970\n",
            "Loss:1.2496 Testing accuracy:0.7980\n",
            "Loss:1.2194 Testing accuracy:0.7980\n",
            "Loss:1.2167 Testing accuracy:0.7970\n",
            "Loss:1.2129 Testing accuracy:0.7980\n",
            "Loss:1.1862 Testing accuracy:0.7970\n",
            "Loss:1.2189 Testing accuracy:0.7980\n",
            "Loss:1.1934 Testing accuracy:0.7990\n",
            "Loss:1.1779 Testing accuracy:0.7980\n",
            "Loss:1.1727 Testing accuracy:0.8000\n",
            "Loss:1.1605 Testing accuracy:0.7990\n",
            "Loss:1.1626 Testing accuracy:0.7990\n",
            "Loss:1.1469 Testing accuracy:0.7990\n",
            "Loss:1.1470 Testing accuracy:0.7990\n",
            "Loss:1.1600 Testing accuracy:0.7990\n",
            "Loss:1.1354 Testing accuracy:0.7990\n",
            "Loss:1.1279 Testing accuracy:0.8010\n",
            "Loss:1.1007 Testing accuracy:0.8000\n",
            "Loss:1.1106 Testing accuracy:0.8000\n",
            "Loss:1.0976 Testing accuracy:0.8010\n",
            "Loss:1.0907 Testing accuracy:0.8010\n",
            "Loss:1.0987 Testing accuracy:0.8010\n",
            "Loss:1.0888 Testing accuracy:0.8010\n",
            "Loss:1.0945 Testing accuracy:0.8010\n",
            "Loss:1.0426 Testing accuracy:0.8010\n",
            "Loss:1.0685 Testing accuracy:0.8010\n",
            "Loss:1.0635 Testing accuracy:0.8000\n",
            "Loss:1.0686 Testing accuracy:0.7990\n",
            "Loss:1.0462 Testing accuracy:0.8000\n",
            "Loss:1.0445 Testing accuracy:0.8000\n",
            "Loss:1.0251 Testing accuracy:0.8000\n",
            "Loss:1.0398 Testing accuracy:0.8000\n",
            "Loss:1.0087 Testing accuracy:0.8000\n",
            "Loss:1.0121 Testing accuracy:0.8010\n",
            "Loss:0.9948 Testing accuracy:0.8010\n",
            "Loss:0.9989 Testing accuracy:0.8020\n",
            "Loss:1.0143 Testing accuracy:0.8030\n",
            "Loss:0.9740 Testing accuracy:0.8030\n",
            "Loss:0.9761 Testing accuracy:0.8030\n",
            "Loss:0.9700 Testing accuracy:0.8030\n",
            "Loss:0.9551 Testing accuracy:0.8030\n",
            "Loss:0.9627 Testing accuracy:0.8030\n",
            "Loss:0.9327 Testing accuracy:0.8030\n",
            "Loss:0.9634 Testing accuracy:0.8030\n",
            "Loss:0.9414 Testing accuracy:0.8030\n",
            "Loss:0.9293 Testing accuracy:0.8030\n",
            "Loss:0.9281 Testing accuracy:0.8030\n",
            "Loss:0.9185 Testing accuracy:0.8030\n",
            "Loss:0.8997 Testing accuracy:0.8060\n",
            "Loss:0.9015 Testing accuracy:0.8060\n",
            "Loss:0.8963 Testing accuracy:0.8060\n",
            "Loss:0.8890 Testing accuracy:0.8060\n",
            "Loss:0.8964 Testing accuracy:0.8060\n",
            "Loss:0.9039 Testing accuracy:0.8070\n",
            "Loss:0.8901 Testing accuracy:0.8070\n",
            "Loss:0.8537 Testing accuracy:0.8070\n",
            "Loss:0.8720 Testing accuracy:0.8090\n",
            "Loss:0.8574 Testing accuracy:0.8100\n",
            "Loss:0.8593 Testing accuracy:0.8100\n",
            "Loss:0.8516 Testing accuracy:0.8110\n",
            "Loss:0.8390 Testing accuracy:0.8110\n",
            "Loss:0.8302 Testing accuracy:0.8130\n",
            "Loss:0.8107 Testing accuracy:0.8140\n",
            "Loss:0.8261 Testing accuracy:0.8140\n",
            "Loss:0.8272 Testing accuracy:0.8150\n",
            "Loss:0.8108 Testing accuracy:0.8150\n",
            "Loss:0.7985 Testing accuracy:0.8150\n",
            "Loss:0.7984 Testing accuracy:0.8150\n",
            "Loss:0.7832 Testing accuracy:0.8140\n",
            "Loss:0.8039 Testing accuracy:0.8130\n",
            "Loss:0.8034 Testing accuracy:0.8130\n",
            "Loss:0.7730 Testing accuracy:0.8140\n",
            "Loss:0.7861 Testing accuracy:0.8120\n",
            "Loss:0.7660 Testing accuracy:0.8120\n",
            "Loss:0.7613 Testing accuracy:0.8110\n",
            "Loss:0.7806 Testing accuracy:0.8110\n",
            "Loss:0.7456 Testing accuracy:0.8090\n",
            "Loss:0.7524 Testing accuracy:0.8080\n",
            "Loss:0.7446 Testing accuracy:0.8070\n",
            "Loss:0.7398 Testing accuracy:0.8070\n",
            "Loss:0.7167 Testing accuracy:0.8050\n",
            "Loss:0.7509 Testing accuracy:0.8050\n",
            "Loss:0.7264 Testing accuracy:0.8070\n",
            "Loss:0.7331 Testing accuracy:0.8080\n",
            "Loss:0.7200 Testing accuracy:0.8080\n",
            "Loss:0.7202 Testing accuracy:0.8090\n",
            "Loss:0.7257 Testing accuracy:0.8090\n",
            "Loss:0.7150 Testing accuracy:0.8090\n",
            "Loss:0.7009 Testing accuracy:0.8090\n",
            "Loss:0.6926 Testing accuracy:0.8120\n",
            "Loss:0.6941 Testing accuracy:0.8140\n",
            "Loss:0.6929 Testing accuracy:0.8140\n",
            "Loss:0.6881 Testing accuracy:0.8150\n",
            "Loss:0.6439 Testing accuracy:0.8150\n",
            "Loss:0.6664 Testing accuracy:0.8150\n",
            "Loss:0.6675 Testing accuracy:0.8160\n",
            "Loss:0.6699 Testing accuracy:0.8170\n",
            "Loss:0.6548 Testing accuracy:0.8170\n",
            "Loss:0.6691 Testing accuracy:0.8170\n",
            "Loss:0.6621 Testing accuracy:0.8170\n",
            "Loss:0.6432 Testing accuracy:0.8170\n",
            "Loss:0.6666 Testing accuracy:0.8170\n",
            "Loss:0.6372 Testing accuracy:0.8170\n",
            "Loss:0.6371 Testing accuracy:0.8170\n",
            "Loss:0.6384 Testing accuracy:0.8160\n",
            "Loss:0.6085 Testing accuracy:0.8150\n",
            "Loss:0.6408 Testing accuracy:0.8160\n",
            "Loss:0.6340 Testing accuracy:0.8160\n",
            "Loss:0.6022 Testing accuracy:0.8160\n",
            "Loss:0.6081 Testing accuracy:0.8150\n",
            "Loss:0.6069 Testing accuracy:0.8160\n",
            "Loss:0.6083 Testing accuracy:0.8150\n",
            "Loss:0.6094 Testing accuracy:0.8140\n",
            "Loss:0.5827 Testing accuracy:0.8130\n",
            "Loss:0.5702 Testing accuracy:0.8130\n",
            "Loss:0.5814 Testing accuracy:0.8120\n",
            "Loss:0.5849 Testing accuracy:0.8120\n",
            "Loss:0.5685 Testing accuracy:0.8120\n",
            "Loss:0.5671 Testing accuracy:0.8110\n",
            "Loss:0.5452 Testing accuracy:0.8120\n",
            "Loss:0.5712 Testing accuracy:0.8120\n",
            "Loss:0.5624 Testing accuracy:0.8130\n",
            "Loss:0.5748 Testing accuracy:0.8150\n",
            "Loss:0.5591 Testing accuracy:0.8160\n",
            "Loss:0.5568 Testing accuracy:0.8160\n",
            "Loss:0.5549 Testing accuracy:0.8150\n",
            "Loss:0.5359 Testing accuracy:0.8140\n",
            "Loss:0.5450 Testing accuracy:0.8160\n",
            "Loss:0.5330 Testing accuracy:0.8180\n",
            "Loss:0.5493 Testing accuracy:0.8200\n",
            "Loss:0.5435 Testing accuracy:0.8210\n",
            "Loss:0.5216 Testing accuracy:0.8220\n",
            "Loss:0.5366 Testing accuracy:0.8220\n",
            "Loss:0.5182 Testing accuracy:0.8220\n",
            "Loss:0.5311 Testing accuracy:0.8230\n",
            "Loss:0.5418 Testing accuracy:0.8220\n",
            "Loss:0.5293 Testing accuracy:0.8230\n",
            "Loss:0.5155 Testing accuracy:0.8250\n",
            "Loss:0.5164 Testing accuracy:0.8240\n",
            "Loss:0.5037 Testing accuracy:0.8240\n",
            "Loss:0.5016 Testing accuracy:0.8230\n",
            "Loss:0.5100 Testing accuracy:0.8240\n",
            "Loss:0.5110 Testing accuracy:0.8230\n",
            "Loss:0.5033 Testing accuracy:0.8230\n",
            "Loss:0.5012 Testing accuracy:0.8230\n",
            "Loss:0.4954 Testing accuracy:0.8230\n",
            "Loss:0.4882 Testing accuracy:0.8230\n",
            "Loss:0.4903 Testing accuracy:0.8230\n",
            "Loss:0.4838 Testing accuracy:0.8240\n",
            "Loss:0.4803 Testing accuracy:0.8230\n",
            "Loss:0.4742 Testing accuracy:0.8230\n",
            "Loss:0.4769 Testing accuracy:0.8230\n",
            "Loss:0.4847 Testing accuracy:0.8230\n",
            "Loss:0.4642 Testing accuracy:0.8230\n",
            "Loss:0.4847 Testing accuracy:0.8230\n",
            "Loss:0.4656 Testing accuracy:0.8230\n",
            "Loss:0.4767 Testing accuracy:0.8240\n",
            "Loss:0.4629 Testing accuracy:0.8220\n",
            "Loss:0.4609 Testing accuracy:0.8230\n",
            "Loss:0.4363 Testing accuracy:0.8230\n",
            "Loss:0.4419 Testing accuracy:0.8220\n",
            "Loss:0.4607 Testing accuracy:0.8230\n",
            "Loss:0.4486 Testing accuracy:0.8240\n",
            "Loss:0.4258 Testing accuracy:0.8240\n",
            "Loss:0.4338 Testing accuracy:0.8220\n",
            "Loss:0.4430 Testing accuracy:0.8220\n",
            "Loss:0.4353 Testing accuracy:0.8210\n",
            "Loss:0.4282 Testing accuracy:0.8210\n",
            "Loss:0.4481 Testing accuracy:0.8180\n",
            "Loss:0.4245 Testing accuracy:0.8170\n",
            "Loss:0.4367 Testing accuracy:0.8170\n",
            "Loss:0.4392 Testing accuracy:0.8170\n",
            "Loss:0.4296 Testing accuracy:0.8170\n",
            "Loss:0.4318 Testing accuracy:0.8170\n",
            "Loss:0.4213 Testing accuracy:0.8180\n",
            "Loss:0.4210 Testing accuracy:0.8190\n",
            "Loss:0.4088 Testing accuracy:0.8190\n",
            "Loss:0.4039 Testing accuracy:0.8210\n",
            "Loss:0.3889 Testing accuracy:0.8220\n",
            "Loss:0.4181 Testing accuracy:0.8220\n",
            "Loss:0.4121 Testing accuracy:0.8220\n",
            "Loss:0.4107 Testing accuracy:0.8210\n",
            "Loss:0.4313 Testing accuracy:0.8220\n",
            "Loss:0.3951 Testing accuracy:0.8230\n",
            "Loss:0.3914 Testing accuracy:0.8240\n",
            "Loss:0.4034 Testing accuracy:0.8240\n",
            "Loss:0.4087 Testing accuracy:0.8220\n",
            "Loss:0.3943 Testing accuracy:0.8220\n",
            "Loss:0.3922 Testing accuracy:0.8220\n",
            "Loss:0.3840 Testing accuracy:0.8220\n",
            "Loss:0.3748 Testing accuracy:0.8220\n",
            "Loss:0.3780 Testing accuracy:0.8220\n",
            "Loss:0.3749 Testing accuracy:0.8230\n",
            "Loss:0.3768 Testing accuracy:0.8220\n",
            "Loss:0.3833 Testing accuracy:0.8210\n",
            "Loss:0.3773 Testing accuracy:0.8200\n",
            "Loss:0.3530 Testing accuracy:0.8210\n",
            "Loss:0.3826 Testing accuracy:0.8200\n",
            "Loss:0.4110 Testing accuracy:0.8210\n",
            "Loss:0.3598 Testing accuracy:0.8220\n",
            "Loss:0.3682 Testing accuracy:0.8220\n",
            "Loss:0.3634 Testing accuracy:0.8230\n",
            "Loss:0.3539 Testing accuracy:0.8220\n",
            "Loss:0.3629 Testing accuracy:0.8200\n",
            "Loss:0.3706 Testing accuracy:0.8210\n",
            "Loss:0.3554 Testing accuracy:0.8200\n",
            "Loss:0.3523 Testing accuracy:0.8180\n",
            "Loss:0.3767 Testing accuracy:0.8190\n",
            "Loss:0.3501 Testing accuracy:0.8180\n",
            "Loss:0.3448 Testing accuracy:0.8180\n",
            "Loss:0.3551 Testing accuracy:0.8180\n",
            "Loss:0.3523 Testing accuracy:0.8190\n",
            "Loss:0.3459 Testing accuracy:0.8200\n",
            "Loss:0.3475 Testing accuracy:0.8210\n",
            "Loss:0.3317 Testing accuracy:0.8210\n",
            "Loss:0.3335 Testing accuracy:0.8190\n",
            "Loss:0.3535 Testing accuracy:0.8190\n",
            "Loss:0.3237 Testing accuracy:0.8190\n",
            "Loss:0.3654 Testing accuracy:0.8200\n",
            "Loss:0.3272 Testing accuracy:0.8200\n",
            "Loss:0.3276 Testing accuracy:0.8190\n",
            "Loss:0.3452 Testing accuracy:0.8190\n",
            "Loss:0.3302 Testing accuracy:0.8180\n",
            "Loss:0.3225 Testing accuracy:0.8170\n",
            "Loss:0.3336 Testing accuracy:0.8190\n",
            "Loss:0.3265 Testing accuracy:0.8170\n",
            "Loss:0.3406 Testing accuracy:0.8170\n",
            "Loss:0.3216 Testing accuracy:0.8170\n",
            "Loss:0.3310 Testing accuracy:0.8180\n",
            "Loss:0.3141 Testing accuracy:0.8190\n",
            "Loss:0.3272 Testing accuracy:0.8180\n",
            "Loss:0.3305 Testing accuracy:0.8180\n",
            "Loss:0.3179 Testing accuracy:0.8190\n",
            "Loss:0.3191 Testing accuracy:0.8180\n",
            "Loss:0.3302 Testing accuracy:0.8190\n",
            "Loss:0.2950 Testing accuracy:0.8180\n",
            "Loss:0.2954 Testing accuracy:0.8190\n",
            "Loss:0.3224 Testing accuracy:0.8170\n",
            "Loss:0.2833 Testing accuracy:0.8170\n",
            "Loss:0.3266 Testing accuracy:0.8170\n",
            "Loss:0.3177 Testing accuracy:0.8180\n",
            "Loss:0.3047 Testing accuracy:0.8190\n",
            "Loss:0.2950 Testing accuracy:0.8190\n",
            "Loss:0.2968 Testing accuracy:0.8190\n",
            "Loss:0.3011 Testing accuracy:0.8200\n",
            "Loss:0.2989 Testing accuracy:0.8210\n",
            "Loss:0.2983 Testing accuracy:0.8210\n",
            "Loss:0.3092 Testing accuracy:0.8210\n",
            "Loss:0.2943 Testing accuracy:0.8210\n",
            "Loss:0.3133 Testing accuracy:0.8210\n",
            "Loss:0.2924 Testing accuracy:0.8210\n",
            "Loss:0.2854 Testing accuracy:0.8200\n",
            "Loss:0.3031 Testing accuracy:0.8200\n",
            "Loss:0.2987 Testing accuracy:0.8200\n",
            "Loss:0.2866 Testing accuracy:0.8200\n",
            "Loss:0.2876 Testing accuracy:0.8200\n",
            "Loss:0.2937 Testing accuracy:0.8200\n",
            "Loss:0.2949 Testing accuracy:0.8200\n",
            "Loss:0.2845 Testing accuracy:0.8190\n",
            "Loss:0.2685 Testing accuracy:0.8190\n",
            "Loss:0.2693 Testing accuracy:0.8170\n",
            "Loss:0.2783 Testing accuracy:0.8180\n",
            "Loss:0.2761 Testing accuracy:0.8180\n",
            "Loss:0.2614 Testing accuracy:0.8180\n"
          ]
        }
      ],
      "source": [
        "for epoch in range(400):\n",
        "    loss = train()\n",
        "    test_acc = test()\n",
        "    print(f\"Loss:{loss:.4f} Testing accuracy:{test_acc:.4f}\")"
      ],
      "id": "142e2595"
    },
    {
      "cell_type": "markdown",
      "metadata": {
        "id": "ec8ff377"
      },
      "source": [
        "## Performance comparison\n",
        "Recall that in the previous examples, we performed node classification in 3 different ways.\n",
        "1. Bag of word + MLP with `Accuracy:0.6`\n",
        "2. Node2vec + Logistic regression with `Accuracy:0.703`\n",
        "3. Node2vec with Bag of word + Logistic regression with `Accuracy:0.707`\n",
        "4. GraphSAGE: with Bag of word + Logistic regression with `Accuracy:0.791`\n",
        "4. GCN: end-to-end learning with `Accuracy:0.812`\n",
        "\n",
        "From this example, we clearly figure out that using GCN with end2end training leads to the best performance since the feature extracted could be learned to optimize the node classification task."
      ],
      "id": "ec8ff377"
    },
    {
      "cell_type": "markdown",
      "metadata": {
        "id": "8916526c"
      },
      "source": [
        "## Visualization"
      ],
      "id": "8916526c"
    },
    {
      "cell_type": "code",
      "execution_count": null,
      "metadata": {
        "id": "1b3bfb53",
        "outputId": "e94432ff-b0ce-4343-989b-6ae69e4cc30f",
        "colab": {
          "base_uri": "https://localhost:8080/",
          "height": 653
        }
      },
      "outputs": [
        {
          "output_type": "display_data",
          "data": {
            "text/plain": [
              "<Figure size 800x800 with 1 Axes>"
            ],
            "image/png": "[encoded data removed]"
          },
          "metadata": {}
        }
      ],
      "source": [
        "from sklearn.manifold import TSNE\n",
        "import matplotlib.pyplot as plt\n",
        "\n",
        "@torch.no_grad()\n",
        "def plot_points(colors):\n",
        "    model.eval()\n",
        "    z = model(data.x, data.edge_index, data.edge_weight)\n",
        "    z = TSNE(n_components=2).fit_transform(z.cpu().numpy())\n",
        "    y = data.y.cpu().numpy()\n",
        "\n",
        "    plt.figure(figsize=(8, 8))\n",
        "    for i in range(dataset.num_classes):\n",
        "        plt.scatter(z[y == i, 0], z[y == i, 1], s=20, color=colors[i])\n",
        "    plt.axis('off')\n",
        "    plt.show()\n",
        "\n",
        "colors = [\n",
        "    '#ffc0cb', '#bada55', '#008080', '#420420', '#7fe5f0', '#065535',\n",
        "    '#ffd700'\n",
        "]\n",
        "plot_points(colors)"
      ],
      "id": "1b3bfb53"
    },
    {
      "cell_type": "markdown",
      "metadata": {
        "id": "083d55a1"
      },
      "source": [
        "### Compare GCN embedding with Node2vec embedding\n",
        "The following scatter plot is the node embedding we obtained from Node2vec in the previous example\n",
        "![](https://i.imgur.com/7RG5zO6.png)"
      ],
      "id": "083d55a1"
    },
    {
      "cell_type": "markdown",
      "metadata": {
        "id": "88980f9d"
      },
      "source": [
        "## Stacking multiple GCN layers to obtain higher order neighbor information\n",
        "\n"
      ],
      "id": "88980f9d"
    },
    {
      "cell_type": "code",
      "execution_count": null,
      "metadata": {
        "id": "e2822ae7"
      },
      "outputs": [],
      "source": [
        "class GCN(torch.nn.Module):\n",
        "    def __init__(self, in_channels, hidden_channels, out_channels):\n",
        "        super().__init__()\n",
        "        self.conv1 = GCNConv(in_channels, hidden_channels, cached=True,\n",
        "                             normalize=True)\n",
        "        self.conv2 = GCNConv(hidden_channels, hidden_channels, cached=True,\n",
        "                             normalize=True)\n",
        "        self.conv3 = GCNConv(hidden_channels, out_channels, cached=True,\n",
        "                             normalize=True)\n",
        "\n",
        "    def forward(self, x, edge_index, edge_weight=None):\n",
        "        x = F.dropout(x, p=0.5, training=self.training)\n",
        "        x = self.conv1(x, edge_index, edge_weight).relu()\n",
        "        x = F.dropout(x, p=0.5, training=self.training)\n",
        "        x = self.conv2(x, edge_index, edge_weight).relu()\n",
        "        x = F.dropout(x, p=0.5, training=self.training)\n",
        "        x = self.conv3(x, edge_index, edge_weight)\n",
        "        return x"
      ],
      "id": "e2822ae7"
    },
    {
      "cell_type": "code",
      "execution_count": null,
      "metadata": {
        "id": "5d786d2b",
        "outputId": "edd12a09-91bf-488b-f475-8a5c18d49924",
        "colab": {
          "base_uri": "https://localhost:8080/"
        }
      },
      "outputs": [
        {
          "output_type": "stream",
          "name": "stdout",
          "text": [
            "GCN(\n",
            "  (conv1): GCNConv(1433, 64)\n",
            "  (conv2): GCNConv(64, 64)\n",
            "  (conv3): GCNConv(64, 7)\n",
            ")\n"
          ]
        }
      ],
      "source": [
        "dim = 64\n",
        "model = GCN(dataset.num_features, dim, dataset.num_classes)\n",
        "model, data = model.to(device), data.to(device)\n",
        "optimizer = torch.optim.Adam(model.parameters(),weight_decay=1e-4)\n",
        "print(model)"
      ],
      "id": "5d786d2b"
    },
    {
      "cell_type": "code",
      "execution_count": null,
      "metadata": {
        "id": "cbca650d",
        "outputId": "a7850e16-5e64-448c-a0aa-7c20f1570972",
        "colab": {
          "base_uri": "https://localhost:8080/"
        }
      },
      "outputs": [
        {
          "output_type": "stream",
          "name": "stdout",
          "text": [
            "Loss:1.9460 Testing accuracy:0.1840\n",
            "Loss:1.9454 Testing accuracy:0.2620\n",
            "Loss:1.9447 Testing accuracy:0.3300\n",
            "Loss:1.9437 Testing accuracy:0.3620\n",
            "Loss:1.9431 Testing accuracy:0.3740\n",
            "Loss:1.9418 Testing accuracy:0.3710\n",
            "Loss:1.9413 Testing accuracy:0.3590\n",
            "Loss:1.9402 Testing accuracy:0.3750\n",
            "Loss:1.9390 Testing accuracy:0.3880\n",
            "Loss:1.9376 Testing accuracy:0.4080\n",
            "Loss:1.9370 Testing accuracy:0.4170\n",
            "Loss:1.9352 Testing accuracy:0.4450\n",
            "Loss:1.9342 Testing accuracy:0.5050\n",
            "Loss:1.9313 Testing accuracy:0.5510\n",
            "Loss:1.9300 Testing accuracy:0.5850\n",
            "Loss:1.9263 Testing accuracy:0.6090\n",
            "Loss:1.9258 Testing accuracy:0.6320\n",
            "Loss:1.9224 Testing accuracy:0.6450\n",
            "Loss:1.9198 Testing accuracy:0.6490\n",
            "Loss:1.9199 Testing accuracy:0.6590\n",
            "Loss:1.9154 Testing accuracy:0.6600\n",
            "Loss:1.9123 Testing accuracy:0.6570\n",
            "Loss:1.9118 Testing accuracy:0.6590\n",
            "Loss:1.9077 Testing accuracy:0.6590\n",
            "Loss:1.9070 Testing accuracy:0.6680\n",
            "Loss:1.9049 Testing accuracy:0.6760\n",
            "Loss:1.9014 Testing accuracy:0.6850\n",
            "Loss:1.8907 Testing accuracy:0.6920\n",
            "Loss:1.8918 Testing accuracy:0.6890\n",
            "Loss:1.8905 Testing accuracy:0.6980\n",
            "Loss:1.8836 Testing accuracy:0.6980\n",
            "Loss:1.8787 Testing accuracy:0.7000\n",
            "Loss:1.8779 Testing accuracy:0.6970\n",
            "Loss:1.8714 Testing accuracy:0.7020\n",
            "Loss:1.8695 Testing accuracy:0.7000\n",
            "Loss:1.8615 Testing accuracy:0.7030\n",
            "Loss:1.8535 Testing accuracy:0.7000\n",
            "Loss:1.8519 Testing accuracy:0.6970\n",
            "Loss:1.8418 Testing accuracy:0.7040\n",
            "Loss:1.8459 Testing accuracy:0.7060\n",
            "Loss:1.8369 Testing accuracy:0.7080\n",
            "Loss:1.8327 Testing accuracy:0.7080\n",
            "Loss:1.8171 Testing accuracy:0.7110\n",
            "Loss:1.8152 Testing accuracy:0.7110\n",
            "Loss:1.8133 Testing accuracy:0.7130\n",
            "Loss:1.8073 Testing accuracy:0.7160\n",
            "Loss:1.7963 Testing accuracy:0.7140\n",
            "Loss:1.7864 Testing accuracy:0.7190\n",
            "Loss:1.7792 Testing accuracy:0.7170\n",
            "Loss:1.7611 Testing accuracy:0.7170\n",
            "Loss:1.7725 Testing accuracy:0.7140\n",
            "Loss:1.7562 Testing accuracy:0.7140\n",
            "Loss:1.7531 Testing accuracy:0.7180\n",
            "Loss:1.7490 Testing accuracy:0.7120\n",
            "Loss:1.7275 Testing accuracy:0.7120\n",
            "Loss:1.7183 Testing accuracy:0.7100\n",
            "Loss:1.7006 Testing accuracy:0.7170\n",
            "Loss:1.7060 Testing accuracy:0.7190\n",
            "Loss:1.6930 Testing accuracy:0.7220\n",
            "Loss:1.6680 Testing accuracy:0.7240\n",
            "Loss:1.6681 Testing accuracy:0.7290\n",
            "Loss:1.6690 Testing accuracy:0.7330\n",
            "Loss:1.6403 Testing accuracy:0.7360\n",
            "Loss:1.6323 Testing accuracy:0.7350\n",
            "Loss:1.6352 Testing accuracy:0.7360\n",
            "Loss:1.5961 Testing accuracy:0.7370\n",
            "Loss:1.6002 Testing accuracy:0.7400\n",
            "Loss:1.5856 Testing accuracy:0.7460\n",
            "Loss:1.5762 Testing accuracy:0.7480\n",
            "Loss:1.5485 Testing accuracy:0.7500\n",
            "Loss:1.5684 Testing accuracy:0.7510\n",
            "Loss:1.5169 Testing accuracy:0.7510\n",
            "Loss:1.5196 Testing accuracy:0.7530\n",
            "Loss:1.5177 Testing accuracy:0.7540\n",
            "Loss:1.4901 Testing accuracy:0.7570\n",
            "Loss:1.4838 Testing accuracy:0.7610\n",
            "Loss:1.4523 Testing accuracy:0.7610\n",
            "Loss:1.4620 Testing accuracy:0.7610\n",
            "Loss:1.4211 Testing accuracy:0.7660\n",
            "Loss:1.4068 Testing accuracy:0.7710\n",
            "Loss:1.4101 Testing accuracy:0.7740\n",
            "Loss:1.3997 Testing accuracy:0.7750\n",
            "Loss:1.3767 Testing accuracy:0.7790\n",
            "Loss:1.3741 Testing accuracy:0.7840\n",
            "Loss:1.3225 Testing accuracy:0.7890\n",
            "Loss:1.3298 Testing accuracy:0.7920\n",
            "Loss:1.3008 Testing accuracy:0.7920\n",
            "Loss:1.3143 Testing accuracy:0.7920\n",
            "Loss:1.2968 Testing accuracy:0.7910\n",
            "Loss:1.2580 Testing accuracy:0.7900\n",
            "Loss:1.2528 Testing accuracy:0.7870\n",
            "Loss:1.2243 Testing accuracy:0.7850\n",
            "Loss:1.2097 Testing accuracy:0.7860\n",
            "Loss:1.2093 Testing accuracy:0.7860\n",
            "Loss:1.1876 Testing accuracy:0.7860\n",
            "Loss:1.1815 Testing accuracy:0.7870\n",
            "Loss:1.1563 Testing accuracy:0.7870\n",
            "Loss:1.1314 Testing accuracy:0.7900\n",
            "Loss:1.1336 Testing accuracy:0.7920\n",
            "Loss:1.1272 Testing accuracy:0.7950\n",
            "Loss:1.0873 Testing accuracy:0.7960\n",
            "Loss:1.0761 Testing accuracy:0.7980\n",
            "Loss:1.0402 Testing accuracy:0.7970\n",
            "Loss:1.0562 Testing accuracy:0.7950\n",
            "Loss:1.0110 Testing accuracy:0.7950\n",
            "Loss:0.9752 Testing accuracy:0.7930\n",
            "Loss:0.9995 Testing accuracy:0.7960\n",
            "Loss:0.9576 Testing accuracy:0.7970\n",
            "Loss:0.9530 Testing accuracy:0.7980\n",
            "Loss:0.9626 Testing accuracy:0.7960\n",
            "Loss:0.9552 Testing accuracy:0.7950\n",
            "Loss:0.8927 Testing accuracy:0.7940\n",
            "Loss:0.9226 Testing accuracy:0.7950\n",
            "Loss:0.9184 Testing accuracy:0.7930\n",
            "Loss:0.8957 Testing accuracy:0.7920\n",
            "Loss:0.8589 Testing accuracy:0.7900\n",
            "Loss:0.8538 Testing accuracy:0.7860\n",
            "Loss:0.8015 Testing accuracy:0.7870\n",
            "Loss:0.7870 Testing accuracy:0.7880\n",
            "Loss:0.8033 Testing accuracy:0.7890\n",
            "Loss:0.7995 Testing accuracy:0.7900\n",
            "Loss:0.7940 Testing accuracy:0.7910\n",
            "Loss:0.8158 Testing accuracy:0.7920\n",
            "Loss:0.7830 Testing accuracy:0.7970\n",
            "Loss:0.7500 Testing accuracy:0.8040\n",
            "Loss:0.7504 Testing accuracy:0.8100\n",
            "Loss:0.6991 Testing accuracy:0.8070\n",
            "Loss:0.7338 Testing accuracy:0.8070\n",
            "Loss:0.7072 Testing accuracy:0.8070\n",
            "Loss:0.7096 Testing accuracy:0.8050\n",
            "Loss:0.6753 Testing accuracy:0.8030\n",
            "Loss:0.6770 Testing accuracy:0.8040\n",
            "Loss:0.6355 Testing accuracy:0.8010\n",
            "Loss:0.6676 Testing accuracy:0.7980\n",
            "Loss:0.6094 Testing accuracy:0.8000\n",
            "Loss:0.6169 Testing accuracy:0.8000\n",
            "Loss:0.6077 Testing accuracy:0.8010\n",
            "Loss:0.5839 Testing accuracy:0.8020\n",
            "Loss:0.5937 Testing accuracy:0.8040\n",
            "Loss:0.5963 Testing accuracy:0.8030\n",
            "Loss:0.5660 Testing accuracy:0.8020\n",
            "Loss:0.5685 Testing accuracy:0.8030\n",
            "Loss:0.5693 Testing accuracy:0.8020\n",
            "Loss:0.5820 Testing accuracy:0.8030\n",
            "Loss:0.5303 Testing accuracy:0.8050\n",
            "Loss:0.5067 Testing accuracy:0.8070\n",
            "Loss:0.5111 Testing accuracy:0.8080\n",
            "Loss:0.4901 Testing accuracy:0.8080\n",
            "Loss:0.5634 Testing accuracy:0.8060\n",
            "Loss:0.5294 Testing accuracy:0.8020\n",
            "Loss:0.4980 Testing accuracy:0.8010\n",
            "Loss:0.5344 Testing accuracy:0.7970\n",
            "Loss:0.4797 Testing accuracy:0.7970\n",
            "Loss:0.4583 Testing accuracy:0.7980\n",
            "Loss:0.4468 Testing accuracy:0.8000\n",
            "Loss:0.4558 Testing accuracy:0.8010\n",
            "Loss:0.4442 Testing accuracy:0.8030\n",
            "Loss:0.4404 Testing accuracy:0.8030\n",
            "Loss:0.4376 Testing accuracy:0.8030\n",
            "Loss:0.4203 Testing accuracy:0.8030\n",
            "Loss:0.4327 Testing accuracy:0.8050\n",
            "Loss:0.4021 Testing accuracy:0.8080\n",
            "Loss:0.4193 Testing accuracy:0.8100\n",
            "Loss:0.4206 Testing accuracy:0.8090\n",
            "Loss:0.4093 Testing accuracy:0.8090\n",
            "Loss:0.3966 Testing accuracy:0.8090\n",
            "Loss:0.3759 Testing accuracy:0.8080\n",
            "Loss:0.3999 Testing accuracy:0.8030\n",
            "Loss:0.3762 Testing accuracy:0.8010\n",
            "Loss:0.3652 Testing accuracy:0.8010\n",
            "Loss:0.3807 Testing accuracy:0.8020\n",
            "Loss:0.3678 Testing accuracy:0.8030\n",
            "Loss:0.3652 Testing accuracy:0.8010\n",
            "Loss:0.3714 Testing accuracy:0.7990\n",
            "Loss:0.3640 Testing accuracy:0.8000\n",
            "Loss:0.3387 Testing accuracy:0.7990\n",
            "Loss:0.3439 Testing accuracy:0.7990\n",
            "Loss:0.3629 Testing accuracy:0.7990\n",
            "Loss:0.3676 Testing accuracy:0.8020\n",
            "Loss:0.3175 Testing accuracy:0.8040\n",
            "Loss:0.3204 Testing accuracy:0.8050\n",
            "Loss:0.2943 Testing accuracy:0.8070\n",
            "Loss:0.3095 Testing accuracy:0.8090\n",
            "Loss:0.3495 Testing accuracy:0.8110\n",
            "Loss:0.3080 Testing accuracy:0.8100\n",
            "Loss:0.3395 Testing accuracy:0.8080\n",
            "Loss:0.3264 Testing accuracy:0.8070\n",
            "Loss:0.3037 Testing accuracy:0.8050\n",
            "Loss:0.2923 Testing accuracy:0.8050\n",
            "Loss:0.3019 Testing accuracy:0.8040\n",
            "Loss:0.2798 Testing accuracy:0.8020\n",
            "Loss:0.2776 Testing accuracy:0.8030\n",
            "Loss:0.2923 Testing accuracy:0.8020\n",
            "Loss:0.2723 Testing accuracy:0.8030\n",
            "Loss:0.2762 Testing accuracy:0.8050\n",
            "Loss:0.2782 Testing accuracy:0.8070\n",
            "Loss:0.3182 Testing accuracy:0.8090\n",
            "Loss:0.3027 Testing accuracy:0.8060\n",
            "Loss:0.2686 Testing accuracy:0.8080\n",
            "Loss:0.2530 Testing accuracy:0.8070\n"
          ]
        }
      ],
      "source": [
        "for epoch in range(200):\n",
        "    loss = train()\n",
        "    test_acc = test()\n",
        "    print(f\"Loss:{loss:.4f} Testing accuracy:{test_acc:.4f}\")"
      ],
      "id": "cbca650d"
    },
    {
      "cell_type": "markdown",
      "metadata": {
        "id": "d347b13c"
      },
      "source": [
        "## Applying different GNN backbone layer\n",
        "The full list of implemented GNN could be found in [here.](https://pytorch-geometric.readthedocs.io/en/latest/modules/nn.html#convolutional-layers)"
      ],
      "id": "d347b13c"
    },
    {
      "cell_type": "code",
      "execution_count": null,
      "metadata": {
        "id": "765f7d34"
      },
      "outputs": [],
      "source": [
        "from torch_geometric.nn import GCNConv,GATConv, GraphSAGE\n",
        "import torch.nn.functional as F\n",
        "\n",
        "class GNN(torch.nn.Module):\n",
        "    def __init__(self, in_channels, hidden_channels, out_channels, gnn_type):\n",
        "        super().__init__()\n",
        "        if gnn_type == \"GCN\":\n",
        "            self.GNN = GCNConv\n",
        "        elif gnn_type == \"SAGE\":\n",
        "            self.GNN = GraphSAGE\n",
        "        elif gnn_type == \"GAT\":\n",
        "            self.GNN = GATConv\n",
        "\n",
        "        self.conv1 = self.GNN(in_channels, hidden_channels)\n",
        "        self.conv2 = self.GNN(hidden_channels, out_channels)\n",
        "\n",
        "    def forward(self, x, edge_index, edge_weight=None):\n",
        "        x = F.dropout(x, p=0.5, training=self.training)\n",
        "        x = self.conv1(x, edge_index, edge_weight).relu()\n",
        "        x = F.dropout(x, p=0.5, training=self.training)\n",
        "        x = self.conv2(x, edge_index, edge_weight)\n",
        "        return x"
      ],
      "id": "765f7d34"
    },
    {
      "cell_type": "code",
      "execution_count": null,
      "metadata": {
        "id": "f37bd755",
        "outputId": "ee9351f4-9d1e-4aef-acbb-d935948002bb",
        "colab": {
          "base_uri": "https://localhost:8080/"
        }
      },
      "outputs": [
        {
          "output_type": "stream",
          "name": "stdout",
          "text": [
            "GNN(\n",
            "  (conv1): GATConv(1433, 32, heads=1)\n",
            "  (conv2): GATConv(32, 7, heads=1)\n",
            ")\n"
          ]
        }
      ],
      "source": [
        "dim = 32\n",
        "gnn_type = \"GAT\"\n",
        "model = GNN(dataset.num_features, dim, dataset.num_classes,gnn_type=gnn_type)\n",
        "model, data = model.to(device), data.to(device)\n",
        "optimizer = torch.optim.Adam(model.parameters())\n",
        "print(model)"
      ],
      "id": "f37bd755"
    },
    {
      "cell_type": "markdown",
      "metadata": {
        "id": "afe00d31"
      },
      "source": [
        "# Practice: Link prediction with GNN\n",
        "1. Try different GNN layer\n",
        "2. Try to optimize the performance by stacking multiple layers\n",
        "3. Report the best accuracy on testing set and the best model configuration(e.g., how many layers?)"
      ],
      "id": "afe00d31"
    },
    {
      "cell_type": "code",
      "execution_count": null,
      "metadata": {
        "id": "cfb91924"
      },
      "outputs": [],
      "source": [
        "# Let's practice how to use GNN for link prediction\n",
        "# First we need to load the Cora dataset\n",
        "\n",
        "import os.path as osp\n",
        "import torch\n",
        "from sklearn.metrics import roc_auc_score\n",
        "import torch_geometric.transforms as T\n",
        "from torch_geometric.datasets import Planetoid\n",
        "from torch_geometric.utils import negative_sampling\n",
        "\n",
        "\n",
        "device = torch.device('cuda' if torch.cuda.is_available() else 'cpu')\n",
        "transform = T.Compose([\n",
        "    T.NormalizeFeatures(),\n",
        "    T.ToDevice(device),\n",
        "    T.RandomLinkSplit(num_val=0.05, num_test=0.1, is_undirected=True,\n",
        "                      add_negative_train_samples=True),\n",
        "])\n",
        "dataset = Planetoid(path, name='Cora', transform=transform)\n",
        "train_data, val_data, test_data = dataset[0]"
      ],
      "id": "cfb91924"
    },
    {
      "cell_type": "code",
      "execution_count": null,
      "metadata": {
        "id": "43bed8c6",
        "colab": {
          "base_uri": "https://localhost:8080/"
        },
        "outputId": "4cff083e-94eb-4b12-ef70-3ebbe5a904f1"
      },
      "outputs": [
        {
          "output_type": "stream",
          "name": "stdout",
          "text": [
            "--------Training data------\n",
            "Data(x=[2708, 1433], edge_index=[2, 8976], y=[2708], train_mask=[2708], val_mask=[2708], test_mask=[2708], edge_label=[8976], edge_label_index=[2, 8976])\n",
            "Training edges:\n",
            "tensor([[ 458,  577,  309,  ..., 2679,  512,  248],\n",
            "        [1953,  849, 2268,  ..., 2193,  988, 1567]], device='cuda:0')\n",
            "Labels\n",
            "tensor([1., 1., 1.,  ..., 0., 0., 0.], device='cuda:0')\n",
            "\n",
            "--------Testing data------\n",
            "Data(x=[2708, 1433], edge_index=[2, 9502], y=[2708], train_mask=[2708], val_mask=[2708], test_mask=[2708], edge_label=[1054], edge_label_index=[2, 1054])\n",
            "Testing edges:\n",
            "tensor([[2139, 1094,  429,  ..., 2299, 2263, 2245],\n",
            "        [2141, 1443, 2041,  ...,  565, 2026, 1128]], device='cuda:0')\n",
            "Labels\n",
            "tensor([1., 1., 1.,  ..., 0., 0., 0.], device='cuda:0')\n"
          ]
        }
      ],
      "source": [
        "print(\"--------Training data------\")\n",
        "print(train_data)\n",
        "print(\"Training edges:\")\n",
        "print(train_data.edge_label_index)\n",
        "print(\"Labels\")\n",
        "print(train_data.edge_label)\n",
        "\n",
        "print()\n",
        "print(\"--------Testing data------\")\n",
        "print(test_data)\n",
        "print(\"Testing edges:\")\n",
        "print(test_data.edge_label_index)\n",
        "print(\"Labels\")\n",
        "print(test_data.edge_label)"
      ],
      "id": "43bed8c6"
    },
    {
      "cell_type": "code",
      "execution_count": null,
      "metadata": {
        "id": "8ccc3487"
      },
      "outputs": [],
      "source": [
        "class MyGNN(torch.nn.Module):\n",
        "    def __init__(self, in_channels, hidden_channels, out_channels):\n",
        "        super().__init__()\n",
        "        ############################################################################\n",
        "        # TODO: Your code here!\n",
        "        # create you GNN layer here.\n",
        "        # try to use different GNN backbone layer or stacking multiple layer to boost performance\n",
        "        self.conv1 = GCNConv(in_channels, hidden_channels)\n",
        "        self.conv2 = GCNConv(hidden_channels, out_channels)\n",
        "\n",
        "        ############################################################################\n",
        "\n",
        "    def forward(self, x, edge_index):\n",
        "        ############################################################################\n",
        "        # TODO: Your code here!\n",
        "        # Apply the forward pass acorrding to your GNN layers\n",
        "        # you shoud return the embedding of each node (x has shape [num_nodes, dim])\n",
        "        x = F.relu(self.conv1(x, edge_index))\n",
        "\n",
        "        return self.conv2(x, edge_index)\n",
        "        ############################################################################\n",
        "\n",
        "    def get_prediction(self,node_embedding, edges):\n",
        "        # In this function, we have the node embedding and edges as input\n",
        "        # The output is to generate a scalar for each pair of edge\n",
        "        # To generate such output, we use the inner product of embeddings of two nodes\n",
        "        # Input shapes:\n",
        "        #      node_embedding: (|V|, out_channels)\n",
        "        #      edges: (2, number of edges)\n",
        "        embedding_first_node = node_embedding[edges[0]]\n",
        "        embedding_second_node = node_embedding[edges[1]]\n",
        "        ############################################################################\n",
        "        # TODO: Your code here!\n",
        "        # implement the element-wise product as edge feature for link prediction\n",
        "        inner_product = torch.sum(embedding_first_node * embedding_second_node, dim=-1)\n",
        "\n",
        "        ############################################################################\n",
        "        return inner_product"
      ],
      "id": "8ccc3487"
    },
    {
      "cell_type": "code",
      "execution_count": null,
      "metadata": {
        "id": "8236b1d0"
      },
      "outputs": [],
      "source": [
        "############################################################################\n",
        "# TODO: Your code here!\n",
        "# initiate your GNN model and select the criterion for link prediction\n",
        "\n",
        "model = MyGNN(dataset.num_features, 128, 64).to(device)\n",
        "optimizer = torch.optim.Adam(params=model.parameters(), lr=0.01)\n",
        "criterion = torch.nn.BCEWithLogitsLoss()\n",
        "############################################################################"
      ],
      "id": "8236b1d0"
    },
    {
      "cell_type": "code",
      "execution_count": null,
      "metadata": {
        "id": "52305879"
      },
      "outputs": [],
      "source": [
        "# Implement the train function\n",
        "def train():\n",
        "    model.train()\n",
        "    optimizer.zero_grad()\n",
        "    embedding = model(train_data.x, train_data.edge_index)\n",
        "\n",
        "    # We perform a new round of negative sampling for every training epoch:\n",
        "    neg_edge_index = negative_sampling(\n",
        "        edge_index=train_data.edge_index, num_nodes=train_data.num_nodes,\n",
        "        num_neg_samples=train_data.edge_label_index.size(1), method='sparse')\n",
        "\n",
        "    edge_label_index = torch.cat(\n",
        "        [train_data.edge_label_index, neg_edge_index],\n",
        "        dim=-1,\n",
        "    )\n",
        "\n",
        "    # Please assign the target for negative edges\n",
        "\n",
        "    edge_label = torch.cat([\n",
        "        train_data.edge_label,\n",
        "        train_data.edge_label.new_zeros(neg_edge_index.size(1))\n",
        "    ], dim=0)\n",
        "\n",
        "    # make prediction\n",
        "    prediction = model.get_prediction(embedding, edge_label_index).view(-1)\n",
        "\n",
        "    # optimization\n",
        "    loss = criterion(prediction, edge_label)\n",
        "    loss.backward()\n",
        "    optimizer.step()\n",
        "    return loss"
      ],
      "id": "52305879"
    },
    {
      "cell_type": "code",
      "execution_count": null,
      "metadata": {
        "id": "ad8d6158"
      },
      "outputs": [],
      "source": [
        "# Implement the test function\n",
        "@torch.no_grad()\n",
        "def test(data):\n",
        "    model.eval()\n",
        "    embedding = model(data.x, data.edge_index)\n",
        "\n",
        "    # use the sigmoid function to normalize our prediction into [0,1]\n",
        "    out = model.get_prediction(embedding, data.edge_label_index).view(-1).sigmoid()\n",
        "    return roc_auc_score(data.edge_label.cpu().numpy(), out.cpu().numpy())"
      ],
      "id": "ad8d6158"
    },
    {
      "cell_type": "code",
      "execution_count": null,
      "metadata": {
        "id": "f60a1f15",
        "scrolled": true,
        "colab": {
          "base_uri": "https://localhost:8080/"
        },
        "outputId": "fb5a1550-3832-432a-9aab-c216ba72496e"
      },
      "outputs": [
        {
          "output_type": "stream",
          "name": "stdout",
          "text": [
            "Epoch: 001, Loss: 0.6932, Val: 0.6887, Test: 0.6625\n",
            "Epoch: 002, Loss: 0.6995, Val: 0.7385, Test: 0.7244\n",
            "Epoch: 003, Loss: 0.6935, Val: 0.6382, Test: 0.6258\n",
            "Epoch: 004, Loss: 0.6933, Val: 0.7086, Test: 0.7165\n",
            "Epoch: 005, Loss: 0.6940, Val: 0.7645, Test: 0.7432\n",
            "Epoch: 006, Loss: 0.6943, Val: 0.7475, Test: 0.7541\n",
            "Epoch: 007, Loss: 0.6941, Val: 0.7331, Test: 0.7416\n",
            "Epoch: 008, Loss: 0.6936, Val: 0.6914, Test: 0.6981\n",
            "Epoch: 009, Loss: 0.6932, Val: 0.7140, Test: 0.7248\n",
            "Epoch: 010, Loss: 0.6930, Val: 0.7310, Test: 0.7373\n",
            "Epoch: 011, Loss: 0.6930, Val: 0.7213, Test: 0.7273\n",
            "Epoch: 012, Loss: 0.6931, Val: 0.7022, Test: 0.7197\n",
            "Epoch: 013, Loss: 0.6930, Val: 0.6898, Test: 0.7150\n",
            "Epoch: 014, Loss: 0.6928, Val: 0.6870, Test: 0.7133\n",
            "Epoch: 015, Loss: 0.6924, Val: 0.6852, Test: 0.7101\n",
            "Epoch: 016, Loss: 0.6919, Val: 0.6911, Test: 0.7070\n",
            "Epoch: 017, Loss: 0.6911, Val: 0.6849, Test: 0.7036\n",
            "Epoch: 018, Loss: 0.6903, Val: 0.6827, Test: 0.6996\n",
            "Epoch: 019, Loss: 0.6893, Val: 0.6776, Test: 0.6946\n",
            "Epoch: 020, Loss: 0.6881, Val: 0.6734, Test: 0.6930\n",
            "Epoch: 021, Loss: 0.6865, Val: 0.6696, Test: 0.6914\n",
            "Epoch: 022, Loss: 0.6846, Val: 0.6702, Test: 0.6941\n",
            "Epoch: 023, Loss: 0.6826, Val: 0.6755, Test: 0.7033\n",
            "Epoch: 024, Loss: 0.6805, Val: 0.6750, Test: 0.7029\n",
            "Epoch: 025, Loss: 0.6790, Val: 0.6821, Test: 0.7086\n",
            "Epoch: 026, Loss: 0.6760, Val: 0.6867, Test: 0.7105\n",
            "Epoch: 027, Loss: 0.6740, Val: 0.6914, Test: 0.7135\n",
            "Epoch: 028, Loss: 0.6698, Val: 0.7015, Test: 0.7166\n",
            "Epoch: 029, Loss: 0.6695, Val: 0.7061, Test: 0.7174\n",
            "Epoch: 030, Loss: 0.6690, Val: 0.7102, Test: 0.7191\n",
            "Epoch: 031, Loss: 0.6658, Val: 0.7175, Test: 0.7213\n",
            "Epoch: 032, Loss: 0.6654, Val: 0.7231, Test: 0.7260\n",
            "Epoch: 033, Loss: 0.6648, Val: 0.7303, Test: 0.7290\n",
            "Epoch: 034, Loss: 0.6641, Val: 0.7364, Test: 0.7318\n",
            "Epoch: 035, Loss: 0.6600, Val: 0.7407, Test: 0.7341\n",
            "Epoch: 036, Loss: 0.6627, Val: 0.7456, Test: 0.7365\n",
            "Epoch: 037, Loss: 0.6591, Val: 0.7502, Test: 0.7388\n",
            "Epoch: 038, Loss: 0.6585, Val: 0.7545, Test: 0.7412\n",
            "Epoch: 039, Loss: 0.6566, Val: 0.7567, Test: 0.7427\n",
            "Epoch: 040, Loss: 0.6562, Val: 0.7616, Test: 0.7447\n",
            "Epoch: 041, Loss: 0.6524, Val: 0.7637, Test: 0.7454\n",
            "Epoch: 042, Loss: 0.6513, Val: 0.7653, Test: 0.7466\n",
            "Epoch: 043, Loss: 0.6533, Val: 0.7672, Test: 0.7473\n",
            "Epoch: 044, Loss: 0.6510, Val: 0.7697, Test: 0.7473\n",
            "Epoch: 045, Loss: 0.6476, Val: 0.7722, Test: 0.7477\n",
            "Epoch: 046, Loss: 0.6501, Val: 0.7738, Test: 0.7486\n",
            "Epoch: 047, Loss: 0.6460, Val: 0.7743, Test: 0.7493\n",
            "Epoch: 048, Loss: 0.6473, Val: 0.7765, Test: 0.7490\n",
            "Epoch: 049, Loss: 0.6445, Val: 0.7785, Test: 0.7482\n",
            "Epoch: 050, Loss: 0.6476, Val: 0.7778, Test: 0.7480\n",
            "Epoch: 051, Loss: 0.6473, Val: 0.7784, Test: 0.7476\n",
            "Epoch: 052, Loss: 0.6429, Val: 0.7786, Test: 0.7469\n",
            "Epoch: 053, Loss: 0.6433, Val: 0.7788, Test: 0.7464\n",
            "Epoch: 054, Loss: 0.6446, Val: 0.7780, Test: 0.7460\n",
            "Epoch: 055, Loss: 0.6439, Val: 0.7788, Test: 0.7451\n",
            "Epoch: 056, Loss: 0.6411, Val: 0.7776, Test: 0.7447\n",
            "Epoch: 057, Loss: 0.6394, Val: 0.7747, Test: 0.7443\n",
            "Epoch: 058, Loss: 0.6435, Val: 0.7785, Test: 0.7433\n",
            "Epoch: 059, Loss: 0.6405, Val: 0.7773, Test: 0.7440\n",
            "Epoch: 060, Loss: 0.6390, Val: 0.7730, Test: 0.7431\n",
            "Epoch: 061, Loss: 0.6430, Val: 0.7791, Test: 0.7445\n",
            "Epoch: 062, Loss: 0.6432, Val: 0.7796, Test: 0.7449\n",
            "Epoch: 063, Loss: 0.6405, Val: 0.7783, Test: 0.7462\n",
            "Epoch: 064, Loss: 0.6424, Val: 0.7758, Test: 0.7462\n",
            "Epoch: 065, Loss: 0.6377, Val: 0.7805, Test: 0.7471\n",
            "Epoch: 066, Loss: 0.6369, Val: 0.7816, Test: 0.7477\n",
            "Epoch: 067, Loss: 0.6367, Val: 0.7792, Test: 0.7494\n",
            "Epoch: 068, Loss: 0.6351, Val: 0.7788, Test: 0.7508\n",
            "Epoch: 069, Loss: 0.6355, Val: 0.7840, Test: 0.7531\n",
            "Epoch: 070, Loss: 0.6313, Val: 0.7845, Test: 0.7546\n",
            "Epoch: 071, Loss: 0.6322, Val: 0.7817, Test: 0.7561\n",
            "Epoch: 072, Loss: 0.6337, Val: 0.7864, Test: 0.7586\n",
            "Epoch: 073, Loss: 0.6334, Val: 0.7898, Test: 0.7613\n",
            "Epoch: 074, Loss: 0.6315, Val: 0.7895, Test: 0.7646\n",
            "Epoch: 075, Loss: 0.6285, Val: 0.7897, Test: 0.7680\n",
            "Epoch: 076, Loss: 0.6315, Val: 0.7967, Test: 0.7717\n",
            "Epoch: 077, Loss: 0.6289, Val: 0.8000, Test: 0.7779\n",
            "Epoch: 078, Loss: 0.6255, Val: 0.8025, Test: 0.7832\n",
            "Epoch: 079, Loss: 0.6225, Val: 0.8053, Test: 0.7875\n",
            "Epoch: 080, Loss: 0.6220, Val: 0.8125, Test: 0.7937\n",
            "Epoch: 081, Loss: 0.6192, Val: 0.8167, Test: 0.8004\n",
            "Epoch: 082, Loss: 0.6210, Val: 0.8146, Test: 0.8038\n",
            "Epoch: 083, Loss: 0.6197, Val: 0.8194, Test: 0.8078\n",
            "Epoch: 084, Loss: 0.6179, Val: 0.8243, Test: 0.8111\n",
            "Epoch: 085, Loss: 0.6162, Val: 0.8240, Test: 0.8142\n",
            "Epoch: 086, Loss: 0.6164, Val: 0.8221, Test: 0.8156\n",
            "Epoch: 087, Loss: 0.6170, Val: 0.8296, Test: 0.8170\n",
            "Epoch: 088, Loss: 0.6145, Val: 0.8326, Test: 0.8188\n",
            "Epoch: 089, Loss: 0.6131, Val: 0.8309, Test: 0.8210\n",
            "Epoch: 090, Loss: 0.6147, Val: 0.8348, Test: 0.8215\n",
            "Epoch: 091, Loss: 0.6088, Val: 0.8397, Test: 0.8229\n",
            "Epoch: 092, Loss: 0.6115, Val: 0.8394, Test: 0.8253\n",
            "Epoch: 093, Loss: 0.6063, Val: 0.8410, Test: 0.8260\n",
            "Epoch: 094, Loss: 0.6037, Val: 0.8476, Test: 0.8265\n",
            "Epoch: 095, Loss: 0.6072, Val: 0.8492, Test: 0.8312\n",
            "Epoch: 096, Loss: 0.6027, Val: 0.8489, Test: 0.8326\n",
            "Epoch: 097, Loss: 0.6033, Val: 0.8544, Test: 0.8320\n",
            "Epoch: 098, Loss: 0.6024, Val: 0.8605, Test: 0.8363\n",
            "Epoch: 099, Loss: 0.5989, Val: 0.8593, Test: 0.8390\n",
            "Epoch: 100, Loss: 0.6001, Val: 0.8592, Test: 0.8378\n",
            "Final Test: 0.8378\n"
          ]
        }
      ],
      "source": [
        "best_val_auc = final_test_auc = 0\n",
        "for epoch in range(1, 101):\n",
        "    loss = train()\n",
        "    val_auc = test(val_data)\n",
        "    test_auc = test(test_data)\n",
        "    if val_auc > best_val_auc:\n",
        "        best_val = val_auc\n",
        "        final_test_auc = test_auc\n",
        "    print(f'Epoch: {epoch:03d}, Loss: {loss:.4f}, Val: {val_auc:.4f}, '\n",
        "          f'Test: {test_auc:.4f}')\n",
        "\n",
        "print(f'Final Test: {final_test_auc:.4f}')\n"
      ],
      "id": "f60a1f15"
    },
    {
      "cell_type": "code",
      "execution_count": null,
      "metadata": {
        "id": "d04e8dfa"
      },
      "outputs": [],
      "source": [],
      "id": "d04e8dfa"
    }
  ],
  "metadata": {
    "colab": {
      "provenance": []
    },
    "kernelspec": {
      "display_name": "Python 3",
      "name": "python3"
    },
    "language_info": {
      "name": "python"
    },
    "accelerator": "GPU",
    "gpuClass": "standard"
  },
  "nbformat": 4,
  "nbformat_minor": 5
}